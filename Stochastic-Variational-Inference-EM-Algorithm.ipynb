{
  "nbformat": 4,
  "nbformat_minor": 0,
  "metadata": {
    "colab": {
      "provenance": [],
      "toc_visible": true
    },
    "kernelspec": {
      "name": "python3",
      "display_name": "Python 3"
    },
    "language_info": {
      "name": "python"
    },
    "accelerator": "GPU"
  },
  "cells": [
    {
      "cell_type": "markdown",
      "source": [
        "# CSC412/2506 (Winter 2022) Probabilistic ML: Homework 3\n",
        "\n",
        "- **Deadline**: 03/22 23:59\n",
        "- **Submission**: You need to submit your solutions through Crowdmark, including all your derivations, plots, and your code. You can produce the files however you like (e.g. $\\LaTeX$, Microsoft Word, etc), as long as it is readable. Points will be deducted if we have a hard time reading your solutions or understanding the structure of your code.\n",
        "- **Collaboration policy**: After attempting the problems on an individual basis, you may discuss and work together on the assignment with up to two classmates. However, **you must write your own code and write up your own solutions individually and explicitly name any collaborators** at the top of the homework."
      ],
      "metadata": {
        "id": "ml0MN3ic5HxA"
      }
    },
    {
      "cell_type": "markdown",
      "source": [
        "## Your Info\n",
        "\n",
        "- **Name:** Huiqin\n",
        "- **Student Number:** 1004724765\n",
        "- **Collaborators:** Ismail Atadinç"
      ],
      "metadata": {
        "id": "zpoL7G6G5QEG"
      }
    },
    {
      "cell_type": "markdown",
      "metadata": {
        "id": "t1RKToQQcX2Q"
      },
      "source": [
        "# 1. [50pts] Stochastic Variational Inference in the TrueSkill Model\n",
        "\n",
        "## Background\n",
        "\n",
        "We'll continue working with [TrueSkill](http://papers.nips.cc/paper/3079-trueskilltm-a-bayesian-skill-rating-system.pdf) model, a player ranking system for competitive games originally developed for Halo 2. Recall the model:\n",
        "\n",
        "\n",
        "## Model definition\n",
        "\n",
        "We assume that each player has a true, but unknown skill $z_i \\in \\mathbb{R}$.\n",
        "We use $N$ to denote the number of players.\n",
        "\n",
        "### The prior:\n",
        "The prior over each player's skill is a standard normal distribution, and all player's skills are *a priori* independent.\n",
        "\n",
        "### The likelihood:\n",
        "For each observed game, the probability that player $i$ beats player $j$, given the player's skills $z_A$ and $z_B$, is:\n",
        "$$p(A \\,\\, \\text{beat} \\,\\, B | z_A, z_B) = \\sigma(z_i - z_j)$$\n",
        "where\n",
        "$$\\sigma(y) = \\frac{1}{1 + \\exp(-y)}$$\n",
        "We chose this function simply because it's close to zero or one when the player's skills are very different, and equals one-half when the player skills are the same.  This likelihood function is the only thing that gives meaning to the latent skill variables $z_1 \\dots z_N$.\n",
        "\n",
        "There can be more than one game played between a pair of players. The outcome of each game is independent given the players' skills.\n",
        "We use $M$ to denote the number of games.\n"
      ]
    },
    {
      "cell_type": "code",
      "execution_count": null,
      "metadata": {
        "id": "n6euHm_h4Voi",
        "colab": {
          "base_uri": "https://localhost:8080/"
        },
        "outputId": "70bd7e11-3df9-45d2-cd50-216f12a82903"
      },
      "outputs": [
        {
          "output_type": "stream",
          "name": "stdout",
          "text": [
            "Requirement already satisfied: wget in /usr/local/lib/python3.7/dist-packages (3.2)\n"
          ]
        }
      ],
      "source": [
        "!pip install wget\n",
        "import os\n",
        "import os.path\n",
        "import matplotlib.pyplot as plt\n",
        "import wget\n",
        "import jax\n",
        "import jax.numpy as np\n",
        "import scipy.io\n",
        "import scipy.stats\n",
        "import matplotlib.pyplot as plt\n",
        "\n",
        "from jax import jit, grad\n",
        "from jax.ops import index_update\n",
        "from jax.random import PRNGKey, normal, split, uniform\n",
        "from jax.scipy.stats import norm\n",
        "from jax import random, vmap\n",
        "from jax.example_libraries import optimizers\n",
        "from tqdm import trange, tqdm_notebook\n",
        "from functools import partial"
      ]
    },
    {
      "cell_type": "markdown",
      "metadata": {
        "id": "-bf1iLXTkXd5"
      },
      "source": [
        "# 1.1 [0pts] Implementing the TrueSkill Model\n",
        "\n"
      ]
    },
    {
      "cell_type": "markdown",
      "metadata": {
        "id": "A62Y2IWg39ix"
      },
      "source": [
        "This part was mostly done in Assignment 2. We will recall some useful functions.\n",
        "\n",
        "**a)** The function $\\texttt{log_joint_prior}$ computes the log of the prior, jointly evaluated over all player's skills."
      ]
    },
    {
      "cell_type": "code",
      "execution_count": null,
      "metadata": {
        "id": "PDmHDiac4Rpr"
      },
      "outputs": [],
      "source": [
        "def log_joint_prior(zs_array):\n",
        "    return np.sum(norm.logpdf(zs_array, 0.0, 1.0), axis=-1)"
      ]
    },
    {
      "cell_type": "markdown",
      "metadata": {
        "id": "AAbAgxMl4X2q"
      },
      "source": [
        "**b)** The function `logp_a_beats_b` that, given a pair of skills $z_a$ and $z_b$, evaluates the log-likelihood that player with skill $z_a$ beat player with skill $z_b$ under the model detailed above.\n",
        "\n",
        "To ensure numerical stability, we use the function `np.log1p` that computes $\\log(1 + x)$ in a numerically stable way.  Or even better, use `np.logaddexp`."
      ]
    },
    {
      "cell_type": "code",
      "execution_count": null,
      "metadata": {
        "id": "V7nUXkYl_f4T"
      },
      "outputs": [],
      "source": [
        "def logp_a_beats_b(z_a, z_b):\n",
        "    return -np.logaddexp(0.0, z_b - z_a)\n",
        "\n",
        "def log_prior_over_2_players(z1, z2):\n",
        "    return norm.logpdf(z1, 0.0, 1.0) + norm.logpdf(z2, 0.0, 1.0)\n",
        "\n",
        "def prior_over_2_players(z1, z2):\n",
        "    return np.exp(log_prior_over_2_players(z1, z2))\n",
        "\n",
        "def log_posterior_A_beat_B(z1, z2):\n",
        "    return log_prior_over_2_players(z1, z2) + logp_a_beats_b(z1, z2)\n",
        "\n",
        "def posterior_A_beat_B(z1, z2):\n",
        "    return np.exp(log_posterior_A_beat_B(z1, z2))\n",
        "\n",
        "def log_posterior_A_beat_B_10_times(z1, z2):\n",
        "    return log_prior_over_2_players(z1, z2) + 10.0 * logp_a_beats_b(z1, z2)\n",
        "\n",
        "def posterior_A_beat_B_10_times(z1, z2):\n",
        "    return np.exp(log_posterior_A_beat_B_10_times(z1, z2))\n",
        "\n",
        "def log_posterior_beat_each_other_10_times(z1, z2):\n",
        "    return log_prior_over_2_players(z1, z2) \\\n",
        "        + 10.* logp_a_beats_b(z1, z2) \\\n",
        "        + 10.* logp_a_beats_b(z2, z1)\n",
        "\n",
        "def posterior_beat_each_other_10_times(z1, z2):\n",
        "    return np.exp(log_posterior_beat_each_other_10_times(z1, z2))"
      ]
    },
    {
      "cell_type": "markdown",
      "source": [
        "The following functions will be used for plotting.  Note that `plot_2d_fun` can now take an optional second function, so you can compare two functions."
      ],
      "metadata": {
        "id": "hA77ZVR5SgGs"
      }
    },
    {
      "cell_type": "code",
      "execution_count": null,
      "metadata": {
        "id": "at7JEyWs_QRK"
      },
      "outputs": [],
      "source": [
        "# Plotting helper functions for free\n",
        "def plot_isocontours(ax, func, xlimits=[-3, 3], ylimits=[-3, 3], numticks=101, cmap=\"summer\"):\n",
        "    x = np.linspace(*xlimits, num=numticks)\n",
        "    y = np.linspace(*ylimits, num=numticks)\n",
        "    X, Y = np.meshgrid(x, y)\n",
        "    zs = func(X.ravel(), Y.ravel())\n",
        "    Z = zs.reshape(X.shape)\n",
        "    plt.contour(X, Y, Z, cmap=cmap)\n",
        "    ax.set_yticks([])\n",
        "    ax.set_xticks([])\n",
        "\n",
        "def plot_2d_fun(f, x_axis_label=\"\", y_axis_label=\"\", f2=None, scatter_pts=None):\n",
        "    # This is the function your code should call.\n",
        "    # f() should take two arguments.\n",
        "    fig = plt.figure(figsize=(8,8), facecolor='white')\n",
        "    ax = fig.add_subplot(111, frameon=False)\n",
        "    ax.set_xlabel(x_axis_label)\n",
        "    ax.set_ylabel(y_axis_label)\n",
        "    plot_isocontours(ax, f)\n",
        "    if f2 is not None:\n",
        "      plot_isocontours(ax, f2, cmap='winter')\n",
        "\n",
        "    if scatter_pts is not None:\n",
        "      plt.scatter(scatter_pts[:,0], scatter_pts[:, 1])\n",
        "    plt.plot([3, -3], [3, -3], 'b--')   # Line of equal skill\n",
        "    plt.show(block=True)\n",
        "    plt.draw()    "
      ]
    },
    {
      "cell_type": "markdown",
      "metadata": {
        "id": "nm-SM6Fc4yz8"
      },
      "source": [
        "## **1.2 [25pts]** Stochastic Variational Inference on Two Players and Toy Data\n",
        "\n",
        "One nice thing about a Bayesian approach is that it separates the model specification from the approximate inference strategy.\n",
        "The original Trueskill paper from 2007 used message passing.\n",
        "\n",
        "In this question we will  approximate posterior distributions with gradient-based stochastic variational inference.\n",
        "\n",
        "The parameters are $\\phi = (\\mu,\\log(\\sigma))$. Notice that instead of $\\sigma$ (which is constrained to be positive), we work with $\\log(\\sigma)$, removing the constraint. This way, we can do unconstrained gradient-based optimization.\n",
        "\n"
      ]
    },
    {
      "cell_type": "markdown",
      "metadata": {
        "id": "K-ri8HRQ461m"
      },
      "source": [
        "**a) [15pts]** Implement the missing lines in the below code, to complete the evidence lower bound function and the reparameterized sampler for the approximate posterior.\n",
        "\n",
        "Hint 1: You must use the reparametrization trick in your sampler if you want your gradients to be unbiased.\n",
        "\n",
        "Hint 2: Instead of including batch dimensions, you can simply use the `vmap` higher-order function, which takes in a function and returns another one that broadcasts the first function along a new axis.\n",
        "\n",
        "Hint 3: If you're worried you got these wrong, you can check that the sampler matches the log pdf by plotting a histogram of samples against a plot of the pdf."
      ]
    },
    {
      "cell_type": "code",
      "execution_count": null,
      "metadata": {
        "id": "kZlCOViq5Ahf"
      },
      "outputs": [],
      "source": [
        "def diag_gaussian_sample(rng, mean, log_std):\n",
        "  # Take a single sample from a diagonal multivariate Gaussian.\n",
        "  return mean + np.exp(log_std) * random.normal(rng, mean.shape) # TODO.  You might want to use random.normal(), but remember\n",
        "  # you must use the reparameterization trick.  Also remember that\n",
        "  # we are parameterizing the _log_ of the standard deviation.\n",
        "\n",
        "def diag_gaussian_logpdf(x, mean, log_std):\n",
        "  # Evaluate the density of single point on a diagonal multivariate Gaussian.\n",
        "  return np.sum(norm.logpdf(x, mean, np.exp(log_std)))# TODO\n",
        "\n",
        "def elbo(logprob, rng, mean, log_std):\n",
        "  # Single-sample Monte Carlo estimate of the variational lower bound.\n",
        "  sampled_zs = diag_gaussian_sample(rng, mean, log_std)# TODO\n",
        "  return logprob(sampled_zs) - diag_gaussian_logpdf(sampled_zs, mean, log_std) # TODO \n",
        "\n",
        "def batch_elbo(logprob, rng, params, num_samples):\n",
        "  # Average over a batch of random samples. \n",
        "  rngs = random.split(rng, num_samples)\n",
        "  vectorized_elbo = vmap(partial(elbo, logprob), in_axes=(0, None, None))\n",
        "  elbo_estimates = vectorized_elbo(rngs, *params)\n",
        "  return np.mean(elbo_estimates)# TODO: Use simple Monte Carlo to combine your estimates\n",
        "  "
      ]
    },
    {
      "cell_type": "markdown",
      "metadata": {
        "id": "lfAD3ffb5CD9"
      },
      "source": [
        "\n",
        "**b) [4pts]** Write a loss function called $\\texttt{objective}$  that takes variational distribution parameters and an array of game outcomes, and returns an unbiased estimate of the negative elbo using $\\texttt{num_samples_per_iter}$ samples, to approximate the joint posterior over skills conditioned on observing player A winning 10 games.\n",
        "\n",
        "Note: We want a _negative_ ELBO estimate, because the convention in optimization is to minimize functions, and we want to maximize the ELBO."
      ]
    },
    {
      "cell_type": "code",
      "source": [
        "# Hyperparameters\n",
        "num_players = 2\n",
        "n_iters = 800\n",
        "stepsize = 0.0001\n",
        "num_samples_per_iter = 50\n",
        "key = PRNGKey(0)\n",
        "\n",
        "def log_posterior_A_beat_B_10_times_1_arg(z1z2):\n",
        "  return log_posterior_A_beat_B_10_times(z1z2[0], z1z2[1])\n",
        "\n",
        "def objective(params, t):  # The loss function to be minimized.\n",
        "  rng = random.PRNGKey(t)\n",
        "  return -batch_elbo(log_posterior_A_beat_B_10_times_1_arg,rng, params, num_samples_per_iter) # TODO.  Hint:  This can be done in one line."
      ],
      "metadata": {
        "id": "j-Qt2vqvKgAN"
      },
      "execution_count": null,
      "outputs": []
    },
    {
      "cell_type": "markdown",
      "source": [
        "**c) [1pts]** Initialize a set of variational parameters and optimize them to approximate the joint where we observe player A winning 10 games. Report the final loss. Also plot the optimized variational approximation contours and the target distribution on the same axes.\n",
        "\n",
        "Hint:  Any initialization should be fine.  How many variational parameters do you need?"
      ],
      "metadata": {
        "id": "ixGDUDjwKnWd"
      }
    },
    {
      "cell_type": "code",
      "source": [
        "random.normal(key, shape = [2])"
      ],
      "metadata": {
        "colab": {
          "base_uri": "https://localhost:8080/"
        },
        "id": "QziSwdqBotgi",
        "outputId": "4a173858-b37d-4fb0-be4c-9c78c2152ebd"
      },
      "execution_count": null,
      "outputs": [
        {
          "output_type": "execute_result",
          "data": {
            "text/plain": [
              "DeviceArray([-0.78476596,  0.85644484], dtype=float32)"
            ]
          },
          "metadata": {},
          "execution_count": 124
        }
      ]
    },
    {
      "cell_type": "code",
      "execution_count": null,
      "metadata": {
        "id": "biW5JiZq5EXc",
        "colab": {
          "base_uri": "https://localhost:8080/",
          "height": 1000
        },
        "outputId": "3bef9fc3-c898-43c8-e1a8-8e7e7a00684d"
      },
      "outputs": [
        {
          "output_type": "stream",
          "name": "stdout",
          "text": [
            "Optimizing variational parameters...\n"
          ]
        },
        {
          "output_type": "stream",
          "name": "stderr",
          "text": [
            "  3%|▎         | 26/800 [00:01<00:27, 28.26it/s]"
          ]
        },
        {
          "output_type": "stream",
          "name": "stdout",
          "text": [
            "Iteration 0 lower bound 4.32203483581543\n",
            "Iteration 25 lower bound 4.572614669799805\n"
          ]
        },
        {
          "output_type": "stream",
          "name": "stderr",
          "text": [
            " 10%|▉         | 76/800 [00:01<00:08, 81.90it/s]"
          ]
        },
        {
          "output_type": "stream",
          "name": "stdout",
          "text": [
            "Iteration 50 lower bound 3.392493486404419\n",
            "Iteration 75 lower bound 3.1366708278656006\n"
          ]
        },
        {
          "output_type": "stream",
          "name": "stderr",
          "text": [
            " 19%|█▉        | 150/800 [00:01<00:03, 185.25it/s]"
          ]
        },
        {
          "output_type": "stream",
          "name": "stdout",
          "text": [
            "Iteration 100 lower bound 2.9265551567077637\n",
            "Iteration 125 lower bound 3.0638656616210938\n",
            "Iteration 150 lower bound 2.9614224433898926"
          ]
        },
        {
          "output_type": "stream",
          "name": "stderr",
          "text": [
            "\r 22%|██▎       | 180/800 [00:01<00:03, 181.42it/s]"
          ]
        },
        {
          "output_type": "stream",
          "name": "stdout",
          "text": [
            "\n",
            "Iteration 175 lower bound 2.932877540588379\n"
          ]
        },
        {
          "output_type": "stream",
          "name": "stderr",
          "text": [
            " 29%|██▊       | 229/800 [00:02<00:03, 173.20it/s]"
          ]
        },
        {
          "output_type": "stream",
          "name": "stdout",
          "text": [
            "Iteration 200 lower bound 2.9296324253082275\n",
            "Iteration 225 lower bound 3.040489673614502\n"
          ]
        },
        {
          "output_type": "stream",
          "name": "stderr",
          "text": [
            " 34%|███▍      | 276/800 [00:02<00:03, 166.46it/s]"
          ]
        },
        {
          "output_type": "stream",
          "name": "stdout",
          "text": [
            "Iteration 250 lower bound 2.90809965133667\n",
            "Iteration 275 lower bound 3.0254130363464355\n"
          ]
        },
        {
          "output_type": "stream",
          "name": "stderr",
          "text": [
            " 42%|████▏     | 335/800 [00:02<00:02, 196.93it/s]"
          ]
        },
        {
          "output_type": "stream",
          "name": "stdout",
          "text": [
            "Iteration 300 lower bound 2.933720588684082\n",
            "Iteration 325 lower bound 2.915977716445923\n"
          ]
        },
        {
          "output_type": "stream",
          "name": "stderr",
          "text": [
            " 47%|████▋     | 377/800 [00:02<00:02, 182.27it/s]"
          ]
        },
        {
          "output_type": "stream",
          "name": "stdout",
          "text": [
            "Iteration 350 lower bound 3.0472412109375\n",
            "Iteration 375 lower bound 3.0245940685272217\n"
          ]
        },
        {
          "output_type": "stream",
          "name": "stderr",
          "text": [
            " 53%|█████▎    | 426/800 [00:03<00:01, 189.84it/s]"
          ]
        },
        {
          "output_type": "stream",
          "name": "stdout",
          "text": [
            "Iteration 400 lower bound 2.90017032623291\n",
            "Iteration 425 lower bound 3.0051774978637695\n"
          ]
        },
        {
          "output_type": "stream",
          "name": "stderr",
          "text": [
            " 60%|█████▉    | 476/800 [00:03<00:01, 196.77it/s]"
          ]
        },
        {
          "output_type": "stream",
          "name": "stdout",
          "text": [
            "Iteration 450 lower bound 2.9029064178466797\n",
            "Iteration 475 lower bound 3.0870468616485596\n"
          ]
        },
        {
          "output_type": "stream",
          "name": "stderr",
          "text": [
            " 68%|██████▊   | 547/800 [00:03<00:00, 259.32it/s]"
          ]
        },
        {
          "output_type": "stream",
          "name": "stdout",
          "text": [
            "Iteration 500 lower bound 2.9341259002685547\n",
            "Iteration 525 lower bound 2.8127901554107666\n",
            "Iteration 550 lower bound 3.142521381378174\n"
          ]
        },
        {
          "output_type": "stream",
          "name": "stderr",
          "text": [
            " 75%|███████▌  | 603/800 [00:03<00:00, 220.88it/s]"
          ]
        },
        {
          "output_type": "stream",
          "name": "stdout",
          "text": [
            "Iteration 575 lower bound 3.099686861038208\n",
            "Iteration 600 lower bound 2.7920751571655273\n"
          ]
        },
        {
          "output_type": "stream",
          "name": "stderr",
          "text": [
            " 81%|████████▏ | 651/800 [00:04<00:00, 190.47it/s]"
          ]
        },
        {
          "output_type": "stream",
          "name": "stdout",
          "text": [
            "Iteration 625 lower bound 2.9612951278686523\n",
            "Iteration 650 lower bound 3.0898995399475098\n"
          ]
        },
        {
          "output_type": "stream",
          "name": "stderr",
          "text": [
            " 88%|████████▊ | 701/800 [00:04<00:00, 176.98it/s]"
          ]
        },
        {
          "output_type": "stream",
          "name": "stdout",
          "text": [
            "Iteration 675 lower bound 2.9484963417053223\n",
            "Iteration 700 lower bound 2.8852999210357666\n"
          ]
        },
        {
          "output_type": "stream",
          "name": "stderr",
          "text": [
            " 94%|█████████▍| 751/800 [00:04<00:00, 174.27it/s]"
          ]
        },
        {
          "output_type": "stream",
          "name": "stdout",
          "text": [
            "Iteration 725 lower bound 2.948615074157715\n",
            "Iteration 750 lower bound 2.867049217224121\n"
          ]
        },
        {
          "output_type": "stream",
          "name": "stderr",
          "text": [
            "100%|██████████| 800/800 [00:05<00:00, 159.56it/s]\n"
          ]
        },
        {
          "output_type": "stream",
          "name": "stdout",
          "text": [
            "Iteration 775 lower bound 2.976224660873413\n",
            "Finali Iteration 799 lower bound 2.9113426208496094\n"
          ]
        },
        {
          "output_type": "display_data",
          "data": {
            "text/plain": [
              "<Figure size 576x576 with 1 Axes>"
            ],
            "image/png": "[encoded data removed]"
          },
          "metadata": {}
        },
        {
          "output_type": "display_data",
          "data": {
            "text/plain": [
              "<Figure size 432x288 with 0 Axes>"
            ]
          },
          "metadata": {}
        }
      ],
      "source": [
        "def callback(params, t):\n",
        "  if t % 25 == 0:\n",
        "    print(\"Iteration {} lower bound {}\".format(t, objective(params, t)))\n",
        "\n",
        "# Set up optimizer.\n",
        "D = 2\n",
        "init_mean     = np.zeros(D)\n",
        "init_log_std  = random.normal(key, shape = [D]) # TODO.\n",
        "init_params = (init_mean, init_log_std)\n",
        "opt_init, opt_update, get_params = optimizers.momentum(step_size=0.1, mass=0.9)\n",
        "opt_state = opt_init(init_params)\n",
        "\n",
        "@jit\n",
        "def update(i, opt_state):\n",
        "    params = get_params(opt_state) \n",
        "    gradient = grad(objective)(params, i)\n",
        "    return opt_update(i, gradient, opt_state)\n",
        "\n",
        "# Main loop.\n",
        "print(\"Optimizing variational parameters...\")\n",
        "for t in trange(0, n_iters):\n",
        "    opt_state = update(t, opt_state)\n",
        "    params = get_params(opt_state)\n",
        "    callback(params, t)\n",
        "\n",
        "print(\"Finali Iteration {} lower bound {}\".format(n_iters-1, objective(params, n_iters-1)))\n",
        "\n",
        "def approx_posterior_2d(z1, z2):\n",
        "    # The approximate posterior\n",
        "    mean, logstd = params\n",
        "    return np.exp(diag_gaussian_logpdf(np.array([z1, z2]), mean, logstd))\n",
        "\n",
        "approx_posterior_2d_batched = vmap(approx_posterior_2d, in_axes=(0, 0))\n",
        "\n",
        "plot_2d_fun(posterior_A_beat_B_10_times, \"Player A Skill\", \"Player B Skill\",\n",
        "            f2=approx_posterior_2d_batched)"
      ]
    },
    {
      "cell_type": "markdown",
      "metadata": {
        "id": "sCmqGbeK5iAf"
      },
      "source": [
        "**d) [3pt]** Write a loss function called $\\texttt{objective}$  that takes variational distribution parameters and an array of game outcomes, and returns a negative elbo estimate using simple Monte carlo with $\\texttt{num_samples_per_iter}$ samples, to approximate the joint where we observe player A winning 10 games and player B winning 10 games.\n",
        "\n",
        "Hint:  You can find analogous functions in the code above.\n"
      ]
    },
    {
      "cell_type": "code",
      "source": [
        "# Hyperparameters\n",
        "n_iters = 100\n",
        "stepsize = 0.0001\n",
        "num_samples_per_iter = 50\n",
        "key = PRNGKey(0)\n",
        "\n",
        "def log_posterior_beat_each_other_10_times_1_arg(z1z2):\n",
        "  return log_posterior_beat_each_other_10_times(z1z2[0],z1z2[1]) # TODO\n",
        "\n",
        "def objective(params, t):\n",
        "  rng = random.PRNGKey(t)\n",
        "  return -batch_elbo(log_posterior_beat_each_other_10_times_1_arg,rng, params, num_samples_per_iter)# TODO"
      ],
      "metadata": {
        "id": "5Zz6DkOacXDC"
      },
      "execution_count": null,
      "outputs": []
    },
    {
      "cell_type": "markdown",
      "source": [
        "**e) [2pt]** Run the code below to optimize, and report the final loss. Also plot the optimized variational approximation contours and the target distribution on the same axes.\n",
        "\n",
        "Write one or two sentences describing the joint settings of skills that are plausible under the true posterior, but which are not plausible under the approximate posterior.\n",
        "\n",
        "Finally, answer with one or two sentences:  Would changing the variational approximate posterior from a fully-factorized (diagonal covariance) Gaussian to a non-factorized (fully parameterized covariance) Gaussian make a better approximation in this instance?"
      ],
      "metadata": {
        "id": "_V42MMIscvMs"
      }
    },
    {
      "cell_type": "code",
      "execution_count": null,
      "metadata": {
        "id": "ksjggALU5gWx",
        "colab": {
          "base_uri": "https://localhost:8080/",
          "height": 619
        },
        "outputId": "9ef1be38-b8da-406f-832c-757b272dea73"
      },
      "outputs": [
        {
          "output_type": "stream",
          "name": "stdout",
          "text": [
            "Optimizing variational parameters...\n"
          ]
        },
        {
          "output_type": "stream",
          "name": "stderr",
          "text": [
            " 51%|█████     | 51/100 [00:01<00:00, 56.14it/s]"
          ]
        },
        {
          "output_type": "stream",
          "name": "stdout",
          "text": [
            "Iteration 0 lower bound 17.624521255493164\n",
            "Iteration 25 lower bound 15.784345626831055\n",
            "Iteration 50 lower bound 15.823675155639648\n",
            "Iteration 75 lower bound 15.860443115234375\n"
          ]
        },
        {
          "output_type": "stream",
          "name": "stderr",
          "text": [
            "\r100%|██████████| 100/100 [00:01<00:00, 74.82it/s]\n"
          ]
        },
        {
          "output_type": "stream",
          "name": "stdout",
          "text": [
            "Finali Iteration 99 lower bound 15.642051696777344\n"
          ]
        },
        {
          "output_type": "display_data",
          "data": {
            "text/plain": [
              "<Figure size 576x576 with 1 Axes>"
            ],
            "image/png": "[encoded data removed]"
          },
          "metadata": {}
        },
        {
          "output_type": "display_data",
          "data": {
            "text/plain": [
              "<Figure size 432x288 with 0 Axes>"
            ]
          },
          "metadata": {}
        }
      ],
      "source": [
        "@jit\n",
        "def update(i, opt_state):\n",
        "    params = get_params(opt_state)\n",
        "    gradient = grad(objective)(params, i)\n",
        "    return opt_update(i, gradient, opt_state)\n",
        "\n",
        "# Main loop.\n",
        "print(\"Optimizing variational parameters...\")\n",
        "for t in trange(0, n_iters):\n",
        "    opt_state = update(t, opt_state)\n",
        "    params = get_params(opt_state)\n",
        "    callback(params, t)\n",
        "print(\"Finali Iteration {} lower bound {}\".format(n_iters-1, objective(params, n_iters-1)))\n",
        "\n",
        "\n",
        "def approx_posterior_2d(z1, z2):\n",
        "    mean, logstd = params\n",
        "    return np.exp(diag_gaussian_logpdf(np.array([z1, z2]), mean, logstd))\n",
        "\n",
        "approx_posterior_2d_batched = vmap(approx_posterior_2d, in_axes=(0, 0))\n",
        "\n",
        "plot_2d_fun(posterior_beat_each_other_10_times, \"Player A Skill\", \"Player B Skill\",\n",
        "            f2=approx_posterior_2d_batched)\n"
      ]
    },
    {
      "cell_type": "markdown",
      "source": [
        "1. The true posterior shows that skills of A and B are very close to each other and they are likely at the same level, but the approximation posterior does not show tis.\\\n",
        "2. Yes, because a fully parameterized Gaussian captures more information."
      ],
      "metadata": {
        "id": "2htIrfLqBMiL"
      }
    },
    {
      "cell_type": "markdown",
      "metadata": {
        "id": "rrCmtd_b51Jf"
      },
      "source": [
        "## 1.3 [25pts] Approximate inference conditioned on real data\n",
        "\n",
        "The dataset from $\\texttt{tennis_data.mat}$ contains data on 1801 tennis games amongst 107 players:\n",
        " - W is a 107 by 1 matrix, whose $i$’th entry is the name of player $i$.\n",
        " - G is a 1801 by 2 matrix of game outcomes (actually tennis matches), one row per game.\n",
        "\n",
        "The first column contains the indices of the players who won.\n",
        "The second column contains the indices of the player who lost.\n",
        "\n",
        "\n",
        "\n"
      ]
    },
    {
      "cell_type": "code",
      "execution_count": null,
      "metadata": {
        "id": "9Dbf_GOZ7ejb",
        "colab": {
          "base_uri": "https://localhost:8080/"
        },
        "outputId": "7de2756f-8f3a-4636-eded-bf19aa27c353"
      },
      "outputs": [
        {
          "output_type": "stream",
          "name": "stdout",
          "text": [
            "[0 1]\n",
            "[array(['Rafael-Nadal'], dtype='<U12')]\n"
          ]
        }
      ],
      "source": [
        "wget.download(\"https://probmlcourse.github.io/csc412/assignments/assignment_2/tennis_data.mat\")\n",
        "data = scipy.io.loadmat('tennis_data.mat')\n",
        "\n",
        "games = data['G'] - 1 # A list of pairs of player numbers, representing game outcomes. (shape (1081, 2))\n",
        "names = data['W']     # A list of names of players, corresponding to the player numbers. (shape (107, 1))\n",
        "\n",
        "print(games[0,:])\n",
        "print(names[0])"
      ]
    },
    {
      "cell_type": "markdown",
      "metadata": {
        "id": "dkYB8hS07fOW"
      },
      "source": [
        "\n",
        "\n",
        "**a) [0pt]** Assuming all game outcomes are i.i.d. conditioned on all players' skills, the function $\\texttt{log_games_likelihood}$ takes a batch of player skills $\\texttt{zs}$ and a collection of observed games $\\texttt{games}$ and gives the total log-likelihood for all those observations given all the skills.\n"
      ]
    },
    {
      "cell_type": "code",
      "execution_count": null,
      "metadata": {
        "id": "pkW93RBf7pru"
      },
      "outputs": [],
      "source": [
        "def log_games_likelihood(zs, games):\n",
        "  # matches is an array of size (num_games x 2)\n",
        "  # zs is an array of size (num_players, num_samples)\n",
        "\n",
        "  winning_player_ixs = games[:,0]\n",
        "  losing_player_ixs = games[:,1]\n",
        "\n",
        "  winning_player_skills = zs[winning_player_ixs] \n",
        "  losing_player_skills = zs[losing_player_ixs] \n",
        "  log_likelihoods = logp_a_beats_b(winning_player_skills, losing_player_skills) \n",
        "  return np.sum(log_likelihoods)"
      ]
    },
    {
      "cell_type": "code",
      "execution_count": null,
      "metadata": {
        "id": "uaPEulQoAndL"
      },
      "outputs": [],
      "source": [
        "def log_joint_probability(zs):\n",
        "    return log_joint_prior(zs) + log_games_likelihood(zs, games)"
      ]
    },
    {
      "cell_type": "markdown",
      "metadata": {
        "id": "aUWILTA18BRn"
      },
      "source": [
        "**b) [4pt]** Write a new objective function like the one from the previous question. \n",
        "\n",
        "Below, we initialize a variational distribution and fit it to the joint distribution with all the observed tennis games from the dataset. Report the final negative ELBO estimate after optimization."
      ]
    },
    {
      "cell_type": "code",
      "source": [
        "# Hyperparameters\n",
        "num_players = 107\n",
        "n_iters = 500\n",
        "stepsize = 0.0001\n",
        "num_samples_per_iter = 150\n",
        "key = PRNGKey(0)\n",
        "\n",
        "def objective(params, t):\n",
        "  rng = random.PRNGKey(t)\n",
        "  return -batch_elbo(log_joint_probability,rng, params, num_samples_per_iter)# TODO"
      ],
      "metadata": {
        "id": "qsCQUJCFd2Eb"
      },
      "execution_count": null,
      "outputs": []
    },
    {
      "cell_type": "markdown",
      "source": [
        "**c) [1pts]** Optimize, and report the final loss. "
      ],
      "metadata": {
        "id": "O3ep43C5d_CT"
      }
    },
    {
      "cell_type": "code",
      "execution_count": null,
      "metadata": {
        "id": "ock35XuW8EK8",
        "colab": {
          "base_uri": "https://localhost:8080/"
        },
        "outputId": "51d88fb3-8157-469b-fe59-c8cf75e476bf"
      },
      "outputs": [
        {
          "output_type": "stream",
          "name": "stdout",
          "text": [
            "Optimizing variational parameters...\n"
          ]
        },
        {
          "output_type": "stream",
          "name": "stderr",
          "text": [
            "  5%|▌         | 26/500 [00:02<00:27, 17.48it/s]"
          ]
        },
        {
          "output_type": "stream",
          "name": "stdout",
          "text": [
            "Iteration 0 lower bound 1186.4822998046875\n",
            "Iteration 25 lower bound 1172.8236083984375\n"
          ]
        },
        {
          "output_type": "stream",
          "name": "stderr",
          "text": [
            " 15%|█▌        | 76/500 [00:02<00:06, 61.30it/s]"
          ]
        },
        {
          "output_type": "stream",
          "name": "stdout",
          "text": [
            "Iteration 50 lower bound 1146.538330078125\n",
            "Iteration 75 lower bound 1144.3675537109375\n"
          ]
        },
        {
          "output_type": "stream",
          "name": "stderr",
          "text": [
            " 25%|██▌       | 126/500 [00:02<00:03, 103.82it/s]"
          ]
        },
        {
          "output_type": "stream",
          "name": "stdout",
          "text": [
            "Iteration 100 lower bound 1144.565673828125\n",
            "Iteration 125 lower bound 1144.3046875\n"
          ]
        },
        {
          "output_type": "stream",
          "name": "stderr",
          "text": [
            " 35%|███▌      | 176/500 [00:02<00:02, 124.13it/s]"
          ]
        },
        {
          "output_type": "stream",
          "name": "stdout",
          "text": [
            "Iteration 150 lower bound 1144.0537109375\n",
            "Iteration 175 lower bound 1144.3070068359375\n"
          ]
        },
        {
          "output_type": "stream",
          "name": "stderr",
          "text": [
            " 45%|████▌     | 226/500 [00:03<00:01, 154.61it/s]"
          ]
        },
        {
          "output_type": "stream",
          "name": "stdout",
          "text": [
            "Iteration 200 lower bound 1144.236328125\n",
            "Iteration 225 lower bound 1144.291748046875\n"
          ]
        },
        {
          "output_type": "stream",
          "name": "stderr",
          "text": [
            " 55%|█████▌    | 276/500 [00:03<00:01, 173.29it/s]"
          ]
        },
        {
          "output_type": "stream",
          "name": "stdout",
          "text": [
            "Iteration 250 lower bound 1143.934814453125\n",
            "Iteration 275 lower bound 1144.21728515625\n"
          ]
        },
        {
          "output_type": "stream",
          "name": "stderr",
          "text": [
            " 65%|██████▌   | 326/500 [00:03<00:01, 170.05it/s]"
          ]
        },
        {
          "output_type": "stream",
          "name": "stdout",
          "text": [
            "Iteration 300 lower bound 1144.195068359375\n",
            "Iteration 325 lower bound 1144.046875\n"
          ]
        },
        {
          "output_type": "stream",
          "name": "stderr",
          "text": [
            " 75%|███████▌  | 376/500 [00:04<00:00, 168.85it/s]"
          ]
        },
        {
          "output_type": "stream",
          "name": "stdout",
          "text": [
            "Iteration 350 lower bound 1144.3035888671875\n",
            "Iteration 375 lower bound 1144.3499755859375\n"
          ]
        },
        {
          "output_type": "stream",
          "name": "stderr",
          "text": [
            " 85%|████████▌ | 426/500 [00:04<00:00, 166.08it/s]"
          ]
        },
        {
          "output_type": "stream",
          "name": "stdout",
          "text": [
            "Iteration 400 lower bound 1144.8079833984375\n",
            "Iteration 425 lower bound 1144.3662109375\n"
          ]
        },
        {
          "output_type": "stream",
          "name": "stderr",
          "text": [
            "100%|██████████| 500/500 [00:04<00:00, 108.75it/s]"
          ]
        },
        {
          "output_type": "stream",
          "name": "stdout",
          "text": [
            "Iteration 450 lower bound 1143.9383544921875\n",
            "Iteration 475 lower bound 1144.51611328125\n"
          ]
        },
        {
          "output_type": "stream",
          "name": "stderr",
          "text": [
            "\n"
          ]
        }
      ],
      "source": [
        "# Set up optimizer.\n",
        "init_mean = np.zeros(num_players)\n",
        "init_std  = np.zeros(num_players)\n",
        "init_params = (init_mean, init_std)\n",
        "opt_init, opt_update, get_params = optimizers.momentum(step_size=0.1, mass=0.9)\n",
        "opt_state = opt_init(init_params)\n",
        "\n",
        "@jit\n",
        "def update(i, opt_state):\n",
        "    params = get_params(opt_state)\n",
        "    gradient = grad(objective)(params, i)\n",
        "    return opt_update(i, gradient, opt_state)\n",
        "\n",
        "# Main loop.\n",
        "print(\"Optimizing variational parameters...\")\n",
        "for t in trange(0, n_iters):\n",
        "    opt_state = update(t, opt_state)\n",
        "    params = get_params(opt_state)\n",
        "    callback(params, t)\n"
      ]
    },
    {
      "cell_type": "markdown",
      "metadata": {
        "id": "y6YluZ2B8Qmr"
      },
      "source": [
        "**d) [1pt]** Plot the approximate mean and variance of all players, sorted by skill."
      ]
    },
    {
      "cell_type": "code",
      "execution_count": null,
      "metadata": {
        "id": "sEZtYBeH8TOO",
        "colab": {
          "base_uri": "https://localhost:8080/",
          "height": 296
        },
        "outputId": "190dc983-228b-42e7-8208-91d7ff6d2843"
      },
      "outputs": [
        {
          "output_type": "execute_result",
          "data": {
            "text/plain": [
              "<ErrorbarContainer object of 3 artists>"
            ]
          },
          "metadata": {},
          "execution_count": 133
        },
        {
          "output_type": "display_data",
          "data": {
            "text/plain": [
              "<Figure size 432x288 with 1 Axes>"
            ],
            "image/png": "[encoded data removed]"
          },
          "metadata": {
            "needs_background": "light"
          }
        }
      ],
      "source": [
        "mean_skills, logstd_skills = get_params(opt_state)# TODO.  Hint: You don't need to do simple Monte Carlo here.\n",
        "order = np.argsort(mean_skills)\n",
        "\n",
        "plt.xlabel(\"Player Rank\")\n",
        "plt.ylabel(\"Player Skill\")\n",
        "plt.errorbar(range(107), mean_skills[order], np.square(np.exp(logstd_skills))[order])"
      ]
    },
    {
      "cell_type": "markdown",
      "metadata": {
        "id": "EjWom7_Z8VCY"
      },
      "source": [
        "**e) [2pts]** List the names of the 10 players with the highest mean skill under the variational model.\n"
      ]
    },
    {
      "cell_type": "code",
      "execution_count": null,
      "metadata": {
        "id": "4LCPM5Bp8YiK",
        "colab": {
          "base_uri": "https://localhost:8080/"
        },
        "outputId": "94786fdb-fff7-48a9-8f34-3ed02fb34351"
      },
      "outputs": [
        {
          "output_type": "stream",
          "name": "stdout",
          "text": [
            "[array(['Novak-Djokovic'], dtype='<U14')]\n",
            "[array(['Roger-Federer'], dtype='<U13')]\n",
            "[array(['Rafael-Nadal'], dtype='<U12')]\n",
            "[array(['Andy-Murray'], dtype='<U11')]\n",
            "[array(['David-Ferrer'], dtype='<U12')]\n",
            "[array(['Robin-Soderling'], dtype='<U15')]\n",
            "[array(['Jo-Wilfried-Tsonga'], dtype='<U18')]\n",
            "[array(['Juan-Martin-Del-Potro'], dtype='<U21')]\n",
            "[array(['Tomas-Berdych'], dtype='<U13')]\n",
            "[array(['Richard-Gasquet'], dtype='<U15')]\n"
          ]
        }
      ],
      "source": [
        "temp = names[order]\n",
        "for i in range(1,11):\n",
        "    print( temp[-i])"
      ]
    },
    {
      "cell_type": "markdown",
      "metadata": {
        "id": "sEj6LkYA8ncH"
      },
      "source": [
        "**f) [1pt]** Plot the joint posterior over the skills of Roger Federer and Rafael Nadal."
      ]
    },
    {
      "cell_type": "code",
      "execution_count": null,
      "metadata": {
        "id": "U6zI2sCB8qFO",
        "colab": {
          "base_uri": "https://localhost:8080/",
          "height": 549
        },
        "outputId": "54110721-db37-4a99-f75f-844b9e837b57"
      },
      "outputs": [
        {
          "output_type": "stream",
          "name": "stdout",
          "text": [
            "[array(['Rafael-Nadal'], dtype='<U12')]\n",
            "[array(['Roger-Federer'], dtype='<U13')]\n"
          ]
        },
        {
          "output_type": "execute_result",
          "data": {
            "text/plain": [
              "<matplotlib.collections.PathCollection at 0x7efc0a123f10>"
            ]
          },
          "metadata": {},
          "execution_count": 135
        },
        {
          "output_type": "display_data",
          "data": {
            "text/plain": [
              "<Figure size 576x576 with 1 Axes>"
            ],
            "image/png": "[encoded data removed]"
          },
          "metadata": {}
        }
      ],
      "source": [
        "nadal_ix = 0\n",
        "federer_ix = 4\n",
        "print(names[nadal_ix])\n",
        "print(names[federer_ix])\n",
        "\n",
        "fig = plt.figure(figsize=(8,8), facecolor='white')\n",
        "\n",
        "# Label each with \"<player> Skill\"\n",
        "plt.xlabel(\"Roger Federer Skill\") \n",
        "plt.ylabel(\"Rafael Nadal Skill\") \n",
        "\n",
        "plt.plot([3, -3], [3, -3], 'b--') # Line of equal skill\n",
        "\n",
        "rngs = random.split(random.PRNGKey(t), 100)\n",
        "samples = vmap(diag_gaussian_sample, in_axes=(0, None, None))(rngs, *params)\n",
        "\n",
        "# TODO:  Hint:  Use plt.scatter()\n",
        "plt.scatter( samples[:,nadal_ix] , samples[:,federer_ix]  )"
      ]
    },
    {
      "cell_type": "markdown",
      "metadata": {
        "id": "rUXcsAYdDnor"
      },
      "source": [
        "**g) [8pts]** Derive the exact probability under a factorized Gaussian over two players’ skills that one has higher skill than the other, as a function of the two means and variances over their skills. Express your answer in terms of the cumulative distribution function of a one-dimensional Gaussian random variable.\n",
        "\n",
        "- Hint 1: Use a linear change of variables $y_A, y_B = z_A − z_B , z_B$. What does the line of equal skill look like after this transformation?\n",
        "- Hint 2: If $X \\sim \\mathcal N (\\mu, \\Sigma)$, then $AX \\sim \\mathcal N (A\\mu, A\\Sigma A^T)$ where $A$ is a linear transformation.\n",
        "- Hint 3: Marginalization in Gaussians is easy: if $X \\sim \\mathcal N (\\mu, \\Sigma)$, then the $i$th element of $X$ has a\n",
        "marginal distribution $X_i \\sim \\mathcal N (\\mu_i , \\Sigma_{ii})$."
      ]
    },
    {
      "cell_type": "markdown",
      "metadata": {
        "id": "OxazFdqcFhF_"
      },
      "source": [
        "Let $A = \\begin{bmatrix} 1 & -1  \\\\0 & 1\\end{bmatrix} $be the corresponding matrix of the linear transformation such that\n",
        "\n",
        "$$ A \\begin{bmatrix} z_A  \\\\ z_B\\end{bmatrix} = \\begin{bmatrix} z_A-z_B  \\\\ z_B\\end{bmatrix}$$\n",
        "Sinnce $\\begin{bmatrix} z_A  \\\\ z_B\\end{bmatrix} \\sim \\mathcal N (\\mu, \\Sigma) = \\mathcal N (\\begin{bmatrix} μ_a  \\\\ \\mu_b \\end{bmatrix}, \\begin{bmatrix} \\sigma_a^2&0  \\\\ 0& \\sigma_b^2 \\end{bmatrix})   $\n",
        "\n",
        "$$A \\begin{bmatrix} z_A  \\\\ z_B\\end{bmatrix} \\sim \\mathcal N (\\mu, \\Sigma) = \\mathcal N (\\begin{bmatrix} μ_a-\\mu_b  \\\\ \\mu_b \\end{bmatrix}, \\begin{bmatrix} 1 & -1  \\\\0 & 1\\end{bmatrix} \\begin{bmatrix} \\sigma_a^2&0  \\\\ 0& \\sigma_b^2 \\end{bmatrix} \\begin{bmatrix} 1 & 0  \\\\-1 & 1\\end{bmatrix}) $$\n",
        "$$ = \\mathcal N (\\begin{bmatrix} μ_a-\\mu_b  \\\\ \\mu_b \\end{bmatrix}, \\begin{bmatrix} \\sigma_a^2 + \\sigma_b^2 & -\\sigma_b^2  \\\\ -\\sigma_b^2 & \\sigma_b^2 \\end{bmatrix} )$$\n",
        "$y_a = z_A-z_B$, when $y_a > 0$, skill of player A is better than player B. Since $X_A \\sim \\mathcal N (μ_a-\\mu_b , \\sigma_a^2 + \\sigma_b^2 )$, \n",
        "$$p(y_a > 0) = 1 - \\int_{-\\infty}^{0} \\frac{1}{\\sqrt{\\sigma_a^2 + \\sigma_b^2}\\sqrt{2\\pi} } \\; e^{ -\\frac{(y_a-\\mu_a+\\mu_b)^2}{2(\\sigma_a^2 + \\sigma_b^2)} } dy_a$$"
      ]
    },
    {
      "cell_type": "markdown",
      "metadata": {
        "id": "GO3k7rfI8sWg"
      },
      "source": [
        "**h) [2pts]** Compute the probability under your approximate posterior that Roger Federer has higher skill than Rafael Nadal. Compute this quantity exactly using the formula you just derived above, and also estimate it using simple Monte Carlo with 10000 examples.\n",
        "\n",
        "Hint:  You might want to use `jax.scipy.stats.norm.cdf` for the exact formula."
      ]
    },
    {
      "cell_type": "code",
      "execution_count": null,
      "metadata": {
        "id": "oqXgDi-T-W7o",
        "colab": {
          "base_uri": "https://localhost:8080/"
        },
        "outputId": "ad1ca1e0-03d5-4f03-dea4-5a324204cc75"
      },
      "outputs": [
        {
          "output_type": "stream",
          "name": "stdout",
          "text": [
            "probability under approximated posterior:  0.7116787\n",
            "probability under sampling:  0.7044\n"
          ]
        }
      ],
      "source": [
        "# TODO\n",
        "\n",
        "#approximate posterior\n",
        "federer_mean= mean_skills[federer_ix]\n",
        "federer_var = np.square(np.exp(logstd_skills[federer_ix]))\n",
        "nadal_mean= mean_skills[nadal_ix]\n",
        "nadal_var = np.square(np.exp(logstd_skills[nadal_ix]))\n",
        "calculated_prob = 1- jax.scipy.stats.norm.cdf(0, loc= federer_mean-nadal_mean, scale=np.sqrt(federer_var+nadal_var))\n",
        "\n",
        "#sampling\n",
        "samples_diff = federer_mean-nadal_mean + np.sqrt(federer_var+nadal_var)*random.normal(random.PRNGKey(t),[10000])\n",
        "sampled_prob = np.mean(samples_diff>0)\n",
        "\n",
        "print(\"probability under approximated posterior: \", calculated_prob)\n",
        "print(\"probability under sampling: \", sampled_prob)"
      ]
    },
    {
      "cell_type": "code",
      "source": [
        "a = np.array([1,0,0,1])\n",
        "np.mean(a>0)"
      ],
      "metadata": {
        "colab": {
          "base_uri": "https://localhost:8080/"
        },
        "id": "UE-Hx3a2bKJv",
        "outputId": "7706f9e8-e4f8-47be-842d-cb9de057411e"
      },
      "execution_count": null,
      "outputs": [
        {
          "output_type": "execute_result",
          "data": {
            "text/plain": [
              "DeviceArray(0.5, dtype=float32)"
            ]
          },
          "metadata": {},
          "execution_count": 137
        }
      ]
    },
    {
      "cell_type": "markdown",
      "metadata": {
        "id": "olpPTnm3-YdN"
      },
      "source": [
        "**i) [2pts]** Compute the probability that Roger Federer is better than the player with the lowest mean skill. Compute this quantity exactly, and then estimate it using simple Monte Carlo with 10000 examples.\n"
      ]
    },
    {
      "cell_type": "code",
      "source": [
        "# TODO\n",
        "\n",
        "#approximate posterior\n",
        "federer_mean= mean_skills[federer_ix]\n",
        "federer_var = np.square(np.exp(logstd_skills[federer_ix]))\n",
        "low_mean= mean_skills[order[0]]\n",
        "low_var = np.square(np.exp(logstd_skills[order[0]]))\n",
        "calculated_prob = 1- jax.scipy.stats.norm.cdf(0, loc= federer_mean-low_mean, scale=np.sqrt(federer_var+low_var))\n",
        "\n",
        "#sampling\n",
        "samples_diff = federer_mean-low_mean + np.sqrt(federer_var+low_var)*random.normal(random.PRNGKey(t),[10000])\n",
        "sampled_prob = np.mean(samples_diff>0)\n",
        "\n",
        "print(\"probability under approximated posterior: \", calculated_prob)\n",
        "print(\"probability under sampling: \", sampled_prob)"
      ],
      "metadata": {
        "id": "PNLfQCDdbZ7d",
        "colab": {
          "base_uri": "https://localhost:8080/"
        },
        "outputId": "2b8ac1f7-2f69-4f9d-c90f-129bc6ff266c"
      },
      "execution_count": null,
      "outputs": [
        {
          "output_type": "stream",
          "name": "stdout",
          "text": [
            "probability under approximated posterior:  1.0\n",
            "probability under sampling:  1.0\n"
          ]
        }
      ]
    },
    {
      "cell_type": "markdown",
      "source": [
        "**j) [2 pts]** Imagine that we knew ahead of time that we were examining the skills of top tennis players, and so changed our prior on all players to Normal(10, 1) and re-ran our approximate inference from scratch. Would that change the answer of either of the previous 2 questions, in expectation?"
      ],
      "metadata": {
        "id": "kjslZo7WUH2-"
      }
    },
    {
      "cell_type": "markdown",
      "source": [
        "\n",
        "\n",
        "```\n",
        "# This is formatted as code\n",
        "```\n",
        "\n",
        "No, because it means that all players now have better skills but the relative skill levels between players do not change."
      ],
      "metadata": {
        "id": "W37pO-PDNjKc"
      }
    },
    {
      "cell_type": "markdown",
      "source": [
        "**k) [2 pts]** Based on all the plots and results in this assignment and HW2, which approximate inference method do you suspect is producing a better overall approximation to the true posterior over all skills conditioned on all games?  Give a short explanation."
      ],
      "metadata": {
        "id": "cNJ5WuyQKPPM"
      }
    },
    {
      "cell_type": "markdown",
      "source": [
        "The methods in HW2 is better. The methods used here is less flexible."
      ],
      "metadata": {
        "id": "mtmXbA3OKSoM"
      }
    },
    {
      "cell_type": "markdown",
      "source": [
        "# 2. [50pts] Expectation-Maximization (EM) algorithm"
      ],
      "metadata": {
        "id": "Ru-EwGWu5T4X"
      }
    },
    {
      "cell_type": "code",
      "source": [
        "%matplotlib inline\n",
        "import scipy\n",
        "import numpy as np\n",
        "import itertools\n",
        "import matplotlib.pyplot as plt"
      ],
      "metadata": {
        "id": "ttc_nnUN5Wnv"
      },
      "execution_count": null,
      "outputs": []
    },
    {
      "cell_type": "markdown",
      "source": [
        "## 2.1 [7pts] Generating the Data\n",
        "\n",
        "**a) [5pts]** First, we will generate some data for this problem. Set the number of points $N=400$, their dimension $D=2$, and the number of clusters $K=2$, and generate data from the distribution $p(x|z=k) = \\mathcal{N}(\\mu_k, \\Sigma_k)$.\n",
        "  Sample $200$ data points for $k=1$ and 200 for $k=2$, with\n",
        "\n",
        "  $$\n",
        "    \\mu_1=\n",
        "    \\begin{bmatrix}\n",
        "      0.1 \\\\\n",
        "      0.1\n",
        "    \\end{bmatrix}\n",
        "    \\ \\text{,}\\\n",
        "    \\mu_2=\n",
        "    \\begin{bmatrix}\n",
        "      6.0 \\\\\n",
        "      0.1\n",
        "    \\end{bmatrix}\n",
        "    \\ \\text{ and }\\\n",
        "    \\Sigma_1=\\Sigma_2=\n",
        "    \\begin{bmatrix}\n",
        "      10       & 7 \\\\\n",
        "      7 & 10\n",
        "    \\end{bmatrix}\n",
        "  $$\n",
        "  Here, $N=400$. If you generate the data, you already know which sample comes from which class. Complete the following statements and run to generate.\n",
        "\n",
        "  Hint: you can use `np.random.multivariate_normal`."
      ],
      "metadata": {
        "id": "g-aZi8IN5Via"
      }
    },
    {
      "cell_type": "code",
      "source": [
        "num_samples = 400 # TODO\n",
        "cov = np.array([[10,7],[7,10]])# TODO\n",
        "mean_1 = np.array([0.1,0.1])# TODO\n",
        "mean_2 = np.array([6.0,0.1])# TODO\n",
        "\n",
        "x_class1 = np.random.multivariate_normal(mean_1, cov, 200)# TODO\n",
        "x_class2 = np.random.multivariate_normal(mean_2, cov, 200) # TODO\n",
        "xy_class1 = np.hstack((x_class1,np.zeros((x_class1.shape[0], 1)))) # TODO\n",
        "xy_class2 = np.hstack((x_class2,np.ones((x_class1.shape[0], 1))))# TODO\n",
        "\n",
        "data_full = np.vstack((xy_class1,xy_class2))# TODO complete data\n",
        "np.random.shuffle(data_full)\n",
        "data = data_full[:,:2]# TODO incomplete data\n",
        "labels = data_full[:, 2]# TODO"
      ],
      "metadata": {
        "id": "E65KHOjz5axT"
      },
      "execution_count": null,
      "outputs": []
    },
    {
      "cell_type": "code",
      "source": [
        "print(np.ones((10,1)))\n",
        "print(np.hstack((np.ones((10,1)),np.array([2]*10).reshape((10,1)))))\n",
        "print()\n",
        "print([[2]]*10)\n",
        "print(np.hstack((np.ones((10,1)),np.full((10,1),2))))"
      ],
      "metadata": {
        "id": "VGAX4OIK6psx",
        "colab": {
          "base_uri": "https://localhost:8080/"
        },
        "outputId": "df858f4b-150c-4f86-e46c-c59aa8a29155"
      },
      "execution_count": null,
      "outputs": [
        {
          "output_type": "stream",
          "name": "stdout",
          "text": [
            "[[1.]\n",
            " [1.]\n",
            " [1.]\n",
            " [1.]\n",
            " [1.]\n",
            " [1.]\n",
            " [1.]\n",
            " [1.]\n",
            " [1.]\n",
            " [1.]]\n",
            "[[1. 2.]\n",
            " [1. 2.]\n",
            " [1. 2.]\n",
            " [1. 2.]\n",
            " [1. 2.]\n",
            " [1. 2.]\n",
            " [1. 2.]\n",
            " [1. 2.]\n",
            " [1. 2.]\n",
            " [1. 2.]]\n",
            "\n",
            "[[2], [2], [2], [2], [2], [2], [2], [2], [2], [2]]\n",
            "[[1. 2.]\n",
            " [1. 2.]\n",
            " [1. 2.]\n",
            " [1. 2.]\n",
            " [1. 2.]\n",
            " [1. 2.]\n",
            " [1. 2.]\n",
            " [1. 2.]\n",
            " [1. 2.]\n",
            " [1. 2.]]\n"
          ]
        }
      ]
    },
    {
      "cell_type": "markdown",
      "source": [
        "**b) [2pts]** Make a scatter plot of the data points showing the true cluster assignment of each point using different color codes and shape (x for first class and circles for second class):"
      ],
      "metadata": {
        "id": "MH5WNKYh5kwW"
      }
    },
    {
      "cell_type": "code",
      "source": [
        "plt.plot( x_class1[:,0], x_class1[:,1], 'bx' ) # first class, x shape\n",
        "plt.plot( x_class2[:,0], x_class2[:,1], 'go' )  # second class, circle shape"
      ],
      "metadata": {
        "id": "0PZMA--g5mbe",
        "colab": {
          "base_uri": "https://localhost:8080/",
          "height": 282
        },
        "outputId": "2170c460-875b-4ad5-a0ec-11001130026c"
      },
      "execution_count": null,
      "outputs": [
        {
          "output_type": "execute_result",
          "data": {
            "text/plain": [
              "[<matplotlib.lines.Line2D at 0x7efc0a0a3350>]"
            ]
          },
          "metadata": {},
          "execution_count": 142
        },
        {
          "output_type": "display_data",
          "data": {
            "text/plain": [
              "<Figure size 432x288 with 1 Axes>"
            ],
            "image/png": "[encoded data removed]"
          },
          "metadata": {
            "needs_background": "light"
          }
        }
      ]
    },
    {
      "cell_type": "markdown",
      "source": [
        "## 2.2 [14pts] Implement and Run K-Means algorithm\n",
        "\n",
        "Now, we assume that the true class labels are not known. Implement the k-means algorithm for this problem.\n",
        "  Write two functions: `km_assignment_step`, and `km_refitting_step` as given in the lecture (Here, `km_` means k-means).\n",
        "  Identify the correct arguments, and the order to run them. Initialize the algorithm with\n",
        "  $$\n",
        "    \\hat\\mu_1=\n",
        "    \\begin{bmatrix}\n",
        "      0.0 \\\\\n",
        "      0.0\n",
        "    \\end{bmatrix}\n",
        "    \\ \\text{,}\\\n",
        "    \\hat\\mu_2=\n",
        "    \\begin{bmatrix}\n",
        "      1.0 \\\\\n",
        "      1.0\n",
        "    \\end{bmatrix}\n",
        "  $$\n",
        "  and run it until convergence.\n",
        "  Show the resulting cluster assignments on a scatter plot either using different color codes or shape or both.\n",
        "  Also plot the cost (distortion in lecture slides) vs. the number of iterations. Report your misclassification error. "
      ],
      "metadata": {
        "id": "uk3xc1iS5r9I"
      }
    },
    {
      "cell_type": "markdown",
      "source": [
        "**a) [2pts]** Complete the `cost` function."
      ],
      "metadata": {
        "id": "U2yxjnx36Fdk"
      }
    },
    {
      "cell_type": "code",
      "source": [
        "def cost(data, R, Mu):\n",
        "    N, D = data.shape# TODO\n",
        "    K = R.shape[1]# TODO\n",
        "    # TODO\n",
        "    Mus_for_each = R @ Mu.T\n",
        "    J = np.sum(np.square(data-Mus_for_each))\n",
        "    return J"
      ],
      "metadata": {
        "id": "4ir5sGuL5nwb"
      },
      "execution_count": null,
      "outputs": []
    },
    {
      "cell_type": "markdown",
      "source": [
        "**b) [4pts]** K-Means assignment step."
      ],
      "metadata": {
        "id": "iHeJWG4W6NbS"
      }
    },
    {
      "cell_type": "code",
      "source": [
        "def km_assignment_step(data, Mu):\n",
        "    \"\"\" Compute K-Means assignment step\n",
        "    \n",
        "    Args:\n",
        "        data: a NxD matrix for the data points\n",
        "        Mu: a DxK matrix for the cluster means locations\n",
        "    \n",
        "    Returns:\n",
        "        R_new: a NxK matrix of responsibilities\n",
        "    \"\"\"\n",
        "    \n",
        "    N, D = data.shape# TODO: Number of datapoints and dimension of datapoint\n",
        "    K = Mu.shape[1] # number of clusters\n",
        "    r = np.zeros((N,K)) # TODO\n",
        "    # TODO assign all r[:, k]\n",
        "\n",
        "    #calculate eucliean distance with two centrals\n",
        "    for i in range(0,K):\n",
        "        diff = data-Mu[:,i]\n",
        "        r[:,i] = np.linalg.norm(diff, axis=1)\n",
        "    #print(\" r ---------------\")\n",
        "    #print(r[:20])\n",
        "    arg_min = np.argmin(r,axis=1) # TODO: argmax/argmin along dimension 1\n",
        "    #print(arg_min[:20])\n",
        "    R_new = np.zeros((N,K)) # TODO: Set to zeros/ones with shape (N, K)\n",
        "    R_new[range(N), arg_min] = 1 # TODO Assign to 1\n",
        "    #print(\" R_new ---------------\")\n",
        "    #print(R_new[:20])\n",
        "    return R_new"
      ],
      "metadata": {
        "id": "A4MF3nyy6Ms8"
      },
      "execution_count": null,
      "outputs": []
    },
    {
      "cell_type": "markdown",
      "source": [
        "**c) [2pts]** K-Means refitting step."
      ],
      "metadata": {
        "id": "v3DnutNm6n33"
      }
    },
    {
      "cell_type": "code",
      "source": [
        "# TODO: K-means Refitting Step\n",
        "def km_refitting_step(data, R, Mu):\n",
        "    \"\"\" Compute K-Means refitting step.\n",
        "    \n",
        "    Args:\n",
        "        data: a NxD matrix for the data points\n",
        "        R: a NxK matrix of responsibilities\n",
        "        Mu: a DxK matrix for the cluster means locations\n",
        "    \n",
        "    Returns:\n",
        "        Mu_new: a DxK matrix for the new cluster means locations\n",
        "    \"\"\"\n",
        "    N, D = data.shape # TODO: number of datapoints and dimension of datapoint\n",
        "    K = R.shape[1] # TODO: number of clusters\n",
        "    counts = np.sum(R, axis= 0)\n",
        "    Mu_new = (data.T @ R) / counts[:, None] # TODO\n",
        "    return Mu_new"
      ],
      "metadata": {
        "id": "99c-OaVs6tlH"
      },
      "execution_count": null,
      "outputs": []
    },
    {
      "cell_type": "code",
      "source": [
        "a = np.array([[1,1,1],[2,2,2]])\n",
        "v = np.array([1,2,3])\n",
        "print(a/v[:None])"
      ],
      "metadata": {
        "colab": {
          "base_uri": "https://localhost:8080/"
        },
        "id": "JGcyUZV8Sz-A",
        "outputId": "1c37fbea-587c-4abb-85ff-8d75bd147c35"
      },
      "execution_count": null,
      "outputs": [
        {
          "output_type": "stream",
          "name": "stdout",
          "text": [
            "[[1.         0.5        0.33333333]\n",
            " [2.         1.         0.66666667]]\n"
          ]
        }
      ]
    },
    {
      "cell_type": "markdown",
      "source": [
        "**d) [4pts]** Run this cell to call the K-Means algorithm."
      ],
      "metadata": {
        "id": "dXJinSwV6xsj"
      }
    },
    {
      "cell_type": "code",
      "source": [
        "N, D = 400, 2# TODO\n",
        "K = 2 # TODO\n",
        "max_iter = 100\n",
        "class_init = np.random.randint(2, size=N).astype(int)# TODO\n",
        "R = np.zeros((N,K))\n",
        "R[range(N),class_init] = 1# TODO\n",
        "print(\"inital R\")\n",
        "print(R[:20])\n",
        "Mu = np.zeros([D, K])\n",
        "Mu[:, 1] = 1.\n",
        "R.T.dot(data), np.sum(R, axis=0)\n",
        "\n",
        "cost_list = []\n",
        "for it in range(max_iter):\n",
        "    R = km_assignment_step(data, Mu)# TODO\n",
        "    Mu = km_refitting_step(data, R, Mu) # TODO\n",
        "    temp = cost(data, R, Mu)\n",
        "    cost_list.append(temp)\n",
        "    print(it, temp)\n",
        "\n",
        "class_1 = data[np.where(R[:,0]==1)]# TODO\n",
        "class_2 = data[np.where(R[:,1]==1)]# TODO"
      ],
      "metadata": {
        "id": "8z_xw_Gu6xJj",
        "colab": {
          "base_uri": "https://localhost:8080/"
        },
        "outputId": "f3701dd2-5c6b-40b5-e5b5-cdbc85e931c1"
      },
      "execution_count": null,
      "outputs": [
        {
          "output_type": "stream",
          "name": "stdout",
          "text": [
            "inital R\n",
            "[[1. 0.]\n",
            " [1. 0.]\n",
            " [1. 0.]\n",
            " [1. 0.]\n",
            " [0. 1.]\n",
            " [0. 1.]\n",
            " [0. 1.]\n",
            " [1. 0.]\n",
            " [1. 0.]\n",
            " [0. 1.]\n",
            " [0. 1.]\n",
            " [0. 1.]\n",
            " [0. 1.]\n",
            " [1. 0.]\n",
            " [0. 1.]\n",
            " [0. 1.]\n",
            " [0. 1.]\n",
            " [1. 0.]\n",
            " [1. 0.]\n",
            " [1. 0.]]\n",
            "0 8957.099993943011\n",
            "1 5887.158704668756\n",
            "2 5451.86570819352\n",
            "3 5368.98178726473\n",
            "4 5371.290039219283\n",
            "5 5365.088169315933\n",
            "6 5371.290039219283\n",
            "7 5365.088169315933\n",
            "8 5371.290039219283\n",
            "9 5365.088169315933\n",
            "10 5371.290039219283\n",
            "11 5365.088169315933\n",
            "12 5371.290039219283\n",
            "13 5365.088169315933\n",
            "14 5371.290039219283\n",
            "15 5365.088169315933\n",
            "16 5371.290039219283\n",
            "17 5365.088169315933\n",
            "18 5371.290039219283\n",
            "19 5365.088169315933\n",
            "20 5371.290039219283\n",
            "21 5365.088169315933\n",
            "22 5371.290039219283\n",
            "23 5365.088169315933\n",
            "24 5371.290039219283\n",
            "25 5365.088169315933\n",
            "26 5371.290039219283\n",
            "27 5365.088169315933\n",
            "28 5371.290039219283\n",
            "29 5365.088169315933\n",
            "30 5371.290039219283\n",
            "31 5365.088169315933\n",
            "32 5371.290039219283\n",
            "33 5365.088169315933\n",
            "34 5371.290039219283\n",
            "35 5365.088169315933\n",
            "36 5371.290039219283\n",
            "37 5365.088169315933\n",
            "38 5371.290039219283\n",
            "39 5365.088169315933\n",
            "40 5371.290039219283\n",
            "41 5365.088169315933\n",
            "42 5371.290039219283\n",
            "43 5365.088169315933\n",
            "44 5371.290039219283\n",
            "45 5365.088169315933\n",
            "46 5371.290039219283\n",
            "47 5365.088169315933\n",
            "48 5371.290039219283\n",
            "49 5365.088169315933\n",
            "50 5371.290039219283\n",
            "51 5365.088169315933\n",
            "52 5371.290039219283\n",
            "53 5365.088169315933\n",
            "54 5371.290039219283\n",
            "55 5365.088169315933\n",
            "56 5371.290039219283\n",
            "57 5365.088169315933\n",
            "58 5371.290039219283\n",
            "59 5365.088169315933\n",
            "60 5371.290039219283\n",
            "61 5365.088169315933\n",
            "62 5371.290039219283\n",
            "63 5365.088169315933\n",
            "64 5371.290039219283\n",
            "65 5365.088169315933\n",
            "66 5371.290039219283\n",
            "67 5365.088169315933\n",
            "68 5371.290039219283\n",
            "69 5365.088169315933\n",
            "70 5371.290039219283\n",
            "71 5365.088169315933\n",
            "72 5371.290039219283\n",
            "73 5365.088169315933\n",
            "74 5371.290039219283\n",
            "75 5365.088169315933\n",
            "76 5371.290039219283\n",
            "77 5365.088169315933\n",
            "78 5371.290039219283\n",
            "79 5365.088169315933\n",
            "80 5371.290039219283\n",
            "81 5365.088169315933\n",
            "82 5371.290039219283\n",
            "83 5365.088169315933\n",
            "84 5371.290039219283\n",
            "85 5365.088169315933\n",
            "86 5371.290039219283\n",
            "87 5365.088169315933\n",
            "88 5371.290039219283\n",
            "89 5365.088169315933\n",
            "90 5371.290039219283\n",
            "91 5365.088169315933\n",
            "92 5371.290039219283\n",
            "93 5365.088169315933\n",
            "94 5371.290039219283\n",
            "95 5365.088169315933\n",
            "96 5371.290039219283\n",
            "97 5365.088169315933\n",
            "98 5371.290039219283\n",
            "99 5365.088169315933\n"
          ]
        }
      ]
    },
    {
      "cell_type": "code",
      "source": [
        "def error_rate(responsibility,labels):\n",
        "    label_vector = np.zeros((N,K))\n",
        "    label_vector[range(N),labels.astype(int)] = 1\n",
        "    diff_true = label_vector-responsibility\n",
        "    wrong = np.count_nonzero(diff_true[:,0])\n",
        "    return wrong/400"
      ],
      "metadata": {
        "id": "Lrd3e3FP2mFJ"
      },
      "execution_count": null,
      "outputs": []
    },
    {
      "cell_type": "code",
      "source": [
        "print(\"misclassification rate: \", error_rate(R, labels))"
      ],
      "metadata": {
        "colab": {
          "base_uri": "https://localhost:8080/"
        },
        "id": "gxYSvefD285x",
        "outputId": "dd29c900-6412-4dbd-b9c6-26f18a473650"
      },
      "execution_count": null,
      "outputs": [
        {
          "output_type": "stream",
          "name": "stdout",
          "text": [
            "misclassification rate:  0.2475\n"
          ]
        }
      ]
    },
    {
      "cell_type": "code",
      "source": [
        "plt.plot( list(range(max_iter)), cost_list ) "
      ],
      "metadata": {
        "colab": {
          "base_uri": "https://localhost:8080/",
          "height": 282
        },
        "id": "EVIz0YiAZ5jk",
        "outputId": "ab845977-c68e-4310-be56-73c7e4b9c288"
      },
      "execution_count": null,
      "outputs": [
        {
          "output_type": "execute_result",
          "data": {
            "text/plain": [
              "[<matplotlib.lines.Line2D at 0x7efc09e47310>]"
            ]
          },
          "metadata": {},
          "execution_count": 193
        },
        {
          "output_type": "display_data",
          "data": {
            "text/plain": [
              "<Figure size 432x288 with 1 Axes>"
            ],
            "image/png": "[encoded data removed]"
          },
          "metadata": {
            "needs_background": "light"
          }
        }
      ]
    },
    {
      "cell_type": "code",
      "source": [
        "print(Mu)"
      ],
      "metadata": {
        "colab": {
          "base_uri": "https://localhost:8080/"
        },
        "id": "uhCWnLf0by2k",
        "outputId": "f34a3274-007d-4379-d37d-baf924361bb2"
      },
      "execution_count": null,
      "outputs": [
        {
          "output_type": "stream",
          "name": "stdout",
          "text": [
            "[[-0.44108579  6.39209883]\n",
            " [-1.67036202  1.7668363 ]]\n"
          ]
        }
      ]
    },
    {
      "cell_type": "code",
      "source": [
        "np.random.randint(2, size=10)\n",
        "x = np.array([[1,0,2,0,3,0,4,5,6,7,8],[3,6,4,1,7,0,1,3,1,0,0]])\n",
        "print(np.where(x==0))\n",
        "y =np.random.randint(2, size=10).astype(int)\n",
        "print(y)\n",
        "x[:,np.where(y==1)] = 1\n",
        "print(x)"
      ],
      "metadata": {
        "colab": {
          "base_uri": "https://localhost:8080/"
        },
        "id": "rj81GSx-WKLx",
        "outputId": "01145b99-4d95-4344-c21f-fa6257bd3778"
      },
      "execution_count": null,
      "outputs": [
        {
          "output_type": "stream",
          "name": "stdout",
          "text": [
            "(array([0, 0, 0, 1, 1, 1]), array([ 1,  3,  5,  5,  9, 10]))\n",
            "[0 0 0 0 0 0 0 1 1 0]\n",
            "[[1 0 2 0 3 0 4 1 1 7 8]\n",
            " [3 6 4 1 7 0 1 1 1 0 0]]\n"
          ]
        }
      ]
    },
    {
      "cell_type": "markdown",
      "source": [
        "**e) [2pts]** Make a scatterplot for the data points showing the K-Means cluster assignments of each point.\n"
      ],
      "metadata": {
        "id": "MgB7VKUp_gqO"
      }
    },
    {
      "cell_type": "code",
      "source": [
        "plt.plot(class_1[:,0], class_1[:,1], 'bx' ) # TODO first class, x shape\n",
        "plt.plot(class_2[:,0], class_2[:,1], 'go' ) # TODO second class, circle shape"
      ],
      "metadata": {
        "id": "SGyd4sKP_jY2",
        "colab": {
          "base_uri": "https://localhost:8080/",
          "height": 282
        },
        "outputId": "451cd459-99ae-43f8-8195-f8675241faf6"
      },
      "execution_count": null,
      "outputs": [
        {
          "output_type": "execute_result",
          "data": {
            "text/plain": [
              "[<matplotlib.lines.Line2D at 0x7efc0b4608d0>]"
            ]
          },
          "metadata": {},
          "execution_count": 150
        },
        {
          "output_type": "display_data",
          "data": {
            "text/plain": [
              "<Figure size 432x288 with 1 Axes>"
            ],
            "image/png": "[encoded data removed]"
          },
          "metadata": {
            "needs_background": "light"
          }
        }
      ]
    },
    {
      "cell_type": "markdown",
      "source": [
        "## 2.3 [21pts] Implement EM algorithm for Gaussian mixtures\n",
        "\n",
        "Next, implement the EM algorithm for Gaussian mixtures. Write three functions: `log_likelihood`, `gm_e_step`, and `gm_m_step` as given in the lecture.\n",
        "  - Identify the correct arguments, and the order to run them.\n",
        "  - Initialize the algorithm with the same initialization as in Q2.1 for the means, and with $\\hat\\Sigma_1=\\hat\\Sigma_2=I$, and $\\hat\\pi_1=\\hat\\pi_2$ for the covariances.\n",
        "    \n",
        "Run the algorithm until convergence and show the resulting cluster assignments on a scatter plot either using different color codes or shape or both. Also plot the log-likelihood vs. the number of iterations. Report your misclassification error."
      ],
      "metadata": {
        "id": "aHONjfYq7t-d"
      }
    },
    {
      "cell_type": "code",
      "source": [
        "def normal_density(x, mu, Sigma):\n",
        "    return np.exp(-.5 * np.dot(x - mu, np.linalg.solve(Sigma, x - mu))) \\\n",
        "        / np.sqrt(np.linalg.det(2 * np.pi * Sigma))"
      ],
      "metadata": {
        "id": "Ciq6jLpQ8BWm"
      },
      "execution_count": null,
      "outputs": []
    },
    {
      "cell_type": "markdown",
      "source": [
        "**a) [5pts]** Log-Likelihood."
      ],
      "metadata": {
        "id": "mcVJXu8-8C8K"
      }
    },
    {
      "cell_type": "code",
      "source": [
        "def log_likelihood(data, Mu, Sigma, Pi):\n",
        "    \"\"\" Compute log likelihood on the data given the Gaussian Mixture Parameters.\n",
        "    \n",
        "    Args:\n",
        "        data: a NxD matrix for the data points\n",
        "        Mu: a DxK matrix for the means of the K Gaussian Mixtures\n",
        "        Sigma: a list of size K with each element being DxD covariance matrix\n",
        "        Pi: a vector of size K for the mixing coefficients\n",
        "    \n",
        "    Returns:\n",
        "        L: a scalar denoting the log likelihood of the data given the Gaussian Mixture\n",
        "    \"\"\"\n",
        "    N, D = data.shape # TODO Number of datapoints and dimension of datapoint\n",
        "    K = Mu.shape[1] # TODO number of mixtures\n",
        "    L, T = 0., 0.\n",
        "    # TODO: given n, k, compute the likelihood from the k-th Gaussian weighted by the mixing coefficients\n",
        "    for i in range(N):\n",
        "        T = 0.\n",
        "        for j in range(K):\n",
        "           T +=Pi[j]*normal_density(data[i], Mu[:,j], Sigma[j])\n",
        "        T = np.log(T)\n",
        "        L += T\n",
        "\n",
        "    return L"
      ],
      "metadata": {
        "id": "iZGUOMuZ8KAj"
      },
      "execution_count": null,
      "outputs": []
    },
    {
      "cell_type": "markdown",
      "source": [
        "**b) [5pts]** Gaussian Mixture Expectation Step."
      ],
      "metadata": {
        "id": "E6Km8Q-P8Jr-"
      }
    },
    {
      "cell_type": "code",
      "source": [
        "from re import L\n",
        "def gm_e_step(data, Mu, Sigma, Pi):\n",
        "    \"\"\" Gaussian Mixture Expectation Step.\n",
        "\n",
        "    Args:\n",
        "        data: a NxD matrix for the data points\n",
        "        Mu: a DxK matrix for the means of the K Gaussian Mixtures\n",
        "        Sigma: a list of size K with each element being DxD covariance matrix\n",
        "        Pi: a vector of size K for the mixing coefficients\n",
        "    \n",
        "    Returns:\n",
        "        Gamma: a NxK matrix of responsibilities \n",
        "    \"\"\"\n",
        "    N, D = data.shape # TODO Number of datapoints and dimension of datapoint\n",
        "    K = Mu.shape[1] # TODO number of mixtures\n",
        "    Gamma = np.zeros((N,K)) # TODO zeros of shape (N,K), matrix of responsibilities\n",
        "\n",
        "    # TODO: given n, k, normalize by sum across second dimension (mixtures)\n",
        "    for i in range(N):\n",
        "        for j in range(K):\n",
        "            Gamma[i,j] = Pi[j]*normal_density(data[i],Mu[:, j], Sigma[j])\n",
        "    Gamma = (Gamma.T/np.sum(Gamma, axis = 1)).T\n",
        "    return Gamma"
      ],
      "metadata": {
        "id": "EOy1VrrS8bPH"
      },
      "execution_count": null,
      "outputs": []
    },
    {
      "cell_type": "code",
      "source": [
        "\n",
        "a = np.array([[1,1,1],[2,2,2]])\n",
        "a = (a.T/np.sum(a, axis = 1)).T\n",
        "print(np.sum(a, axis = 1))\n",
        "print(a)"
      ],
      "metadata": {
        "colab": {
          "base_uri": "https://localhost:8080/"
        },
        "id": "-XmQVeylsPpp",
        "outputId": "d282e157-eda2-4625-dbe6-cb2a0b9e68c7"
      },
      "execution_count": null,
      "outputs": [
        {
          "output_type": "stream",
          "name": "stdout",
          "text": [
            "[1. 1.]\n",
            "[[0.33333333 0.33333333 0.33333333]\n",
            " [0.33333333 0.33333333 0.33333333]]\n"
          ]
        }
      ]
    },
    {
      "cell_type": "markdown",
      "source": [
        "**c) [5pts]** Gaussian Mixture Maximization Step."
      ],
      "metadata": {
        "id": "bHuKzKLD8yjK"
      }
    },
    {
      "cell_type": "code",
      "source": [
        "def gm_m_step(data, Gamma):\n",
        "    \"\"\" Gaussian Mixture Maximization Step.\n",
        "\n",
        "    Args:\n",
        "        data: a NxD matrix for the data points\n",
        "        Gamma: a NxK matrix of responsibilities \n",
        "    \n",
        "    Returns:\n",
        "        Mu: a DxK matrix for the means of the K Gaussian Mixtures\n",
        "        Sigma: a list of size K with each element being DxD covariance matrix\n",
        "        Pi: a vector of size K for the mixing coefficients\n",
        "    \"\"\"\n",
        "    N, D = data.shape # TODO Number of datapoints and dimension of datapoint\n",
        "    K = Gamma.shape[1]  # TODO number of mixtures\n",
        "    Nk = np.sum(Gamma, axis = 0) # TODO Sum along first axis \n",
        "    Mu = (data.T @ Gamma)/Nk # TODO\n",
        "    Sigma = [0]*K # TODO\n",
        "\n",
        "    # TODO: fill in Sigma[k] for each k\n",
        "    for i in range(K):\n",
        "        Sigma[i] = (((data-Mu[:,i]).T * Gamma[:,i] ) @ (data-Mu[:,i]))/Nk[i]\n",
        "\n",
        "    Pi = Nk/N # TODO\n",
        "    return Mu, Sigma, Pi"
      ],
      "metadata": {
        "id": "Ly4KBK5S8zX2"
      },
      "execution_count": null,
      "outputs": []
    },
    {
      "cell_type": "code",
      "source": [
        "a = [0,1]\n",
        "a[0] = [[1]]\n",
        "print(a)\n",
        "a = np.array([[1,1,1],[2,2,2]])\n",
        "a = a*[1,2,3]\n",
        "print(a)"
      ],
      "metadata": {
        "colab": {
          "base_uri": "https://localhost:8080/"
        },
        "id": "B9CH7SJ-wN3q",
        "outputId": "9af18a7a-8b70-487a-e251-45b4f01bdf35"
      },
      "execution_count": null,
      "outputs": [
        {
          "output_type": "stream",
          "name": "stdout",
          "text": [
            "[[[1]], 1]\n",
            "[[1 2 3]\n",
            " [2 4 6]]\n"
          ]
        }
      ]
    },
    {
      "cell_type": "markdown",
      "source": [
        "**d) [4pts]** Run this cell to call the Gaussian Mixture EM algorithm."
      ],
      "metadata": {
        "id": "Y2uTCffj9LX6"
      }
    },
    {
      "cell_type": "code",
      "source": [
        "N, D = 400, 2# TODO\n",
        "K = 2 # TODO\n",
        "Mu = np.zeros([D, K])\n",
        "Mu[:, 1] = 1.\n",
        "Sigma = [np.eye(2), np.eye(2)]\n",
        "Pi = np.ones(K) / K\n",
        "Gamma = np.zeros([N, K]) # Gamma is the matrix of responsibilities \n",
        "\n",
        "log_like = []\n",
        "max_iter  = 200\n",
        "\n",
        "for it in range(max_iter):\n",
        "    Gamma = gm_e_step(data, Mu, Sigma, Pi) # TODO\n",
        "    Mu, Sigma, Pi = gm_m_step(data, Gamma) # TODO\n",
        "    l = log_likelihood(data, Mu, Sigma, Pi)\n",
        "    log_like.append(l)\n",
        "    #print(it, l)\n",
        "\n",
        "\n",
        "class_1 = data[np.where(Gamma[:,0]>Gamma[:,1])]# TODO\n",
        "class_2 = data[np.where(Gamma[:,1]>Gamma[:,0])]# TODO"
      ],
      "metadata": {
        "id": "ElKyY11N9KmR"
      },
      "execution_count": null,
      "outputs": []
    },
    {
      "cell_type": "code",
      "source": [
        "print(Mu.shape)"
      ],
      "metadata": {
        "colab": {
          "base_uri": "https://localhost:8080/"
        },
        "id": "eXhvkC2u0y5A",
        "outputId": "e8eded4c-13c7-497f-a06f-40dfd21a4870"
      },
      "execution_count": null,
      "outputs": [
        {
          "output_type": "stream",
          "name": "stdout",
          "text": [
            "(2, 2)\n"
          ]
        }
      ]
    },
    {
      "cell_type": "markdown",
      "source": [
        "**e) [2pts]** Make a scatterplot for the data points showing the Gaussian Mixture cluster assignments of each point"
      ],
      "metadata": {
        "id": "DDGgFxSt9sp5"
      }
    },
    {
      "cell_type": "code",
      "source": [
        "plt.plot(class_1[:,0], class_1[:,1], 'bx' ) # TODO first class, x shape\n",
        "plt.plot(class_2[:,0], class_2[:,1], 'go' ) # TODO second class, circle shape"
      ],
      "metadata": {
        "colab": {
          "base_uri": "https://localhost:8080/",
          "height": 282
        },
        "id": "50o0Zcll2fjw",
        "outputId": "34da3d22-c3f4-455b-a003-7185bb486575"
      },
      "execution_count": null,
      "outputs": [
        {
          "output_type": "execute_result",
          "data": {
            "text/plain": [
              "[<matplotlib.lines.Line2D at 0x7efc0a043d10>]"
            ]
          },
          "metadata": {},
          "execution_count": 161
        },
        {
          "output_type": "display_data",
          "data": {
            "text/plain": [
              "<Figure size 432x288 with 1 Axes>"
            ],
            "image/png": "[encoded data removed]"
          },
          "metadata": {
            "needs_background": "light"
          }
        }
      ]
    },
    {
      "cell_type": "code",
      "source": [
        "temp = np.zeros((N,K))\n",
        "temp[np.where(Gamma[:,0]>Gamma[:,1])]=[1,0]\n",
        "temp[np.where(Gamma[:,1]>Gamma[:,0])]=[0,1]\n",
        "print(\"error rate:\", error_rate(temp, labels))"
      ],
      "metadata": {
        "colab": {
          "base_uri": "https://localhost:8080/"
        },
        "id": "v3lF6_aa3ODy",
        "outputId": "1238bd81-0198-413f-bee7-4c6c93cbd9e5"
      },
      "execution_count": null,
      "outputs": [
        {
          "output_type": "stream",
          "name": "stdout",
          "text": [
            "error rate: 0.1075\n"
          ]
        }
      ]
    },
    {
      "cell_type": "code",
      "source": [
        "plt.plot( list(range(200)), log_like ) "
      ],
      "metadata": {
        "colab": {
          "base_uri": "https://localhost:8080/",
          "height": 282
        },
        "id": "KzSZ0biRa53r",
        "outputId": "0c8f4700-a440-4665-90bc-a94e8b09ad74"
      },
      "execution_count": null,
      "outputs": [
        {
          "output_type": "execute_result",
          "data": {
            "text/plain": [
              "[<matplotlib.lines.Line2D at 0x7efc09d37a10>]"
            ]
          },
          "metadata": {},
          "execution_count": 197
        },
        {
          "output_type": "display_data",
          "data": {
            "text/plain": [
              "<Figure size 432x288 with 1 Axes>"
            ],
            "image/png": "[encoded data removed]"
          },
          "metadata": {
            "needs_background": "light"
          }
        }
      ]
    },
    {
      "cell_type": "code",
      "source": [
        "print(temp)"
      ],
      "metadata": {
        "id": "-HlKSmV-4Eh7"
      },
      "execution_count": null,
      "outputs": []
    },
    {
      "cell_type": "markdown",
      "source": [
        "## 2.4 [8pts] Comment on findings + additional experiments\n",
        "\n",
        "Comment on the results:\n",
        "\n",
        "* Compare the performance of k-Means and EM based on the resulting cluster assignments. [2pts]\n",
        "* Compare the performance of k-Means and EM based on their convergence rate. What is the bottleneck for which method? [2pts]\n",
        "* Experiment with 5 different data realizations (generate new data), run your algorithms, and summarize your findings. Does the algorithm performance depend on different realizations of data? [3pts]\n",
        "* Comment on what might happen as you increase the number $K$ of clusters. [1pts]\n",
        " \n"
      ],
      "metadata": {
        "id": "QFy3oFR57Nqv"
      }
    },
    {
      "cell_type": "markdown",
      "source": [
        "Your answer here.\n",
        "1. EM is better then k-mean in terms of cluster assignments. (Also see the experiment code below)\n",
        "2. K-means usually converge within 10 iterations, but EM takes 50-100 rounds to converge, so K-means has better performance in terms of convergence rate.\n",
        "3. Yes, in different random data set, the performance of two algorithms various.\n",
        "4. If increasing the number of K, we might see EM is much more slower than k-means but the difference in their performance gets larger"
      ],
      "metadata": {
        "id": "wSsvAFJq7WSn"
      }
    },
    {
      "cell_type": "code",
      "source": [
        "# your code here, if you have any\n",
        "\n",
        "def experiments():\n",
        "    num_samples = 400 # TODO\n",
        "    cov = np.array([[10,7],[7,10]])# TODO\n",
        "    mean_1 = np.array([0.1,0.1])# TODO\n",
        "    mean_2 = np.array([6.0,0.1])# TODO\n",
        "\n",
        "    x_class1 = np.random.multivariate_normal(mean_1, cov, 200)# TODO\n",
        "    x_class2 = np.random.multivariate_normal(mean_2, cov, 200) # TODO\n",
        "    xy_class1 = np.hstack((x_class1,np.zeros((x_class1.shape[0], 1)))) # TODO\n",
        "    xy_class2 = np.hstack((x_class2,np.ones((x_class1.shape[0], 1))))# TODO\n",
        "\n",
        "    data_full = np.vstack((xy_class1,xy_class2))# TODO complete data\n",
        "    np.random.shuffle(data_full)\n",
        "    data = data_full[:,:2]# TODO incomplete data\n",
        "    labels = data_full[:, 2]# TODO\n",
        "\n",
        "    #k-means\n",
        "    print(\"running K-means---------------\")\n",
        "    N, D = 400, 2# TODO\n",
        "    K = 2 # TODO\n",
        "    max_iter = 100\n",
        "    class_init = np.random.randint(2, size=N).astype(int)# TODO\n",
        "    R = np.zeros((N,K))\n",
        "    R[range(N),class_init] = 1# TODO\n",
        "    Mu = np.zeros([D, K])\n",
        "    Mu[:, 1] = 1.\n",
        "    R.T.dot(data), np.sum(R, axis=0)\n",
        "\n",
        "    for it in range(max_iter):\n",
        "        R = km_assignment_step(data, Mu)# TODO\n",
        "        Mu = km_refitting_step(data, R, Mu) # TODO\n",
        "        if it%10==0:\n",
        "            print(it, cost(data, R, Mu))\n",
        "\n",
        "    k_error = error_rate(R, labels)\n",
        "\n",
        "    #EM\n",
        "    print(\"running EM ---------------\")\n",
        "    N, D = 400, 2# TODO\n",
        "    K = 2 # TODO\n",
        "    Mu = np.zeros([D, K])\n",
        "    Mu[:, 1] = 1.\n",
        "    Sigma = [np.eye(2), np.eye(2)]\n",
        "    Pi = np.ones(K) / K\n",
        "    Gamma = np.zeros([N, K]) # Gamma is the matrix of responsibilities \n",
        "\n",
        "    log_like = []\n",
        "    max_iter  = 200\n",
        "\n",
        "    for it in range(max_iter):\n",
        "        Gamma = gm_e_step(data, Mu, Sigma, Pi) # TODO\n",
        "        Mu, Sigma, Pi = gm_m_step(data, Gamma) # TODO\n",
        "        \n",
        "        if it%10==0:\n",
        "            l = log_likelihood(data, Mu, Sigma, Pi)\n",
        "            log_like.append(l)\n",
        "            print(it, l)\n",
        "        \n",
        "    temp = np.zeros((N,K))\n",
        "    temp[np.where(Gamma[:,0]>Gamma[:,1])]=[1,0]\n",
        "    temp[np.where(Gamma[:,1]>Gamma[:,0])]=[0,1]\n",
        "    em_error = error_rate(temp,labels)\n",
        "\n",
        "    return k_error, em_error"
      ],
      "metadata": {
        "id": "N3qKP6ya7RJs"
      },
      "execution_count": null,
      "outputs": []
    },
    {
      "cell_type": "code",
      "source": [
        "# run 5 times and compare errors\n",
        "k_em_errors = []\n",
        "for i in range(5):\n",
        "    errors = experiments()\n",
        "    k_em_errors.append(errors)\n",
        "    if errors[0]>errors[1]:\n",
        "        print(\"In round {}, k-means is better.\".format(i))\n",
        "    else:\n",
        "        print(\"In round {}, EM is better.\".format(i))\n"
      ],
      "metadata": {
        "colab": {
          "base_uri": "https://localhost:8080/"
        },
        "id": "WW6wEa107eG7",
        "outputId": "66418a13-bee7-4160-9f8d-02b38193bead"
      },
      "execution_count": null,
      "outputs": [
        {
          "output_type": "stream",
          "name": "stdout",
          "text": [
            "running K-means---------------\n",
            "0 7413.216790907767\n",
            "10 5445.956090222116\n",
            "20 5445.956090222116\n",
            "30 5445.956090222116\n",
            "40 5445.956090222116\n",
            "50 5445.956090222116\n",
            "60 5445.956090222116\n",
            "70 5445.956090222116\n",
            "80 5445.956090222116\n",
            "90 5445.956090222116\n",
            "running EM ---------------\n",
            "0 -2120.4970588727774\n",
            "10 -2108.3982595785355\n",
            "20 -2104.432294120705\n",
            "30 -2103.8101083636984\n",
            "40 -2103.7707072639428\n",
            "50 -2103.7651482001875\n",
            "60 -2103.7627487048017\n",
            "70 -2103.7615070035445\n",
            "80 -2103.7608581204227\n",
            "90 -2103.7605194279695\n",
            "100 -2103.7603428724033\n",
            "110 -2103.760250922502\n",
            "120 -2103.760203066671\n",
            "130 -2103.7601781714607\n",
            "140 -2103.7601652249423\n",
            "150 -2103.7601584938247\n",
            "160 -2103.760154994795\n",
            "170 -2103.7601531761156\n",
            "180 -2103.7601522309096\n",
            "190 -2103.760151739699\n",
            "In round 0, k-means is better.\n",
            "running K-means---------------\n",
            "0 11353.825532414936\n",
            "10 5286.848176541053\n",
            "20 5286.848176541053\n",
            "30 5286.848176541053\n",
            "40 5286.848176541053\n",
            "50 5286.848176541053\n",
            "60 5286.848176541053\n",
            "70 5286.848176541053\n",
            "80 5286.848176541053\n",
            "90 5286.848176541053\n",
            "running EM ---------------\n",
            "0 -2111.3938250681504\n",
            "10 -2098.294742489188\n",
            "20 -2091.4633458724097\n",
            "30 -2090.2889201816442\n",
            "40 -2089.998006373172\n",
            "50 -2089.8701485825627\n",
            "60 -2089.811706100651\n",
            "70 -2089.78475120749\n",
            "80 -2089.77221632163\n",
            "90 -2089.766349207527\n",
            "100 -2089.7635900295872\n",
            "110 -2089.762288137958\n",
            "120 -2089.761672442003\n",
            "130 -2089.761380804511\n",
            "140 -2089.7612425143025\n",
            "150 -2089.7611768902398\n",
            "160 -2089.7611457331213\n",
            "170 -2089.7611309350746\n",
            "180 -2089.7611239050493\n",
            "190 -2089.7611205647772\n",
            "In round 1, k-means is better.\n",
            "running K-means---------------\n",
            "0 11722.883705332406\n",
            "10 6450.676055033229\n",
            "20 6450.676055033229\n",
            "30 6450.676055033229\n",
            "40 6450.676055033229\n",
            "50 6450.676055033229\n",
            "60 6450.676055033229\n",
            "70 6450.676055033229\n",
            "80 6450.676055033229\n",
            "90 6450.676055033229\n",
            "running EM ---------------\n",
            "0 -2177.3690109427007\n",
            "10 -2161.17958487499\n",
            "20 -2154.4216333193176\n",
            "30 -2153.7072938323986\n",
            "40 -2153.50999643034\n",
            "50 -2153.3942013747464\n",
            "60 -2153.327188318709\n",
            "70 -2153.288620220847\n",
            "80 -2153.2664328499577\n",
            "90 -2153.253646156592\n",
            "100 -2153.2462584604496\n",
            "110 -2153.2419791147663\n",
            "120 -2153.2394945303017\n",
            "130 -2153.2380491349245\n",
            "140 -2153.2372069201842\n",
            "150 -2153.236715532417\n",
            "160 -2153.23642853764\n",
            "170 -2153.2362607826212\n",
            "180 -2153.2361626639818\n",
            "190 -2153.2361052469682\n",
            "In round 2, k-means is better.\n",
            "running K-means---------------\n",
            "0 7178.876906713607\n",
            "10 5561.848522800667\n",
            "20 5561.848522800667\n",
            "30 5561.848522800667\n",
            "40 5561.848522800667\n",
            "50 5561.848522800667\n",
            "60 5561.848522800667\n",
            "70 5561.848522800667\n",
            "80 5561.848522800667\n",
            "90 5561.848522800667\n",
            "running EM ---------------\n",
            "0 -2126.4989727117745\n",
            "10 -2117.3487203891577\n",
            "20 -2117.057672269078\n",
            "30 -2116.867959521081\n",
            "40 -2116.4839776827835\n",
            "50 -2115.053270321634\n",
            "60 -2106.734188709225\n",
            "70 -2102.885489942188\n",
            "80 -2102.80305981327\n",
            "90 -2102.794454152558\n",
            "100 -2102.791625238193\n",
            "110 -2102.790651997653\n",
            "120 -2102.790317354382\n",
            "130 -2102.7902023839556\n",
            "140 -2102.7901629032376\n",
            "150 -2102.7901493492473\n",
            "160 -2102.7901446967912\n",
            "170 -2102.7901430999627\n",
            "180 -2102.7901425519244\n",
            "190 -2102.790142363839\n",
            "In round 3, k-means is better.\n",
            "running K-means---------------\n",
            "0 7966.4388172323925\n",
            "10 5154.559614484278\n",
            "20 5154.559614484278\n",
            "30 5154.559614484278\n",
            "40 5154.559614484278\n",
            "50 5154.559614484278\n",
            "60 5154.559614484278\n",
            "70 5154.559614484278\n",
            "80 5154.559614484278\n",
            "90 5154.559614484278\n",
            "running EM ---------------\n",
            "0 -2093.730554914484\n",
            "10 -2073.9604231948138\n",
            "20 -2068.1203240729756\n",
            "30 -2067.885125605597\n",
            "40 -2067.8845904367154\n",
            "50 -2067.8845607849794\n",
            "60 -2067.884545939794\n",
            "70 -2067.884538287997\n",
            "80 -2067.884534341934\n",
            "90 -2067.884532306325\n",
            "100 -2067.884531256017\n",
            "110 -2067.8845307140095\n",
            "120 -2067.8845304342785\n",
            "130 -2067.8845302898967\n",
            "140 -2067.884530215372\n",
            "150 -2067.8845301768993\n",
            "160 -2067.8845301570436\n",
            "170 -2067.88453014679\n",
            "180 -2067.8845301414976\n",
            "190 -2067.884530138769\n",
            "In round 4, k-means is better.\n"
          ]
        }
      ]
    },
    {
      "cell_type": "code",
      "source": [
        "for i in range(5):\n",
        "    if k_em_errors[i][0]<k_em_errors[i][1]:\n",
        "        print(\"In round {}, K-means: {}, EM: {}. k-means is better.\".format(k_em_errors[i][0],k_em_errors[i][1],i))\n",
        "    else:\n",
        "        print(\"In round {}, K-means: {}, EM: {}. EM is better.\".format(k_em_errors[i][0],k_em_errors[i][1],i))\n"
      ],
      "metadata": {
        "colab": {
          "base_uri": "https://localhost:8080/"
        },
        "id": "pLvtAW7B8nOt",
        "outputId": "6dc87ae4-611f-4729-a84e-7892c585d95a"
      },
      "execution_count": null,
      "outputs": [
        {
          "output_type": "stream",
          "name": "stdout",
          "text": [
            "In round 0.22, K-means: 0.135, EM: 0. EM is better.\n",
            "In round 0.245, K-means: 0.13, EM: 1. EM is better.\n",
            "In round 0.23, K-means: 0.0625, EM: 2. EM is better.\n",
            "In round 0.2825, K-means: 0.115, EM: 3. EM is better.\n",
            "In round 0.255, K-means: 0.155, EM: 4. EM is better.\n"
          ]
        }
      ]
    }
  ]
}
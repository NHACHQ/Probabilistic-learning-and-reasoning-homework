{
  "nbformat": 4,
  "nbformat_minor": 0,
  "metadata": {
    "colab": {
      "provenance": [],
      "toc_visible": true
    },
    "kernelspec": {
      "name": "python3",
      "display_name": "Python 3"
    },
    "language_info": {
      "name": "python"
    },
    "accelerator": "GPU",
    "widgets": {
      "application/vnd.jupyter.widget-state+json": {
        "a15a50c84e27440e95e27e7b3e6e67dd": {
          "model_module": "@jupyter-widgets/controls",
          "model_name": "HBoxModel",
          "model_module_version": "1.5.0",
          "state": {
            "_dom_classes": [],
            "_model_module": "@jupyter-widgets/controls",
            "_model_module_version": "1.5.0",
            "_model_name": "HBoxModel",
            "_view_count": null,
            "_view_module": "@jupyter-widgets/controls",
            "_view_module_version": "1.5.0",
            "_view_name": "HBoxView",
            "box_style": "",
            "children": [
              "IPY_MODEL_98ea18370e1848769a3632c48369d9d4",
              "IPY_MODEL_383e235b32854e8c81b623c9ec499dc0",
              "IPY_MODEL_52b1150a6ad346a1ac65969a54485f52"
            ],
            "layout": "IPY_MODEL_866c99f48f494930b38a5aaa8169102a"
          }
        },
        "98ea18370e1848769a3632c48369d9d4": {
          "model_module": "@jupyter-widgets/controls",
          "model_name": "HTMLModel",
          "model_module_version": "1.5.0",
          "state": {
            "_dom_classes": [],
            "_model_module": "@jupyter-widgets/controls",
            "_model_module_version": "1.5.0",
            "_model_name": "HTMLModel",
            "_view_count": null,
            "_view_module": "@jupyter-widgets/controls",
            "_view_module_version": "1.5.0",
            "_view_name": "HTMLView",
            "description": "",
            "description_tooltip": null,
            "layout": "IPY_MODEL_00afa685a40b46758138d0ef9471ab20",
            "placeholder": "​",
            "style": "IPY_MODEL_b4a3050139f04d128559127f27e20c49",
            "value": "100%"
          }
        },
        "383e235b32854e8c81b623c9ec499dc0": {
          "model_module": "@jupyter-widgets/controls",
          "model_name": "FloatProgressModel",
          "model_module_version": "1.5.0",
          "state": {
            "_dom_classes": [],
            "_model_module": "@jupyter-widgets/controls",
            "_model_module_version": "1.5.0",
            "_model_name": "FloatProgressModel",
            "_view_count": null,
            "_view_module": "@jupyter-widgets/controls",
            "_view_module_version": "1.5.0",
            "_view_name": "ProgressView",
            "bar_style": "success",
            "description": "",
            "description_tooltip": null,
            "layout": "IPY_MODEL_a4aacde087c24f50999fe0019a60681a",
            "max": 2000,
            "min": 0,
            "orientation": "horizontal",
            "style": "IPY_MODEL_58cf9e9eec664b96a266241853a25f21",
            "value": 2000
          }
        },
        "52b1150a6ad346a1ac65969a54485f52": {
          "model_module": "@jupyter-widgets/controls",
          "model_name": "HTMLModel",
          "model_module_version": "1.5.0",
          "state": {
            "_dom_classes": [],
            "_model_module": "@jupyter-widgets/controls",
            "_model_module_version": "1.5.0",
            "_model_name": "HTMLModel",
            "_view_count": null,
            "_view_module": "@jupyter-widgets/controls",
            "_view_module_version": "1.5.0",
            "_view_name": "HTMLView",
            "description": "",
            "description_tooltip": null,
            "layout": "IPY_MODEL_f5973d9bbfcc4eb7bab3307b2f671bc6",
            "placeholder": "​",
            "style": "IPY_MODEL_048b19d0d89347f2bc1f758a2fbc96c0",
            "value": " 2000/2000 [00:14&lt;00:00, 263.99it/s]"
          }
        },
        "866c99f48f494930b38a5aaa8169102a": {
          "model_module": "@jupyter-widgets/base",
          "model_name": "LayoutModel",
          "model_module_version": "1.2.0",
          "state": {
            "_model_module": "@jupyter-widgets/base",
            "_model_module_version": "1.2.0",
            "_model_name": "LayoutModel",
            "_view_count": null,
            "_view_module": "@jupyter-widgets/base",
            "_view_module_version": "1.2.0",
            "_view_name": "LayoutView",
            "align_content": null,
            "align_items": null,
            "align_self": null,
            "border": null,
            "bottom": null,
            "display": null,
            "flex": null,
            "flex_flow": null,
            "grid_area": null,
            "grid_auto_columns": null,
            "grid_auto_flow": null,
            "grid_auto_rows": null,
            "grid_column": null,
            "grid_gap": null,
            "grid_row": null,
            "grid_template_areas": null,
            "grid_template_columns": null,
            "grid_template_rows": null,
            "height": null,
            "justify_content": null,
            "justify_items": null,
            "left": null,
            "margin": null,
            "max_height": null,
            "max_width": null,
            "min_height": null,
            "min_width": null,
            "object_fit": null,
            "object_position": null,
            "order": null,
            "overflow": null,
            "overflow_x": null,
            "overflow_y": null,
            "padding": null,
            "right": null,
            "top": null,
            "visibility": null,
            "width": null
          }
        },
        "00afa685a40b46758138d0ef9471ab20": {
          "model_module": "@jupyter-widgets/base",
          "model_name": "LayoutModel",
          "model_module_version": "1.2.0",
          "state": {
            "_model_module": "@jupyter-widgets/base",
            "_model_module_version": "1.2.0",
            "_model_name": "LayoutModel",
            "_view_count": null,
            "_view_module": "@jupyter-widgets/base",
            "_view_module_version": "1.2.0",
            "_view_name": "LayoutView",
            "align_content": null,
            "align_items": null,
            "align_self": null,
            "border": null,
            "bottom": null,
            "display": null,
            "flex": null,
            "flex_flow": null,
            "grid_area": null,
            "grid_auto_columns": null,
            "grid_auto_flow": null,
            "grid_auto_rows": null,
            "grid_column": null,
            "grid_gap": null,
            "grid_row": null,
            "grid_template_areas": null,
            "grid_template_columns": null,
            "grid_template_rows": null,
            "height": null,
            "justify_content": null,
            "justify_items": null,
            "left": null,
            "margin": null,
            "max_height": null,
            "max_width": null,
            "min_height": null,
            "min_width": null,
            "object_fit": null,
            "object_position": null,
            "order": null,
            "overflow": null,
            "overflow_x": null,
            "overflow_y": null,
            "padding": null,
            "right": null,
            "top": null,
            "visibility": null,
            "width": null
          }
        },
        "b4a3050139f04d128559127f27e20c49": {
          "model_module": "@jupyter-widgets/controls",
          "model_name": "DescriptionStyleModel",
          "model_module_version": "1.5.0",
          "state": {
            "_model_module": "@jupyter-widgets/controls",
            "_model_module_version": "1.5.0",
            "_model_name": "DescriptionStyleModel",
            "_view_count": null,
            "_view_module": "@jupyter-widgets/base",
            "_view_module_version": "1.2.0",
            "_view_name": "StyleView",
            "description_width": ""
          }
        },
        "a4aacde087c24f50999fe0019a60681a": {
          "model_module": "@jupyter-widgets/base",
          "model_name": "LayoutModel",
          "model_module_version": "1.2.0",
          "state": {
            "_model_module": "@jupyter-widgets/base",
            "_model_module_version": "1.2.0",
            "_model_name": "LayoutModel",
            "_view_count": null,
            "_view_module": "@jupyter-widgets/base",
            "_view_module_version": "1.2.0",
            "_view_name": "LayoutView",
            "align_content": null,
            "align_items": null,
            "align_self": null,
            "border": null,
            "bottom": null,
            "display": null,
            "flex": null,
            "flex_flow": null,
            "grid_area": null,
            "grid_auto_columns": null,
            "grid_auto_flow": null,
            "grid_auto_rows": null,
            "grid_column": null,
            "grid_gap": null,
            "grid_row": null,
            "grid_template_areas": null,
            "grid_template_columns": null,
            "grid_template_rows": null,
            "height": null,
            "justify_content": null,
            "justify_items": null,
            "left": null,
            "margin": null,
            "max_height": null,
            "max_width": null,
            "min_height": null,
            "min_width": null,
            "object_fit": null,
            "object_position": null,
            "order": null,
            "overflow": null,
            "overflow_x": null,
            "overflow_y": null,
            "padding": null,
            "right": null,
            "top": null,
            "visibility": null,
            "width": null
          }
        },
        "58cf9e9eec664b96a266241853a25f21": {
          "model_module": "@jupyter-widgets/controls",
          "model_name": "ProgressStyleModel",
          "model_module_version": "1.5.0",
          "state": {
            "_model_module": "@jupyter-widgets/controls",
            "_model_module_version": "1.5.0",
            "_model_name": "ProgressStyleModel",
            "_view_count": null,
            "_view_module": "@jupyter-widgets/base",
            "_view_module_version": "1.2.0",
            "_view_name": "StyleView",
            "bar_color": null,
            "description_width": ""
          }
        },
        "f5973d9bbfcc4eb7bab3307b2f671bc6": {
          "model_module": "@jupyter-widgets/base",
          "model_name": "LayoutModel",
          "model_module_version": "1.2.0",
          "state": {
            "_model_module": "@jupyter-widgets/base",
            "_model_module_version": "1.2.0",
            "_model_name": "LayoutModel",
            "_view_count": null,
            "_view_module": "@jupyter-widgets/base",
            "_view_module_version": "1.2.0",
            "_view_name": "LayoutView",
            "align_content": null,
            "align_items": null,
            "align_self": null,
            "border": null,
            "bottom": null,
            "display": null,
            "flex": null,
            "flex_flow": null,
            "grid_area": null,
            "grid_auto_columns": null,
            "grid_auto_flow": null,
            "grid_auto_rows": null,
            "grid_column": null,
            "grid_gap": null,
            "grid_row": null,
            "grid_template_areas": null,
            "grid_template_columns": null,
            "grid_template_rows": null,
            "height": null,
            "justify_content": null,
            "justify_items": null,
            "left": null,
            "margin": null,
            "max_height": null,
            "max_width": null,
            "min_height": null,
            "min_width": null,
            "object_fit": null,
            "object_position": null,
            "order": null,
            "overflow": null,
            "overflow_x": null,
            "overflow_y": null,
            "padding": null,
            "right": null,
            "top": null,
            "visibility": null,
            "width": null
          }
        },
        "048b19d0d89347f2bc1f758a2fbc96c0": {
          "model_module": "@jupyter-widgets/controls",
          "model_name": "DescriptionStyleModel",
          "model_module_version": "1.5.0",
          "state": {
            "_model_module": "@jupyter-widgets/controls",
            "_model_module_version": "1.5.0",
            "_model_name": "DescriptionStyleModel",
            "_view_count": null,
            "_view_module": "@jupyter-widgets/base",
            "_view_module_version": "1.2.0",
            "_view_name": "StyleView",
            "description_width": ""
          }
        },
        "695715716b824faea9e42dcf229dcdc2": {
          "model_module": "@jupyter-widgets/controls",
          "model_name": "HBoxModel",
          "model_module_version": "1.5.0",
          "state": {
            "_dom_classes": [],
            "_model_module": "@jupyter-widgets/controls",
            "_model_module_version": "1.5.0",
            "_model_name": "HBoxModel",
            "_view_count": null,
            "_view_module": "@jupyter-widgets/controls",
            "_view_module_version": "1.5.0",
            "_view_name": "HBoxView",
            "box_style": "",
            "children": [
              "IPY_MODEL_be12642ab19c4de69da99f4d7d88dc71",
              "IPY_MODEL_6c9a929eb3a24a75be3403f5b496fa8d",
              "IPY_MODEL_dd942a3128aa44e7b9abd5b43eb1822f"
            ],
            "layout": "IPY_MODEL_662984321a084220830ec227932a9ac5"
          }
        },
        "be12642ab19c4de69da99f4d7d88dc71": {
          "model_module": "@jupyter-widgets/controls",
          "model_name": "HTMLModel",
          "model_module_version": "1.5.0",
          "state": {
            "_dom_classes": [],
            "_model_module": "@jupyter-widgets/controls",
            "_model_module_version": "1.5.0",
            "_model_name": "HTMLModel",
            "_view_count": null,
            "_view_module": "@jupyter-widgets/controls",
            "_view_module_version": "1.5.0",
            "_view_name": "HTMLView",
            "description": "",
            "description_tooltip": null,
            "layout": "IPY_MODEL_8349057abbe84c93b626d74c74a87c2a",
            "placeholder": "​",
            "style": "IPY_MODEL_be7d48e9fbca4fbe8b379abd5ed6c7a9",
            "value": "100%"
          }
        },
        "6c9a929eb3a24a75be3403f5b496fa8d": {
          "model_module": "@jupyter-widgets/controls",
          "model_name": "FloatProgressModel",
          "model_module_version": "1.5.0",
          "state": {
            "_dom_classes": [],
            "_model_module": "@jupyter-widgets/controls",
            "_model_module_version": "1.5.0",
            "_model_name": "FloatProgressModel",
            "_view_count": null,
            "_view_module": "@jupyter-widgets/controls",
            "_view_module_version": "1.5.0",
            "_view_name": "ProgressView",
            "bar_style": "success",
            "description": "",
            "description_tooltip": null,
            "layout": "IPY_MODEL_61c79038872b4ea08a40ce947b6478c7",
            "max": 5000,
            "min": 0,
            "orientation": "horizontal",
            "style": "IPY_MODEL_4e93155812b94b6c95d26416b65848f8",
            "value": 5000
          }
        },
        "dd942a3128aa44e7b9abd5b43eb1822f": {
          "model_module": "@jupyter-widgets/controls",
          "model_name": "HTMLModel",
          "model_module_version": "1.5.0",
          "state": {
            "_dom_classes": [],
            "_model_module": "@jupyter-widgets/controls",
            "_model_module_version": "1.5.0",
            "_model_name": "HTMLModel",
            "_view_count": null,
            "_view_module": "@jupyter-widgets/controls",
            "_view_module_version": "1.5.0",
            "_view_name": "HTMLView",
            "description": "",
            "description_tooltip": null,
            "layout": "IPY_MODEL_e37ab8f2bd7044cb858412d6a6eda5fd",
            "placeholder": "​",
            "style": "IPY_MODEL_c1ae1e6f80784ae59704757e641bb67e",
            "value": " 5000/5000 [00:58&lt;00:00, 112.87it/s]"
          }
        },
        "662984321a084220830ec227932a9ac5": {
          "model_module": "@jupyter-widgets/base",
          "model_name": "LayoutModel",
          "model_module_version": "1.2.0",
          "state": {
            "_model_module": "@jupyter-widgets/base",
            "_model_module_version": "1.2.0",
            "_model_name": "LayoutModel",
            "_view_count": null,
            "_view_module": "@jupyter-widgets/base",
            "_view_module_version": "1.2.0",
            "_view_name": "LayoutView",
            "align_content": null,
            "align_items": null,
            "align_self": null,
            "border": null,
            "bottom": null,
            "display": null,
            "flex": null,
            "flex_flow": null,
            "grid_area": null,
            "grid_auto_columns": null,
            "grid_auto_flow": null,
            "grid_auto_rows": null,
            "grid_column": null,
            "grid_gap": null,
            "grid_row": null,
            "grid_template_areas": null,
            "grid_template_columns": null,
            "grid_template_rows": null,
            "height": null,
            "justify_content": null,
            "justify_items": null,
            "left": null,
            "margin": null,
            "max_height": null,
            "max_width": null,
            "min_height": null,
            "min_width": null,
            "object_fit": null,
            "object_position": null,
            "order": null,
            "overflow": null,
            "overflow_x": null,
            "overflow_y": null,
            "padding": null,
            "right": null,
            "top": null,
            "visibility": null,
            "width": null
          }
        },
        "8349057abbe84c93b626d74c74a87c2a": {
          "model_module": "@jupyter-widgets/base",
          "model_name": "LayoutModel",
          "model_module_version": "1.2.0",
          "state": {
            "_model_module": "@jupyter-widgets/base",
            "_model_module_version": "1.2.0",
            "_model_name": "LayoutModel",
            "_view_count": null,
            "_view_module": "@jupyter-widgets/base",
            "_view_module_version": "1.2.0",
            "_view_name": "LayoutView",
            "align_content": null,
            "align_items": null,
            "align_self": null,
            "border": null,
            "bottom": null,
            "display": null,
            "flex": null,
            "flex_flow": null,
            "grid_area": null,
            "grid_auto_columns": null,
            "grid_auto_flow": null,
            "grid_auto_rows": null,
            "grid_column": null,
            "grid_gap": null,
            "grid_row": null,
            "grid_template_areas": null,
            "grid_template_columns": null,
            "grid_template_rows": null,
            "height": null,
            "justify_content": null,
            "justify_items": null,
            "left": null,
            "margin": null,
            "max_height": null,
            "max_width": null,
            "min_height": null,
            "min_width": null,
            "object_fit": null,
            "object_position": null,
            "order": null,
            "overflow": null,
            "overflow_x": null,
            "overflow_y": null,
            "padding": null,
            "right": null,
            "top": null,
            "visibility": null,
            "width": null
          }
        },
        "be7d48e9fbca4fbe8b379abd5ed6c7a9": {
          "model_module": "@jupyter-widgets/controls",
          "model_name": "DescriptionStyleModel",
          "model_module_version": "1.5.0",
          "state": {
            "_model_module": "@jupyter-widgets/controls",
            "_model_module_version": "1.5.0",
            "_model_name": "DescriptionStyleModel",
            "_view_count": null,
            "_view_module": "@jupyter-widgets/base",
            "_view_module_version": "1.2.0",
            "_view_name": "StyleView",
            "description_width": ""
          }
        },
        "61c79038872b4ea08a40ce947b6478c7": {
          "model_module": "@jupyter-widgets/base",
          "model_name": "LayoutModel",
          "model_module_version": "1.2.0",
          "state": {
            "_model_module": "@jupyter-widgets/base",
            "_model_module_version": "1.2.0",
            "_model_name": "LayoutModel",
            "_view_count": null,
            "_view_module": "@jupyter-widgets/base",
            "_view_module_version": "1.2.0",
            "_view_name": "LayoutView",
            "align_content": null,
            "align_items": null,
            "align_self": null,
            "border": null,
            "bottom": null,
            "display": null,
            "flex": null,
            "flex_flow": null,
            "grid_area": null,
            "grid_auto_columns": null,
            "grid_auto_flow": null,
            "grid_auto_rows": null,
            "grid_column": null,
            "grid_gap": null,
            "grid_row": null,
            "grid_template_areas": null,
            "grid_template_columns": null,
            "grid_template_rows": null,
            "height": null,
            "justify_content": null,
            "justify_items": null,
            "left": null,
            "margin": null,
            "max_height": null,
            "max_width": null,
            "min_height": null,
            "min_width": null,
            "object_fit": null,
            "object_position": null,
            "order": null,
            "overflow": null,
            "overflow_x": null,
            "overflow_y": null,
            "padding": null,
            "right": null,
            "top": null,
            "visibility": null,
            "width": null
          }
        },
        "4e93155812b94b6c95d26416b65848f8": {
          "model_module": "@jupyter-widgets/controls",
          "model_name": "ProgressStyleModel",
          "model_module_version": "1.5.0",
          "state": {
            "_model_module": "@jupyter-widgets/controls",
            "_model_module_version": "1.5.0",
            "_model_name": "ProgressStyleModel",
            "_view_count": null,
            "_view_module": "@jupyter-widgets/base",
            "_view_module_version": "1.2.0",
            "_view_name": "StyleView",
            "bar_color": null,
            "description_width": ""
          }
        },
        "e37ab8f2bd7044cb858412d6a6eda5fd": {
          "model_module": "@jupyter-widgets/base",
          "model_name": "LayoutModel",
          "model_module_version": "1.2.0",
          "state": {
            "_model_module": "@jupyter-widgets/base",
            "_model_module_version": "1.2.0",
            "_model_name": "LayoutModel",
            "_view_count": null,
            "_view_module": "@jupyter-widgets/base",
            "_view_module_version": "1.2.0",
            "_view_name": "LayoutView",
            "align_content": null,
            "align_items": null,
            "align_self": null,
            "border": null,
            "bottom": null,
            "display": null,
            "flex": null,
            "flex_flow": null,
            "grid_area": null,
            "grid_auto_columns": null,
            "grid_auto_flow": null,
            "grid_auto_rows": null,
            "grid_column": null,
            "grid_gap": null,
            "grid_row": null,
            "grid_template_areas": null,
            "grid_template_columns": null,
            "grid_template_rows": null,
            "height": null,
            "justify_content": null,
            "justify_items": null,
            "left": null,
            "margin": null,
            "max_height": null,
            "max_width": null,
            "min_height": null,
            "min_width": null,
            "object_fit": null,
            "object_position": null,
            "order": null,
            "overflow": null,
            "overflow_x": null,
            "overflow_y": null,
            "padding": null,
            "right": null,
            "top": null,
            "visibility": null,
            "width": null
          }
        },
        "c1ae1e6f80784ae59704757e641bb67e": {
          "model_module": "@jupyter-widgets/controls",
          "model_name": "DescriptionStyleModel",
          "model_module_version": "1.5.0",
          "state": {
            "_model_module": "@jupyter-widgets/controls",
            "_model_module_version": "1.5.0",
            "_model_name": "DescriptionStyleModel",
            "_view_count": null,
            "_view_module": "@jupyter-widgets/base",
            "_view_module_version": "1.2.0",
            "_view_name": "StyleView",
            "description_width": ""
          }
        },
        "38e57dc332dc4811b41d44cc1649b96c": {
          "model_module": "@jupyter-widgets/controls",
          "model_name": "HBoxModel",
          "model_module_version": "1.5.0",
          "state": {
            "_dom_classes": [],
            "_model_module": "@jupyter-widgets/controls",
            "_model_module_version": "1.5.0",
            "_model_name": "HBoxModel",
            "_view_count": null,
            "_view_module": "@jupyter-widgets/controls",
            "_view_module_version": "1.5.0",
            "_view_name": "HBoxView",
            "box_style": "",
            "children": [
              "IPY_MODEL_173a577fb57048b5842bc2eb1987bb4a",
              "IPY_MODEL_7011c38b34654e338d25521090563c82",
              "IPY_MODEL_9ab3ff96f72942d69d4c6a686c2ff721"
            ],
            "layout": "IPY_MODEL_5b39899a41924f55813b40c8876043a7"
          }
        },
        "173a577fb57048b5842bc2eb1987bb4a": {
          "model_module": "@jupyter-widgets/controls",
          "model_name": "HTMLModel",
          "model_module_version": "1.5.0",
          "state": {
            "_dom_classes": [],
            "_model_module": "@jupyter-widgets/controls",
            "_model_module_version": "1.5.0",
            "_model_name": "HTMLModel",
            "_view_count": null,
            "_view_module": "@jupyter-widgets/controls",
            "_view_module_version": "1.5.0",
            "_view_name": "HTMLView",
            "description": "",
            "description_tooltip": null,
            "layout": "IPY_MODEL_65045cc898ef434fb60b520eb0bb5e66",
            "placeholder": "​",
            "style": "IPY_MODEL_6a4474090ccf44fab195eb960fd242da",
            "value": "100%"
          }
        },
        "7011c38b34654e338d25521090563c82": {
          "model_module": "@jupyter-widgets/controls",
          "model_name": "FloatProgressModel",
          "model_module_version": "1.5.0",
          "state": {
            "_dom_classes": [],
            "_model_module": "@jupyter-widgets/controls",
            "_model_module_version": "1.5.0",
            "_model_name": "FloatProgressModel",
            "_view_count": null,
            "_view_module": "@jupyter-widgets/controls",
            "_view_module_version": "1.5.0",
            "_view_name": "ProgressView",
            "bar_style": "success",
            "description": "",
            "description_tooltip": null,
            "layout": "IPY_MODEL_a241ba7b1eec47ef9220256aafa3ddf8",
            "max": 5000,
            "min": 0,
            "orientation": "horizontal",
            "style": "IPY_MODEL_4882da2c1c2e434e99d1c0b1b31cd3f9",
            "value": 5000
          }
        },
        "9ab3ff96f72942d69d4c6a686c2ff721": {
          "model_module": "@jupyter-widgets/controls",
          "model_name": "HTMLModel",
          "model_module_version": "1.5.0",
          "state": {
            "_dom_classes": [],
            "_model_module": "@jupyter-widgets/controls",
            "_model_module_version": "1.5.0",
            "_model_name": "HTMLModel",
            "_view_count": null,
            "_view_module": "@jupyter-widgets/controls",
            "_view_module_version": "1.5.0",
            "_view_name": "HTMLView",
            "description": "",
            "description_tooltip": null,
            "layout": "IPY_MODEL_a0d29c6e3db0496794b49b4380f1d865",
            "placeholder": "​",
            "style": "IPY_MODEL_bec727d0382140808a6d15a95a01e18f",
            "value": " 5000/5000 [00:55&lt;00:00, 109.33it/s]"
          }
        },
        "5b39899a41924f55813b40c8876043a7": {
          "model_module": "@jupyter-widgets/base",
          "model_name": "LayoutModel",
          "model_module_version": "1.2.0",
          "state": {
            "_model_module": "@jupyter-widgets/base",
            "_model_module_version": "1.2.0",
            "_model_name": "LayoutModel",
            "_view_count": null,
            "_view_module": "@jupyter-widgets/base",
            "_view_module_version": "1.2.0",
            "_view_name": "LayoutView",
            "align_content": null,
            "align_items": null,
            "align_self": null,
            "border": null,
            "bottom": null,
            "display": null,
            "flex": null,
            "flex_flow": null,
            "grid_area": null,
            "grid_auto_columns": null,
            "grid_auto_flow": null,
            "grid_auto_rows": null,
            "grid_column": null,
            "grid_gap": null,
            "grid_row": null,
            "grid_template_areas": null,
            "grid_template_columns": null,
            "grid_template_rows": null,
            "height": null,
            "justify_content": null,
            "justify_items": null,
            "left": null,
            "margin": null,
            "max_height": null,
            "max_width": null,
            "min_height": null,
            "min_width": null,
            "object_fit": null,
            "object_position": null,
            "order": null,
            "overflow": null,
            "overflow_x": null,
            "overflow_y": null,
            "padding": null,
            "right": null,
            "top": null,
            "visibility": null,
            "width": null
          }
        },
        "65045cc898ef434fb60b520eb0bb5e66": {
          "model_module": "@jupyter-widgets/base",
          "model_name": "LayoutModel",
          "model_module_version": "1.2.0",
          "state": {
            "_model_module": "@jupyter-widgets/base",
            "_model_module_version": "1.2.0",
            "_model_name": "LayoutModel",
            "_view_count": null,
            "_view_module": "@jupyter-widgets/base",
            "_view_module_version": "1.2.0",
            "_view_name": "LayoutView",
            "align_content": null,
            "align_items": null,
            "align_self": null,
            "border": null,
            "bottom": null,
            "display": null,
            "flex": null,
            "flex_flow": null,
            "grid_area": null,
            "grid_auto_columns": null,
            "grid_auto_flow": null,
            "grid_auto_rows": null,
            "grid_column": null,
            "grid_gap": null,
            "grid_row": null,
            "grid_template_areas": null,
            "grid_template_columns": null,
            "grid_template_rows": null,
            "height": null,
            "justify_content": null,
            "justify_items": null,
            "left": null,
            "margin": null,
            "max_height": null,
            "max_width": null,
            "min_height": null,
            "min_width": null,
            "object_fit": null,
            "object_position": null,
            "order": null,
            "overflow": null,
            "overflow_x": null,
            "overflow_y": null,
            "padding": null,
            "right": null,
            "top": null,
            "visibility": null,
            "width": null
          }
        },
        "6a4474090ccf44fab195eb960fd242da": {
          "model_module": "@jupyter-widgets/controls",
          "model_name": "DescriptionStyleModel",
          "model_module_version": "1.5.0",
          "state": {
            "_model_module": "@jupyter-widgets/controls",
            "_model_module_version": "1.5.0",
            "_model_name": "DescriptionStyleModel",
            "_view_count": null,
            "_view_module": "@jupyter-widgets/base",
            "_view_module_version": "1.2.0",
            "_view_name": "StyleView",
            "description_width": ""
          }
        },
        "a241ba7b1eec47ef9220256aafa3ddf8": {
          "model_module": "@jupyter-widgets/base",
          "model_name": "LayoutModel",
          "model_module_version": "1.2.0",
          "state": {
            "_model_module": "@jupyter-widgets/base",
            "_model_module_version": "1.2.0",
            "_model_name": "LayoutModel",
            "_view_count": null,
            "_view_module": "@jupyter-widgets/base",
            "_view_module_version": "1.2.0",
            "_view_name": "LayoutView",
            "align_content": null,
            "align_items": null,
            "align_self": null,
            "border": null,
            "bottom": null,
            "display": null,
            "flex": null,
            "flex_flow": null,
            "grid_area": null,
            "grid_auto_columns": null,
            "grid_auto_flow": null,
            "grid_auto_rows": null,
            "grid_column": null,
            "grid_gap": null,
            "grid_row": null,
            "grid_template_areas": null,
            "grid_template_columns": null,
            "grid_template_rows": null,
            "height": null,
            "justify_content": null,
            "justify_items": null,
            "left": null,
            "margin": null,
            "max_height": null,
            "max_width": null,
            "min_height": null,
            "min_width": null,
            "object_fit": null,
            "object_position": null,
            "order": null,
            "overflow": null,
            "overflow_x": null,
            "overflow_y": null,
            "padding": null,
            "right": null,
            "top": null,
            "visibility": null,
            "width": null
          }
        },
        "4882da2c1c2e434e99d1c0b1b31cd3f9": {
          "model_module": "@jupyter-widgets/controls",
          "model_name": "ProgressStyleModel",
          "model_module_version": "1.5.0",
          "state": {
            "_model_module": "@jupyter-widgets/controls",
            "_model_module_version": "1.5.0",
            "_model_name": "ProgressStyleModel",
            "_view_count": null,
            "_view_module": "@jupyter-widgets/base",
            "_view_module_version": "1.2.0",
            "_view_name": "StyleView",
            "bar_color": null,
            "description_width": ""
          }
        },
        "a0d29c6e3db0496794b49b4380f1d865": {
          "model_module": "@jupyter-widgets/base",
          "model_name": "LayoutModel",
          "model_module_version": "1.2.0",
          "state": {
            "_model_module": "@jupyter-widgets/base",
            "_model_module_version": "1.2.0",
            "_model_name": "LayoutModel",
            "_view_count": null,
            "_view_module": "@jupyter-widgets/base",
            "_view_module_version": "1.2.0",
            "_view_name": "LayoutView",
            "align_content": null,
            "align_items": null,
            "align_self": null,
            "border": null,
            "bottom": null,
            "display": null,
            "flex": null,
            "flex_flow": null,
            "grid_area": null,
            "grid_auto_columns": null,
            "grid_auto_flow": null,
            "grid_auto_rows": null,
            "grid_column": null,
            "grid_gap": null,
            "grid_row": null,
            "grid_template_areas": null,
            "grid_template_columns": null,
            "grid_template_rows": null,
            "height": null,
            "justify_content": null,
            "justify_items": null,
            "left": null,
            "margin": null,
            "max_height": null,
            "max_width": null,
            "min_height": null,
            "min_width": null,
            "object_fit": null,
            "object_position": null,
            "order": null,
            "overflow": null,
            "overflow_x": null,
            "overflow_y": null,
            "padding": null,
            "right": null,
            "top": null,
            "visibility": null,
            "width": null
          }
        },
        "bec727d0382140808a6d15a95a01e18f": {
          "model_module": "@jupyter-widgets/controls",
          "model_name": "DescriptionStyleModel",
          "model_module_version": "1.5.0",
          "state": {
            "_model_module": "@jupyter-widgets/controls",
            "_model_module_version": "1.5.0",
            "_model_name": "DescriptionStyleModel",
            "_view_count": null,
            "_view_module": "@jupyter-widgets/base",
            "_view_module_version": "1.2.0",
            "_view_name": "StyleView",
            "description_width": ""
          }
        },
        "c13faf9d58b74155addefb598941f64b": {
          "model_module": "@jupyter-widgets/controls",
          "model_name": "HBoxModel",
          "model_module_version": "1.5.0",
          "state": {
            "_dom_classes": [],
            "_model_module": "@jupyter-widgets/controls",
            "_model_module_version": "1.5.0",
            "_model_name": "HBoxModel",
            "_view_count": null,
            "_view_module": "@jupyter-widgets/controls",
            "_view_module_version": "1.5.0",
            "_view_name": "HBoxView",
            "box_style": "",
            "children": [
              "IPY_MODEL_ec3513a3b5a54c83a99542e789e26e39",
              "IPY_MODEL_00737333339047cbb378f7f52a624085",
              "IPY_MODEL_554247db5df74b76896383f8cc48fc81"
            ],
            "layout": "IPY_MODEL_6312285776264c23ad04327becb96a6a"
          }
        },
        "ec3513a3b5a54c83a99542e789e26e39": {
          "model_module": "@jupyter-widgets/controls",
          "model_name": "HTMLModel",
          "model_module_version": "1.5.0",
          "state": {
            "_dom_classes": [],
            "_model_module": "@jupyter-widgets/controls",
            "_model_module_version": "1.5.0",
            "_model_name": "HTMLModel",
            "_view_count": null,
            "_view_module": "@jupyter-widgets/controls",
            "_view_module_version": "1.5.0",
            "_view_name": "HTMLView",
            "description": "",
            "description_tooltip": null,
            "layout": "IPY_MODEL_dfea029efc3c47f78b2d01b44c698254",
            "placeholder": "​",
            "style": "IPY_MODEL_4e85633a74e44527809bf852e0e67091",
            "value": "100%"
          }
        },
        "00737333339047cbb378f7f52a624085": {
          "model_module": "@jupyter-widgets/controls",
          "model_name": "FloatProgressModel",
          "model_module_version": "1.5.0",
          "state": {
            "_dom_classes": [],
            "_model_module": "@jupyter-widgets/controls",
            "_model_module_version": "1.5.0",
            "_model_name": "FloatProgressModel",
            "_view_count": null,
            "_view_module": "@jupyter-widgets/controls",
            "_view_module_version": "1.5.0",
            "_view_name": "ProgressView",
            "bar_style": "success",
            "description": "",
            "description_tooltip": null,
            "layout": "IPY_MODEL_248a2e73b3234617a3f348bc7f28f636",
            "max": 100,
            "min": 0,
            "orientation": "horizontal",
            "style": "IPY_MODEL_d01c13a73f46480882f6be3321679de6",
            "value": 100
          }
        },
        "554247db5df74b76896383f8cc48fc81": {
          "model_module": "@jupyter-widgets/controls",
          "model_name": "HTMLModel",
          "model_module_version": "1.5.0",
          "state": {
            "_dom_classes": [],
            "_model_module": "@jupyter-widgets/controls",
            "_model_module_version": "1.5.0",
            "_model_name": "HTMLModel",
            "_view_count": null,
            "_view_module": "@jupyter-widgets/controls",
            "_view_module_version": "1.5.0",
            "_view_name": "HTMLView",
            "description": "",
            "description_tooltip": null,
            "layout": "IPY_MODEL_74a4806175674975a09983ef1130fd2e",
            "placeholder": "​",
            "style": "IPY_MODEL_cc03374a19a446ebac7a605d9330afd5",
            "value": " 100/100 [00:03&lt;00:00, 52.53it/s]"
          }
        },
        "6312285776264c23ad04327becb96a6a": {
          "model_module": "@jupyter-widgets/base",
          "model_name": "LayoutModel",
          "model_module_version": "1.2.0",
          "state": {
            "_model_module": "@jupyter-widgets/base",
            "_model_module_version": "1.2.0",
            "_model_name": "LayoutModel",
            "_view_count": null,
            "_view_module": "@jupyter-widgets/base",
            "_view_module_version": "1.2.0",
            "_view_name": "LayoutView",
            "align_content": null,
            "align_items": null,
            "align_self": null,
            "border": null,
            "bottom": null,
            "display": null,
            "flex": null,
            "flex_flow": null,
            "grid_area": null,
            "grid_auto_columns": null,
            "grid_auto_flow": null,
            "grid_auto_rows": null,
            "grid_column": null,
            "grid_gap": null,
            "grid_row": null,
            "grid_template_areas": null,
            "grid_template_columns": null,
            "grid_template_rows": null,
            "height": null,
            "justify_content": null,
            "justify_items": null,
            "left": null,
            "margin": null,
            "max_height": null,
            "max_width": null,
            "min_height": null,
            "min_width": null,
            "object_fit": null,
            "object_position": null,
            "order": null,
            "overflow": null,
            "overflow_x": null,
            "overflow_y": null,
            "padding": null,
            "right": null,
            "top": null,
            "visibility": null,
            "width": null
          }
        },
        "dfea029efc3c47f78b2d01b44c698254": {
          "model_module": "@jupyter-widgets/base",
          "model_name": "LayoutModel",
          "model_module_version": "1.2.0",
          "state": {
            "_model_module": "@jupyter-widgets/base",
            "_model_module_version": "1.2.0",
            "_model_name": "LayoutModel",
            "_view_count": null,
            "_view_module": "@jupyter-widgets/base",
            "_view_module_version": "1.2.0",
            "_view_name": "LayoutView",
            "align_content": null,
            "align_items": null,
            "align_self": null,
            "border": null,
            "bottom": null,
            "display": null,
            "flex": null,
            "flex_flow": null,
            "grid_area": null,
            "grid_auto_columns": null,
            "grid_auto_flow": null,
            "grid_auto_rows": null,
            "grid_column": null,
            "grid_gap": null,
            "grid_row": null,
            "grid_template_areas": null,
            "grid_template_columns": null,
            "grid_template_rows": null,
            "height": null,
            "justify_content": null,
            "justify_items": null,
            "left": null,
            "margin": null,
            "max_height": null,
            "max_width": null,
            "min_height": null,
            "min_width": null,
            "object_fit": null,
            "object_position": null,
            "order": null,
            "overflow": null,
            "overflow_x": null,
            "overflow_y": null,
            "padding": null,
            "right": null,
            "top": null,
            "visibility": null,
            "width": null
          }
        },
        "4e85633a74e44527809bf852e0e67091": {
          "model_module": "@jupyter-widgets/controls",
          "model_name": "DescriptionStyleModel",
          "model_module_version": "1.5.0",
          "state": {
            "_model_module": "@jupyter-widgets/controls",
            "_model_module_version": "1.5.0",
            "_model_name": "DescriptionStyleModel",
            "_view_count": null,
            "_view_module": "@jupyter-widgets/base",
            "_view_module_version": "1.2.0",
            "_view_name": "StyleView",
            "description_width": ""
          }
        },
        "248a2e73b3234617a3f348bc7f28f636": {
          "model_module": "@jupyter-widgets/base",
          "model_name": "LayoutModel",
          "model_module_version": "1.2.0",
          "state": {
            "_model_module": "@jupyter-widgets/base",
            "_model_module_version": "1.2.0",
            "_model_name": "LayoutModel",
            "_view_count": null,
            "_view_module": "@jupyter-widgets/base",
            "_view_module_version": "1.2.0",
            "_view_name": "LayoutView",
            "align_content": null,
            "align_items": null,
            "align_self": null,
            "border": null,
            "bottom": null,
            "display": null,
            "flex": null,
            "flex_flow": null,
            "grid_area": null,
            "grid_auto_columns": null,
            "grid_auto_flow": null,
            "grid_auto_rows": null,
            "grid_column": null,
            "grid_gap": null,
            "grid_row": null,
            "grid_template_areas": null,
            "grid_template_columns": null,
            "grid_template_rows": null,
            "height": null,
            "justify_content": null,
            "justify_items": null,
            "left": null,
            "margin": null,
            "max_height": null,
            "max_width": null,
            "min_height": null,
            "min_width": null,
            "object_fit": null,
            "object_position": null,
            "order": null,
            "overflow": null,
            "overflow_x": null,
            "overflow_y": null,
            "padding": null,
            "right": null,
            "top": null,
            "visibility": null,
            "width": null
          }
        },
        "d01c13a73f46480882f6be3321679de6": {
          "model_module": "@jupyter-widgets/controls",
          "model_name": "ProgressStyleModel",
          "model_module_version": "1.5.0",
          "state": {
            "_model_module": "@jupyter-widgets/controls",
            "_model_module_version": "1.5.0",
            "_model_name": "ProgressStyleModel",
            "_view_count": null,
            "_view_module": "@jupyter-widgets/base",
            "_view_module_version": "1.2.0",
            "_view_name": "StyleView",
            "bar_color": null,
            "description_width": ""
          }
        },
        "74a4806175674975a09983ef1130fd2e": {
          "model_module": "@jupyter-widgets/base",
          "model_name": "LayoutModel",
          "model_module_version": "1.2.0",
          "state": {
            "_model_module": "@jupyter-widgets/base",
            "_model_module_version": "1.2.0",
            "_model_name": "LayoutModel",
            "_view_count": null,
            "_view_module": "@jupyter-widgets/base",
            "_view_module_version": "1.2.0",
            "_view_name": "LayoutView",
            "align_content": null,
            "align_items": null,
            "align_self": null,
            "border": null,
            "bottom": null,
            "display": null,
            "flex": null,
            "flex_flow": null,
            "grid_area": null,
            "grid_auto_columns": null,
            "grid_auto_flow": null,
            "grid_auto_rows": null,
            "grid_column": null,
            "grid_gap": null,
            "grid_row": null,
            "grid_template_areas": null,
            "grid_template_columns": null,
            "grid_template_rows": null,
            "height": null,
            "justify_content": null,
            "justify_items": null,
            "left": null,
            "margin": null,
            "max_height": null,
            "max_width": null,
            "min_height": null,
            "min_width": null,
            "object_fit": null,
            "object_position": null,
            "order": null,
            "overflow": null,
            "overflow_x": null,
            "overflow_y": null,
            "padding": null,
            "right": null,
            "top": null,
            "visibility": null,
            "width": null
          }
        },
        "cc03374a19a446ebac7a605d9330afd5": {
          "model_module": "@jupyter-widgets/controls",
          "model_name": "DescriptionStyleModel",
          "model_module_version": "1.5.0",
          "state": {
            "_model_module": "@jupyter-widgets/controls",
            "_model_module_version": "1.5.0",
            "_model_name": "DescriptionStyleModel",
            "_view_count": null,
            "_view_module": "@jupyter-widgets/base",
            "_view_module_version": "1.2.0",
            "_view_name": "StyleView",
            "description_width": ""
          }
        },
        "8b1f2d4d376941f6b6cf9fdc5338b1a2": {
          "model_module": "@jupyter-widgets/controls",
          "model_name": "HBoxModel",
          "model_module_version": "1.5.0",
          "state": {
            "_dom_classes": [],
            "_model_module": "@jupyter-widgets/controls",
            "_model_module_version": "1.5.0",
            "_model_name": "HBoxModel",
            "_view_count": null,
            "_view_module": "@jupyter-widgets/controls",
            "_view_module_version": "1.5.0",
            "_view_name": "HBoxView",
            "box_style": "",
            "children": [
              "IPY_MODEL_cec17637691747fa9cffd4bfd29cc6d7",
              "IPY_MODEL_22b8cbf1f73d4bd0bbb03c3bd8d05b40",
              "IPY_MODEL_a79e262c9b6f4f2090a9825d8c7c0a21"
            ],
            "layout": "IPY_MODEL_f7fb3d9e7d04435eb1fb92207e1b48f6"
          }
        },
        "cec17637691747fa9cffd4bfd29cc6d7": {
          "model_module": "@jupyter-widgets/controls",
          "model_name": "HTMLModel",
          "model_module_version": "1.5.0",
          "state": {
            "_dom_classes": [],
            "_model_module": "@jupyter-widgets/controls",
            "_model_module_version": "1.5.0",
            "_model_name": "HTMLModel",
            "_view_count": null,
            "_view_module": "@jupyter-widgets/controls",
            "_view_module_version": "1.5.0",
            "_view_name": "HTMLView",
            "description": "",
            "description_tooltip": null,
            "layout": "IPY_MODEL_8957baa9684149af850057c403e28093",
            "placeholder": "​",
            "style": "IPY_MODEL_f555e138b9a3485486ff486b3af21a6f",
            "value": "100%"
          }
        },
        "22b8cbf1f73d4bd0bbb03c3bd8d05b40": {
          "model_module": "@jupyter-widgets/controls",
          "model_name": "FloatProgressModel",
          "model_module_version": "1.5.0",
          "state": {
            "_dom_classes": [],
            "_model_module": "@jupyter-widgets/controls",
            "_model_module_version": "1.5.0",
            "_model_name": "FloatProgressModel",
            "_view_count": null,
            "_view_module": "@jupyter-widgets/controls",
            "_view_module_version": "1.5.0",
            "_view_name": "ProgressView",
            "bar_style": "success",
            "description": "",
            "description_tooltip": null,
            "layout": "IPY_MODEL_c064ad773db246e1aeae8d6121eca101",
            "max": 100,
            "min": 0,
            "orientation": "horizontal",
            "style": "IPY_MODEL_e00e4fc0fa944188a566a8b6a25412b7",
            "value": 100
          }
        },
        "a79e262c9b6f4f2090a9825d8c7c0a21": {
          "model_module": "@jupyter-widgets/controls",
          "model_name": "HTMLModel",
          "model_module_version": "1.5.0",
          "state": {
            "_dom_classes": [],
            "_model_module": "@jupyter-widgets/controls",
            "_model_module_version": "1.5.0",
            "_model_name": "HTMLModel",
            "_view_count": null,
            "_view_module": "@jupyter-widgets/controls",
            "_view_module_version": "1.5.0",
            "_view_name": "HTMLView",
            "description": "",
            "description_tooltip": null,
            "layout": "IPY_MODEL_e24967d78d6d4e93aaf2fbdde6af030c",
            "placeholder": "​",
            "style": "IPY_MODEL_15e1c3bfb68340c38646ed0e49896d6c",
            "value": " 100/100 [00:01&lt;00:00, 90.68it/s]"
          }
        },
        "f7fb3d9e7d04435eb1fb92207e1b48f6": {
          "model_module": "@jupyter-widgets/base",
          "model_name": "LayoutModel",
          "model_module_version": "1.2.0",
          "state": {
            "_model_module": "@jupyter-widgets/base",
            "_model_module_version": "1.2.0",
            "_model_name": "LayoutModel",
            "_view_count": null,
            "_view_module": "@jupyter-widgets/base",
            "_view_module_version": "1.2.0",
            "_view_name": "LayoutView",
            "align_content": null,
            "align_items": null,
            "align_self": null,
            "border": null,
            "bottom": null,
            "display": null,
            "flex": null,
            "flex_flow": null,
            "grid_area": null,
            "grid_auto_columns": null,
            "grid_auto_flow": null,
            "grid_auto_rows": null,
            "grid_column": null,
            "grid_gap": null,
            "grid_row": null,
            "grid_template_areas": null,
            "grid_template_columns": null,
            "grid_template_rows": null,
            "height": null,
            "justify_content": null,
            "justify_items": null,
            "left": null,
            "margin": null,
            "max_height": null,
            "max_width": null,
            "min_height": null,
            "min_width": null,
            "object_fit": null,
            "object_position": null,
            "order": null,
            "overflow": null,
            "overflow_x": null,
            "overflow_y": null,
            "padding": null,
            "right": null,
            "top": null,
            "visibility": null,
            "width": null
          }
        },
        "8957baa9684149af850057c403e28093": {
          "model_module": "@jupyter-widgets/base",
          "model_name": "LayoutModel",
          "model_module_version": "1.2.0",
          "state": {
            "_model_module": "@jupyter-widgets/base",
            "_model_module_version": "1.2.0",
            "_model_name": "LayoutModel",
            "_view_count": null,
            "_view_module": "@jupyter-widgets/base",
            "_view_module_version": "1.2.0",
            "_view_name": "LayoutView",
            "align_content": null,
            "align_items": null,
            "align_self": null,
            "border": null,
            "bottom": null,
            "display": null,
            "flex": null,
            "flex_flow": null,
            "grid_area": null,
            "grid_auto_columns": null,
            "grid_auto_flow": null,
            "grid_auto_rows": null,
            "grid_column": null,
            "grid_gap": null,
            "grid_row": null,
            "grid_template_areas": null,
            "grid_template_columns": null,
            "grid_template_rows": null,
            "height": null,
            "justify_content": null,
            "justify_items": null,
            "left": null,
            "margin": null,
            "max_height": null,
            "max_width": null,
            "min_height": null,
            "min_width": null,
            "object_fit": null,
            "object_position": null,
            "order": null,
            "overflow": null,
            "overflow_x": null,
            "overflow_y": null,
            "padding": null,
            "right": null,
            "top": null,
            "visibility": null,
            "width": null
          }
        },
        "f555e138b9a3485486ff486b3af21a6f": {
          "model_module": "@jupyter-widgets/controls",
          "model_name": "DescriptionStyleModel",
          "model_module_version": "1.5.0",
          "state": {
            "_model_module": "@jupyter-widgets/controls",
            "_model_module_version": "1.5.0",
            "_model_name": "DescriptionStyleModel",
            "_view_count": null,
            "_view_module": "@jupyter-widgets/base",
            "_view_module_version": "1.2.0",
            "_view_name": "StyleView",
            "description_width": ""
          }
        },
        "c064ad773db246e1aeae8d6121eca101": {
          "model_module": "@jupyter-widgets/base",
          "model_name": "LayoutModel",
          "model_module_version": "1.2.0",
          "state": {
            "_model_module": "@jupyter-widgets/base",
            "_model_module_version": "1.2.0",
            "_model_name": "LayoutModel",
            "_view_count": null,
            "_view_module": "@jupyter-widgets/base",
            "_view_module_version": "1.2.0",
            "_view_name": "LayoutView",
            "align_content": null,
            "align_items": null,
            "align_self": null,
            "border": null,
            "bottom": null,
            "display": null,
            "flex": null,
            "flex_flow": null,
            "grid_area": null,
            "grid_auto_columns": null,
            "grid_auto_flow": null,
            "grid_auto_rows": null,
            "grid_column": null,
            "grid_gap": null,
            "grid_row": null,
            "grid_template_areas": null,
            "grid_template_columns": null,
            "grid_template_rows": null,
            "height": null,
            "justify_content": null,
            "justify_items": null,
            "left": null,
            "margin": null,
            "max_height": null,
            "max_width": null,
            "min_height": null,
            "min_width": null,
            "object_fit": null,
            "object_position": null,
            "order": null,
            "overflow": null,
            "overflow_x": null,
            "overflow_y": null,
            "padding": null,
            "right": null,
            "top": null,
            "visibility": null,
            "width": null
          }
        },
        "e00e4fc0fa944188a566a8b6a25412b7": {
          "model_module": "@jupyter-widgets/controls",
          "model_name": "ProgressStyleModel",
          "model_module_version": "1.5.0",
          "state": {
            "_model_module": "@jupyter-widgets/controls",
            "_model_module_version": "1.5.0",
            "_model_name": "ProgressStyleModel",
            "_view_count": null,
            "_view_module": "@jupyter-widgets/base",
            "_view_module_version": "1.2.0",
            "_view_name": "StyleView",
            "bar_color": null,
            "description_width": ""
          }
        },
        "e24967d78d6d4e93aaf2fbdde6af030c": {
          "model_module": "@jupyter-widgets/base",
          "model_name": "LayoutModel",
          "model_module_version": "1.2.0",
          "state": {
            "_model_module": "@jupyter-widgets/base",
            "_model_module_version": "1.2.0",
            "_model_name": "LayoutModel",
            "_view_count": null,
            "_view_module": "@jupyter-widgets/base",
            "_view_module_version": "1.2.0",
            "_view_name": "LayoutView",
            "align_content": null,
            "align_items": null,
            "align_self": null,
            "border": null,
            "bottom": null,
            "display": null,
            "flex": null,
            "flex_flow": null,
            "grid_area": null,
            "grid_auto_columns": null,
            "grid_auto_flow": null,
            "grid_auto_rows": null,
            "grid_column": null,
            "grid_gap": null,
            "grid_row": null,
            "grid_template_areas": null,
            "grid_template_columns": null,
            "grid_template_rows": null,
            "height": null,
            "justify_content": null,
            "justify_items": null,
            "left": null,
            "margin": null,
            "max_height": null,
            "max_width": null,
            "min_height": null,
            "min_width": null,
            "object_fit": null,
            "object_position": null,
            "order": null,
            "overflow": null,
            "overflow_x": null,
            "overflow_y": null,
            "padding": null,
            "right": null,
            "top": null,
            "visibility": null,
            "width": null
          }
        },
        "15e1c3bfb68340c38646ed0e49896d6c": {
          "model_module": "@jupyter-widgets/controls",
          "model_name": "DescriptionStyleModel",
          "model_module_version": "1.5.0",
          "state": {
            "_model_module": "@jupyter-widgets/controls",
            "_model_module_version": "1.5.0",
            "_model_name": "DescriptionStyleModel",
            "_view_count": null,
            "_view_module": "@jupyter-widgets/base",
            "_view_module_version": "1.2.0",
            "_view_name": "StyleView",
            "description_width": ""
          }
        },
        "8a708a1a46684332a94851515ec5411c": {
          "model_module": "@jupyter-widgets/controls",
          "model_name": "HBoxModel",
          "model_module_version": "1.5.0",
          "state": {
            "_dom_classes": [],
            "_model_module": "@jupyter-widgets/controls",
            "_model_module_version": "1.5.0",
            "_model_name": "HBoxModel",
            "_view_count": null,
            "_view_module": "@jupyter-widgets/controls",
            "_view_module_version": "1.5.0",
            "_view_name": "HBoxView",
            "box_style": "",
            "children": [
              "IPY_MODEL_7e654c3ee00b4d62b952dbf3d77973c3",
              "IPY_MODEL_cbe077eb7c1642a48e22e23553f4d714",
              "IPY_MODEL_951a5b663d0c4e0a902afb52bbae5087"
            ],
            "layout": "IPY_MODEL_bd97548a06ff4af29fa01ad959cb981c"
          }
        },
        "7e654c3ee00b4d62b952dbf3d77973c3": {
          "model_module": "@jupyter-widgets/controls",
          "model_name": "HTMLModel",
          "model_module_version": "1.5.0",
          "state": {
            "_dom_classes": [],
            "_model_module": "@jupyter-widgets/controls",
            "_model_module_version": "1.5.0",
            "_model_name": "HTMLModel",
            "_view_count": null,
            "_view_module": "@jupyter-widgets/controls",
            "_view_module_version": "1.5.0",
            "_view_name": "HTMLView",
            "description": "",
            "description_tooltip": null,
            "layout": "IPY_MODEL_9e3ea8cc2b3241ccaacc65d19e8c878b",
            "placeholder": "​",
            "style": "IPY_MODEL_9e4d6d4c7bc444328aabf5e066071453",
            "value": "100%"
          }
        },
        "cbe077eb7c1642a48e22e23553f4d714": {
          "model_module": "@jupyter-widgets/controls",
          "model_name": "FloatProgressModel",
          "model_module_version": "1.5.0",
          "state": {
            "_dom_classes": [],
            "_model_module": "@jupyter-widgets/controls",
            "_model_module_version": "1.5.0",
            "_model_name": "FloatProgressModel",
            "_view_count": null,
            "_view_module": "@jupyter-widgets/controls",
            "_view_module_version": "1.5.0",
            "_view_name": "ProgressView",
            "bar_style": "success",
            "description": "",
            "description_tooltip": null,
            "layout": "IPY_MODEL_d56c6df59a154ff696e493201ee6a38e",
            "max": 100,
            "min": 0,
            "orientation": "horizontal",
            "style": "IPY_MODEL_06309f21d3994e4c92be1334557f773f",
            "value": 100
          }
        },
        "951a5b663d0c4e0a902afb52bbae5087": {
          "model_module": "@jupyter-widgets/controls",
          "model_name": "HTMLModel",
          "model_module_version": "1.5.0",
          "state": {
            "_dom_classes": [],
            "_model_module": "@jupyter-widgets/controls",
            "_model_module_version": "1.5.0",
            "_model_name": "HTMLModel",
            "_view_count": null,
            "_view_module": "@jupyter-widgets/controls",
            "_view_module_version": "1.5.0",
            "_view_name": "HTMLView",
            "description": "",
            "description_tooltip": null,
            "layout": "IPY_MODEL_f7c97cc58b9f47e89f42113644a0d5cc",
            "placeholder": "​",
            "style": "IPY_MODEL_264d8e100f124e3ba69d82b1da850245",
            "value": " 100/100 [00:01&lt;00:00, 87.11it/s]"
          }
        },
        "bd97548a06ff4af29fa01ad959cb981c": {
          "model_module": "@jupyter-widgets/base",
          "model_name": "LayoutModel",
          "model_module_version": "1.2.0",
          "state": {
            "_model_module": "@jupyter-widgets/base",
            "_model_module_version": "1.2.0",
            "_model_name": "LayoutModel",
            "_view_count": null,
            "_view_module": "@jupyter-widgets/base",
            "_view_module_version": "1.2.0",
            "_view_name": "LayoutView",
            "align_content": null,
            "align_items": null,
            "align_self": null,
            "border": null,
            "bottom": null,
            "display": null,
            "flex": null,
            "flex_flow": null,
            "grid_area": null,
            "grid_auto_columns": null,
            "grid_auto_flow": null,
            "grid_auto_rows": null,
            "grid_column": null,
            "grid_gap": null,
            "grid_row": null,
            "grid_template_areas": null,
            "grid_template_columns": null,
            "grid_template_rows": null,
            "height": null,
            "justify_content": null,
            "justify_items": null,
            "left": null,
            "margin": null,
            "max_height": null,
            "max_width": null,
            "min_height": null,
            "min_width": null,
            "object_fit": null,
            "object_position": null,
            "order": null,
            "overflow": null,
            "overflow_x": null,
            "overflow_y": null,
            "padding": null,
            "right": null,
            "top": null,
            "visibility": null,
            "width": null
          }
        },
        "9e3ea8cc2b3241ccaacc65d19e8c878b": {
          "model_module": "@jupyter-widgets/base",
          "model_name": "LayoutModel",
          "model_module_version": "1.2.0",
          "state": {
            "_model_module": "@jupyter-widgets/base",
            "_model_module_version": "1.2.0",
            "_model_name": "LayoutModel",
            "_view_count": null,
            "_view_module": "@jupyter-widgets/base",
            "_view_module_version": "1.2.0",
            "_view_name": "LayoutView",
            "align_content": null,
            "align_items": null,
            "align_self": null,
            "border": null,
            "bottom": null,
            "display": null,
            "flex": null,
            "flex_flow": null,
            "grid_area": null,
            "grid_auto_columns": null,
            "grid_auto_flow": null,
            "grid_auto_rows": null,
            "grid_column": null,
            "grid_gap": null,
            "grid_row": null,
            "grid_template_areas": null,
            "grid_template_columns": null,
            "grid_template_rows": null,
            "height": null,
            "justify_content": null,
            "justify_items": null,
            "left": null,
            "margin": null,
            "max_height": null,
            "max_width": null,
            "min_height": null,
            "min_width": null,
            "object_fit": null,
            "object_position": null,
            "order": null,
            "overflow": null,
            "overflow_x": null,
            "overflow_y": null,
            "padding": null,
            "right": null,
            "top": null,
            "visibility": null,
            "width": null
          }
        },
        "9e4d6d4c7bc444328aabf5e066071453": {
          "model_module": "@jupyter-widgets/controls",
          "model_name": "DescriptionStyleModel",
          "model_module_version": "1.5.0",
          "state": {
            "_model_module": "@jupyter-widgets/controls",
            "_model_module_version": "1.5.0",
            "_model_name": "DescriptionStyleModel",
            "_view_count": null,
            "_view_module": "@jupyter-widgets/base",
            "_view_module_version": "1.2.0",
            "_view_name": "StyleView",
            "description_width": ""
          }
        },
        "d56c6df59a154ff696e493201ee6a38e": {
          "model_module": "@jupyter-widgets/base",
          "model_name": "LayoutModel",
          "model_module_version": "1.2.0",
          "state": {
            "_model_module": "@jupyter-widgets/base",
            "_model_module_version": "1.2.0",
            "_model_name": "LayoutModel",
            "_view_count": null,
            "_view_module": "@jupyter-widgets/base",
            "_view_module_version": "1.2.0",
            "_view_name": "LayoutView",
            "align_content": null,
            "align_items": null,
            "align_self": null,
            "border": null,
            "bottom": null,
            "display": null,
            "flex": null,
            "flex_flow": null,
            "grid_area": null,
            "grid_auto_columns": null,
            "grid_auto_flow": null,
            "grid_auto_rows": null,
            "grid_column": null,
            "grid_gap": null,
            "grid_row": null,
            "grid_template_areas": null,
            "grid_template_columns": null,
            "grid_template_rows": null,
            "height": null,
            "justify_content": null,
            "justify_items": null,
            "left": null,
            "margin": null,
            "max_height": null,
            "max_width": null,
            "min_height": null,
            "min_width": null,
            "object_fit": null,
            "object_position": null,
            "order": null,
            "overflow": null,
            "overflow_x": null,
            "overflow_y": null,
            "padding": null,
            "right": null,
            "top": null,
            "visibility": null,
            "width": null
          }
        },
        "06309f21d3994e4c92be1334557f773f": {
          "model_module": "@jupyter-widgets/controls",
          "model_name": "ProgressStyleModel",
          "model_module_version": "1.5.0",
          "state": {
            "_model_module": "@jupyter-widgets/controls",
            "_model_module_version": "1.5.0",
            "_model_name": "ProgressStyleModel",
            "_view_count": null,
            "_view_module": "@jupyter-widgets/base",
            "_view_module_version": "1.2.0",
            "_view_name": "StyleView",
            "bar_color": null,
            "description_width": ""
          }
        },
        "f7c97cc58b9f47e89f42113644a0d5cc": {
          "model_module": "@jupyter-widgets/base",
          "model_name": "LayoutModel",
          "model_module_version": "1.2.0",
          "state": {
            "_model_module": "@jupyter-widgets/base",
            "_model_module_version": "1.2.0",
            "_model_name": "LayoutModel",
            "_view_count": null,
            "_view_module": "@jupyter-widgets/base",
            "_view_module_version": "1.2.0",
            "_view_name": "LayoutView",
            "align_content": null,
            "align_items": null,
            "align_self": null,
            "border": null,
            "bottom": null,
            "display": null,
            "flex": null,
            "flex_flow": null,
            "grid_area": null,
            "grid_auto_columns": null,
            "grid_auto_flow": null,
            "grid_auto_rows": null,
            "grid_column": null,
            "grid_gap": null,
            "grid_row": null,
            "grid_template_areas": null,
            "grid_template_columns": null,
            "grid_template_rows": null,
            "height": null,
            "justify_content": null,
            "justify_items": null,
            "left": null,
            "margin": null,
            "max_height": null,
            "max_width": null,
            "min_height": null,
            "min_width": null,
            "object_fit": null,
            "object_position": null,
            "order": null,
            "overflow": null,
            "overflow_x": null,
            "overflow_y": null,
            "padding": null,
            "right": null,
            "top": null,
            "visibility": null,
            "width": null
          }
        },
        "264d8e100f124e3ba69d82b1da850245": {
          "model_module": "@jupyter-widgets/controls",
          "model_name": "DescriptionStyleModel",
          "model_module_version": "1.5.0",
          "state": {
            "_model_module": "@jupyter-widgets/controls",
            "_model_module_version": "1.5.0",
            "_model_name": "DescriptionStyleModel",
            "_view_count": null,
            "_view_module": "@jupyter-widgets/base",
            "_view_module_version": "1.2.0",
            "_view_name": "StyleView",
            "description_width": ""
          }
        },
        "d737b9fe96054da39ad20e48c3a676b6": {
          "model_module": "@jupyter-widgets/controls",
          "model_name": "HBoxModel",
          "model_module_version": "1.5.0",
          "state": {
            "_dom_classes": [],
            "_model_module": "@jupyter-widgets/controls",
            "_model_module_version": "1.5.0",
            "_model_name": "HBoxModel",
            "_view_count": null,
            "_view_module": "@jupyter-widgets/controls",
            "_view_module_version": "1.5.0",
            "_view_name": "HBoxView",
            "box_style": "",
            "children": [
              "IPY_MODEL_22cf158e980743a7b0a87becb6b63f46",
              "IPY_MODEL_0def93cbc01d43ea88647a47655de396",
              "IPY_MODEL_1e6e47eb78704f58b4f95a93c19fdac5"
            ],
            "layout": "IPY_MODEL_65288adc66424ae5a60ce42539cccfb6"
          }
        },
        "22cf158e980743a7b0a87becb6b63f46": {
          "model_module": "@jupyter-widgets/controls",
          "model_name": "HTMLModel",
          "model_module_version": "1.5.0",
          "state": {
            "_dom_classes": [],
            "_model_module": "@jupyter-widgets/controls",
            "_model_module_version": "1.5.0",
            "_model_name": "HTMLModel",
            "_view_count": null,
            "_view_module": "@jupyter-widgets/controls",
            "_view_module_version": "1.5.0",
            "_view_name": "HTMLView",
            "description": "",
            "description_tooltip": null,
            "layout": "IPY_MODEL_a7915f8d1fdf4e69945da7a8c2fd1a0f",
            "placeholder": "​",
            "style": "IPY_MODEL_894f31c1f76c4ca1be6893e4307476a7",
            "value": "100%"
          }
        },
        "0def93cbc01d43ea88647a47655de396": {
          "model_module": "@jupyter-widgets/controls",
          "model_name": "FloatProgressModel",
          "model_module_version": "1.5.0",
          "state": {
            "_dom_classes": [],
            "_model_module": "@jupyter-widgets/controls",
            "_model_module_version": "1.5.0",
            "_model_name": "FloatProgressModel",
            "_view_count": null,
            "_view_module": "@jupyter-widgets/controls",
            "_view_module_version": "1.5.0",
            "_view_name": "ProgressView",
            "bar_style": "success",
            "description": "",
            "description_tooltip": null,
            "layout": "IPY_MODEL_cd10d185bbb54a75b6a7e74b9151aacc",
            "max": 100,
            "min": 0,
            "orientation": "horizontal",
            "style": "IPY_MODEL_49c357041f7042a0b7d8d0709fba7452",
            "value": 100
          }
        },
        "1e6e47eb78704f58b4f95a93c19fdac5": {
          "model_module": "@jupyter-widgets/controls",
          "model_name": "HTMLModel",
          "model_module_version": "1.5.0",
          "state": {
            "_dom_classes": [],
            "_model_module": "@jupyter-widgets/controls",
            "_model_module_version": "1.5.0",
            "_model_name": "HTMLModel",
            "_view_count": null,
            "_view_module": "@jupyter-widgets/controls",
            "_view_module_version": "1.5.0",
            "_view_name": "HTMLView",
            "description": "",
            "description_tooltip": null,
            "layout": "IPY_MODEL_5154e962b0cc468db5d14f09cec45ea2",
            "placeholder": "​",
            "style": "IPY_MODEL_c4d227edf6c74750983853c806796381",
            "value": " 100/100 [00:01&lt;00:00, 87.21it/s]"
          }
        },
        "65288adc66424ae5a60ce42539cccfb6": {
          "model_module": "@jupyter-widgets/base",
          "model_name": "LayoutModel",
          "model_module_version": "1.2.0",
          "state": {
            "_model_module": "@jupyter-widgets/base",
            "_model_module_version": "1.2.0",
            "_model_name": "LayoutModel",
            "_view_count": null,
            "_view_module": "@jupyter-widgets/base",
            "_view_module_version": "1.2.0",
            "_view_name": "LayoutView",
            "align_content": null,
            "align_items": null,
            "align_self": null,
            "border": null,
            "bottom": null,
            "display": null,
            "flex": null,
            "flex_flow": null,
            "grid_area": null,
            "grid_auto_columns": null,
            "grid_auto_flow": null,
            "grid_auto_rows": null,
            "grid_column": null,
            "grid_gap": null,
            "grid_row": null,
            "grid_template_areas": null,
            "grid_template_columns": null,
            "grid_template_rows": null,
            "height": null,
            "justify_content": null,
            "justify_items": null,
            "left": null,
            "margin": null,
            "max_height": null,
            "max_width": null,
            "min_height": null,
            "min_width": null,
            "object_fit": null,
            "object_position": null,
            "order": null,
            "overflow": null,
            "overflow_x": null,
            "overflow_y": null,
            "padding": null,
            "right": null,
            "top": null,
            "visibility": null,
            "width": null
          }
        },
        "a7915f8d1fdf4e69945da7a8c2fd1a0f": {
          "model_module": "@jupyter-widgets/base",
          "model_name": "LayoutModel",
          "model_module_version": "1.2.0",
          "state": {
            "_model_module": "@jupyter-widgets/base",
            "_model_module_version": "1.2.0",
            "_model_name": "LayoutModel",
            "_view_count": null,
            "_view_module": "@jupyter-widgets/base",
            "_view_module_version": "1.2.0",
            "_view_name": "LayoutView",
            "align_content": null,
            "align_items": null,
            "align_self": null,
            "border": null,
            "bottom": null,
            "display": null,
            "flex": null,
            "flex_flow": null,
            "grid_area": null,
            "grid_auto_columns": null,
            "grid_auto_flow": null,
            "grid_auto_rows": null,
            "grid_column": null,
            "grid_gap": null,
            "grid_row": null,
            "grid_template_areas": null,
            "grid_template_columns": null,
            "grid_template_rows": null,
            "height": null,
            "justify_content": null,
            "justify_items": null,
            "left": null,
            "margin": null,
            "max_height": null,
            "max_width": null,
            "min_height": null,
            "min_width": null,
            "object_fit": null,
            "object_position": null,
            "order": null,
            "overflow": null,
            "overflow_x": null,
            "overflow_y": null,
            "padding": null,
            "right": null,
            "top": null,
            "visibility": null,
            "width": null
          }
        },
        "894f31c1f76c4ca1be6893e4307476a7": {
          "model_module": "@jupyter-widgets/controls",
          "model_name": "DescriptionStyleModel",
          "model_module_version": "1.5.0",
          "state": {
            "_model_module": "@jupyter-widgets/controls",
            "_model_module_version": "1.5.0",
            "_model_name": "DescriptionStyleModel",
            "_view_count": null,
            "_view_module": "@jupyter-widgets/base",
            "_view_module_version": "1.2.0",
            "_view_name": "StyleView",
            "description_width": ""
          }
        },
        "cd10d185bbb54a75b6a7e74b9151aacc": {
          "model_module": "@jupyter-widgets/base",
          "model_name": "LayoutModel",
          "model_module_version": "1.2.0",
          "state": {
            "_model_module": "@jupyter-widgets/base",
            "_model_module_version": "1.2.0",
            "_model_name": "LayoutModel",
            "_view_count": null,
            "_view_module": "@jupyter-widgets/base",
            "_view_module_version": "1.2.0",
            "_view_name": "LayoutView",
            "align_content": null,
            "align_items": null,
            "align_self": null,
            "border": null,
            "bottom": null,
            "display": null,
            "flex": null,
            "flex_flow": null,
            "grid_area": null,
            "grid_auto_columns": null,
            "grid_auto_flow": null,
            "grid_auto_rows": null,
            "grid_column": null,
            "grid_gap": null,
            "grid_row": null,
            "grid_template_areas": null,
            "grid_template_columns": null,
            "grid_template_rows": null,
            "height": null,
            "justify_content": null,
            "justify_items": null,
            "left": null,
            "margin": null,
            "max_height": null,
            "max_width": null,
            "min_height": null,
            "min_width": null,
            "object_fit": null,
            "object_position": null,
            "order": null,
            "overflow": null,
            "overflow_x": null,
            "overflow_y": null,
            "padding": null,
            "right": null,
            "top": null,
            "visibility": null,
            "width": null
          }
        },
        "49c357041f7042a0b7d8d0709fba7452": {
          "model_module": "@jupyter-widgets/controls",
          "model_name": "ProgressStyleModel",
          "model_module_version": "1.5.0",
          "state": {
            "_model_module": "@jupyter-widgets/controls",
            "_model_module_version": "1.5.0",
            "_model_name": "ProgressStyleModel",
            "_view_count": null,
            "_view_module": "@jupyter-widgets/base",
            "_view_module_version": "1.2.0",
            "_view_name": "StyleView",
            "bar_color": null,
            "description_width": ""
          }
        },
        "5154e962b0cc468db5d14f09cec45ea2": {
          "model_module": "@jupyter-widgets/base",
          "model_name": "LayoutModel",
          "model_module_version": "1.2.0",
          "state": {
            "_model_module": "@jupyter-widgets/base",
            "_model_module_version": "1.2.0",
            "_model_name": "LayoutModel",
            "_view_count": null,
            "_view_module": "@jupyter-widgets/base",
            "_view_module_version": "1.2.0",
            "_view_name": "LayoutView",
            "align_content": null,
            "align_items": null,
            "align_self": null,
            "border": null,
            "bottom": null,
            "display": null,
            "flex": null,
            "flex_flow": null,
            "grid_area": null,
            "grid_auto_columns": null,
            "grid_auto_flow": null,
            "grid_auto_rows": null,
            "grid_column": null,
            "grid_gap": null,
            "grid_row": null,
            "grid_template_areas": null,
            "grid_template_columns": null,
            "grid_template_rows": null,
            "height": null,
            "justify_content": null,
            "justify_items": null,
            "left": null,
            "margin": null,
            "max_height": null,
            "max_width": null,
            "min_height": null,
            "min_width": null,
            "object_fit": null,
            "object_position": null,
            "order": null,
            "overflow": null,
            "overflow_x": null,
            "overflow_y": null,
            "padding": null,
            "right": null,
            "top": null,
            "visibility": null,
            "width": null
          }
        },
        "c4d227edf6c74750983853c806796381": {
          "model_module": "@jupyter-widgets/controls",
          "model_name": "DescriptionStyleModel",
          "model_module_version": "1.5.0",
          "state": {
            "_model_module": "@jupyter-widgets/controls",
            "_model_module_version": "1.5.0",
            "_model_name": "DescriptionStyleModel",
            "_view_count": null,
            "_view_module": "@jupyter-widgets/base",
            "_view_module_version": "1.2.0",
            "_view_name": "StyleView",
            "description_width": ""
          }
        },
        "8a3103074ccb4455bde5f19827c538c3": {
          "model_module": "@jupyter-widgets/controls",
          "model_name": "HBoxModel",
          "model_module_version": "1.5.0",
          "state": {
            "_dom_classes": [],
            "_model_module": "@jupyter-widgets/controls",
            "_model_module_version": "1.5.0",
            "_model_name": "HBoxModel",
            "_view_count": null,
            "_view_module": "@jupyter-widgets/controls",
            "_view_module_version": "1.5.0",
            "_view_name": "HBoxView",
            "box_style": "",
            "children": [
              "IPY_MODEL_a9c4ec20d7e1436f9cba0152a668991d",
              "IPY_MODEL_30d140dea75c4415a2843764bff8c710",
              "IPY_MODEL_7e989558b1a64469ada3d926e47a01f8"
            ],
            "layout": "IPY_MODEL_b066121088a049f6aa19797138868e16"
          }
        },
        "a9c4ec20d7e1436f9cba0152a668991d": {
          "model_module": "@jupyter-widgets/controls",
          "model_name": "HTMLModel",
          "model_module_version": "1.5.0",
          "state": {
            "_dom_classes": [],
            "_model_module": "@jupyter-widgets/controls",
            "_model_module_version": "1.5.0",
            "_model_name": "HTMLModel",
            "_view_count": null,
            "_view_module": "@jupyter-widgets/controls",
            "_view_module_version": "1.5.0",
            "_view_name": "HTMLView",
            "description": "",
            "description_tooltip": null,
            "layout": "IPY_MODEL_6e80b62679764a66892a864330db66ba",
            "placeholder": "​",
            "style": "IPY_MODEL_a42431d084bf4c15bc56fd1aa3ec51a0",
            "value": "100%"
          }
        },
        "30d140dea75c4415a2843764bff8c710": {
          "model_module": "@jupyter-widgets/controls",
          "model_name": "FloatProgressModel",
          "model_module_version": "1.5.0",
          "state": {
            "_dom_classes": [],
            "_model_module": "@jupyter-widgets/controls",
            "_model_module_version": "1.5.0",
            "_model_name": "FloatProgressModel",
            "_view_count": null,
            "_view_module": "@jupyter-widgets/controls",
            "_view_module_version": "1.5.0",
            "_view_name": "ProgressView",
            "bar_style": "success",
            "description": "",
            "description_tooltip": null,
            "layout": "IPY_MODEL_24ae587b17494813b607f65f8618a549",
            "max": 5000,
            "min": 0,
            "orientation": "horizontal",
            "style": "IPY_MODEL_12af447d09e746cbb01cb0af89398f2e",
            "value": 5000
          }
        },
        "7e989558b1a64469ada3d926e47a01f8": {
          "model_module": "@jupyter-widgets/controls",
          "model_name": "HTMLModel",
          "model_module_version": "1.5.0",
          "state": {
            "_dom_classes": [],
            "_model_module": "@jupyter-widgets/controls",
            "_model_module_version": "1.5.0",
            "_model_name": "HTMLModel",
            "_view_count": null,
            "_view_module": "@jupyter-widgets/controls",
            "_view_module_version": "1.5.0",
            "_view_name": "HTMLView",
            "description": "",
            "description_tooltip": null,
            "layout": "IPY_MODEL_a33463d284df46bd910af98b6f33d875",
            "placeholder": "​",
            "style": "IPY_MODEL_7366c53f4dc94f4c9e4123c067ee4def",
            "value": " 5000/5000 [01:41&lt;00:00, 59.12it/s]"
          }
        },
        "b066121088a049f6aa19797138868e16": {
          "model_module": "@jupyter-widgets/base",
          "model_name": "LayoutModel",
          "model_module_version": "1.2.0",
          "state": {
            "_model_module": "@jupyter-widgets/base",
            "_model_module_version": "1.2.0",
            "_model_name": "LayoutModel",
            "_view_count": null,
            "_view_module": "@jupyter-widgets/base",
            "_view_module_version": "1.2.0",
            "_view_name": "LayoutView",
            "align_content": null,
            "align_items": null,
            "align_self": null,
            "border": null,
            "bottom": null,
            "display": null,
            "flex": null,
            "flex_flow": null,
            "grid_area": null,
            "grid_auto_columns": null,
            "grid_auto_flow": null,
            "grid_auto_rows": null,
            "grid_column": null,
            "grid_gap": null,
            "grid_row": null,
            "grid_template_areas": null,
            "grid_template_columns": null,
            "grid_template_rows": null,
            "height": null,
            "justify_content": null,
            "justify_items": null,
            "left": null,
            "margin": null,
            "max_height": null,
            "max_width": null,
            "min_height": null,
            "min_width": null,
            "object_fit": null,
            "object_position": null,
            "order": null,
            "overflow": null,
            "overflow_x": null,
            "overflow_y": null,
            "padding": null,
            "right": null,
            "top": null,
            "visibility": null,
            "width": null
          }
        },
        "6e80b62679764a66892a864330db66ba": {
          "model_module": "@jupyter-widgets/base",
          "model_name": "LayoutModel",
          "model_module_version": "1.2.0",
          "state": {
            "_model_module": "@jupyter-widgets/base",
            "_model_module_version": "1.2.0",
            "_model_name": "LayoutModel",
            "_view_count": null,
            "_view_module": "@jupyter-widgets/base",
            "_view_module_version": "1.2.0",
            "_view_name": "LayoutView",
            "align_content": null,
            "align_items": null,
            "align_self": null,
            "border": null,
            "bottom": null,
            "display": null,
            "flex": null,
            "flex_flow": null,
            "grid_area": null,
            "grid_auto_columns": null,
            "grid_auto_flow": null,
            "grid_auto_rows": null,
            "grid_column": null,
            "grid_gap": null,
            "grid_row": null,
            "grid_template_areas": null,
            "grid_template_columns": null,
            "grid_template_rows": null,
            "height": null,
            "justify_content": null,
            "justify_items": null,
            "left": null,
            "margin": null,
            "max_height": null,
            "max_width": null,
            "min_height": null,
            "min_width": null,
            "object_fit": null,
            "object_position": null,
            "order": null,
            "overflow": null,
            "overflow_x": null,
            "overflow_y": null,
            "padding": null,
            "right": null,
            "top": null,
            "visibility": null,
            "width": null
          }
        },
        "a42431d084bf4c15bc56fd1aa3ec51a0": {
          "model_module": "@jupyter-widgets/controls",
          "model_name": "DescriptionStyleModel",
          "model_module_version": "1.5.0",
          "state": {
            "_model_module": "@jupyter-widgets/controls",
            "_model_module_version": "1.5.0",
            "_model_name": "DescriptionStyleModel",
            "_view_count": null,
            "_view_module": "@jupyter-widgets/base",
            "_view_module_version": "1.2.0",
            "_view_name": "StyleView",
            "description_width": ""
          }
        },
        "24ae587b17494813b607f65f8618a549": {
          "model_module": "@jupyter-widgets/base",
          "model_name": "LayoutModel",
          "model_module_version": "1.2.0",
          "state": {
            "_model_module": "@jupyter-widgets/base",
            "_model_module_version": "1.2.0",
            "_model_name": "LayoutModel",
            "_view_count": null,
            "_view_module": "@jupyter-widgets/base",
            "_view_module_version": "1.2.0",
            "_view_name": "LayoutView",
            "align_content": null,
            "align_items": null,
            "align_self": null,
            "border": null,
            "bottom": null,
            "display": null,
            "flex": null,
            "flex_flow": null,
            "grid_area": null,
            "grid_auto_columns": null,
            "grid_auto_flow": null,
            "grid_auto_rows": null,
            "grid_column": null,
            "grid_gap": null,
            "grid_row": null,
            "grid_template_areas": null,
            "grid_template_columns": null,
            "grid_template_rows": null,
            "height": null,
            "justify_content": null,
            "justify_items": null,
            "left": null,
            "margin": null,
            "max_height": null,
            "max_width": null,
            "min_height": null,
            "min_width": null,
            "object_fit": null,
            "object_position": null,
            "order": null,
            "overflow": null,
            "overflow_x": null,
            "overflow_y": null,
            "padding": null,
            "right": null,
            "top": null,
            "visibility": null,
            "width": null
          }
        },
        "12af447d09e746cbb01cb0af89398f2e": {
          "model_module": "@jupyter-widgets/controls",
          "model_name": "ProgressStyleModel",
          "model_module_version": "1.5.0",
          "state": {
            "_model_module": "@jupyter-widgets/controls",
            "_model_module_version": "1.5.0",
            "_model_name": "ProgressStyleModel",
            "_view_count": null,
            "_view_module": "@jupyter-widgets/base",
            "_view_module_version": "1.2.0",
            "_view_name": "StyleView",
            "bar_color": null,
            "description_width": ""
          }
        },
        "a33463d284df46bd910af98b6f33d875": {
          "model_module": "@jupyter-widgets/base",
          "model_name": "LayoutModel",
          "model_module_version": "1.2.0",
          "state": {
            "_model_module": "@jupyter-widgets/base",
            "_model_module_version": "1.2.0",
            "_model_name": "LayoutModel",
            "_view_count": null,
            "_view_module": "@jupyter-widgets/base",
            "_view_module_version": "1.2.0",
            "_view_name": "LayoutView",
            "align_content": null,
            "align_items": null,
            "align_self": null,
            "border": null,
            "bottom": null,
            "display": null,
            "flex": null,
            "flex_flow": null,
            "grid_area": null,
            "grid_auto_columns": null,
            "grid_auto_flow": null,
            "grid_auto_rows": null,
            "grid_column": null,
            "grid_gap": null,
            "grid_row": null,
            "grid_template_areas": null,
            "grid_template_columns": null,
            "grid_template_rows": null,
            "height": null,
            "justify_content": null,
            "justify_items": null,
            "left": null,
            "margin": null,
            "max_height": null,
            "max_width": null,
            "min_height": null,
            "min_width": null,
            "object_fit": null,
            "object_position": null,
            "order": null,
            "overflow": null,
            "overflow_x": null,
            "overflow_y": null,
            "padding": null,
            "right": null,
            "top": null,
            "visibility": null,
            "width": null
          }
        },
        "7366c53f4dc94f4c9e4123c067ee4def": {
          "model_module": "@jupyter-widgets/controls",
          "model_name": "DescriptionStyleModel",
          "model_module_version": "1.5.0",
          "state": {
            "_model_module": "@jupyter-widgets/controls",
            "_model_module_version": "1.5.0",
            "_model_name": "DescriptionStyleModel",
            "_view_count": null,
            "_view_module": "@jupyter-widgets/base",
            "_view_module_version": "1.2.0",
            "_view_name": "StyleView",
            "description_width": ""
          }
        },
        "304187b285214521a5dea92117c6b81c": {
          "model_module": "@jupyter-widgets/controls",
          "model_name": "HBoxModel",
          "model_module_version": "1.5.0",
          "state": {
            "_dom_classes": [],
            "_model_module": "@jupyter-widgets/controls",
            "_model_module_version": "1.5.0",
            "_model_name": "HBoxModel",
            "_view_count": null,
            "_view_module": "@jupyter-widgets/controls",
            "_view_module_version": "1.5.0",
            "_view_name": "HBoxView",
            "box_style": "",
            "children": [
              "IPY_MODEL_8f73acd32e26414095fe99ae4e50aa5a",
              "IPY_MODEL_9c625b9905144c0580d4de8adba7d2d4",
              "IPY_MODEL_a1cb2343710b45d2bfbd3490c8f9bd37"
            ],
            "layout": "IPY_MODEL_005974f91e784b8fa98354862fd43b5b"
          }
        },
        "8f73acd32e26414095fe99ae4e50aa5a": {
          "model_module": "@jupyter-widgets/controls",
          "model_name": "HTMLModel",
          "model_module_version": "1.5.0",
          "state": {
            "_dom_classes": [],
            "_model_module": "@jupyter-widgets/controls",
            "_model_module_version": "1.5.0",
            "_model_name": "HTMLModel",
            "_view_count": null,
            "_view_module": "@jupyter-widgets/controls",
            "_view_module_version": "1.5.0",
            "_view_name": "HTMLView",
            "description": "",
            "description_tooltip": null,
            "layout": "IPY_MODEL_a2f2fe83ef064d7abe24b04d11f2381a",
            "placeholder": "​",
            "style": "IPY_MODEL_0c15fdc3b4274eadbabe64c13d6a6f5f",
            "value": "100%"
          }
        },
        "9c625b9905144c0580d4de8adba7d2d4": {
          "model_module": "@jupyter-widgets/controls",
          "model_name": "FloatProgressModel",
          "model_module_version": "1.5.0",
          "state": {
            "_dom_classes": [],
            "_model_module": "@jupyter-widgets/controls",
            "_model_module_version": "1.5.0",
            "_model_name": "FloatProgressModel",
            "_view_count": null,
            "_view_module": "@jupyter-widgets/controls",
            "_view_module_version": "1.5.0",
            "_view_name": "ProgressView",
            "bar_style": "success",
            "description": "",
            "description_tooltip": null,
            "layout": "IPY_MODEL_fe492c185d1e40858f0e8b0bd5f08962",
            "max": 300,
            "min": 0,
            "orientation": "horizontal",
            "style": "IPY_MODEL_b56ac738651640f896a520cef83f0fab",
            "value": 300
          }
        },
        "a1cb2343710b45d2bfbd3490c8f9bd37": {
          "model_module": "@jupyter-widgets/controls",
          "model_name": "HTMLModel",
          "model_module_version": "1.5.0",
          "state": {
            "_dom_classes": [],
            "_model_module": "@jupyter-widgets/controls",
            "_model_module_version": "1.5.0",
            "_model_name": "HTMLModel",
            "_view_count": null,
            "_view_module": "@jupyter-widgets/controls",
            "_view_module_version": "1.5.0",
            "_view_name": "HTMLView",
            "description": "",
            "description_tooltip": null,
            "layout": "IPY_MODEL_359fd7ab90a64b698cc3ce746401bda1",
            "placeholder": "​",
            "style": "IPY_MODEL_afde63cc38654598810b1f31715b1424",
            "value": " 300/300 [00:02&lt;00:00, 163.92it/s]"
          }
        },
        "005974f91e784b8fa98354862fd43b5b": {
          "model_module": "@jupyter-widgets/base",
          "model_name": "LayoutModel",
          "model_module_version": "1.2.0",
          "state": {
            "_model_module": "@jupyter-widgets/base",
            "_model_module_version": "1.2.0",
            "_model_name": "LayoutModel",
            "_view_count": null,
            "_view_module": "@jupyter-widgets/base",
            "_view_module_version": "1.2.0",
            "_view_name": "LayoutView",
            "align_content": null,
            "align_items": null,
            "align_self": null,
            "border": null,
            "bottom": null,
            "display": null,
            "flex": null,
            "flex_flow": null,
            "grid_area": null,
            "grid_auto_columns": null,
            "grid_auto_flow": null,
            "grid_auto_rows": null,
            "grid_column": null,
            "grid_gap": null,
            "grid_row": null,
            "grid_template_areas": null,
            "grid_template_columns": null,
            "grid_template_rows": null,
            "height": null,
            "justify_content": null,
            "justify_items": null,
            "left": null,
            "margin": null,
            "max_height": null,
            "max_width": null,
            "min_height": null,
            "min_width": null,
            "object_fit": null,
            "object_position": null,
            "order": null,
            "overflow": null,
            "overflow_x": null,
            "overflow_y": null,
            "padding": null,
            "right": null,
            "top": null,
            "visibility": null,
            "width": null
          }
        },
        "a2f2fe83ef064d7abe24b04d11f2381a": {
          "model_module": "@jupyter-widgets/base",
          "model_name": "LayoutModel",
          "model_module_version": "1.2.0",
          "state": {
            "_model_module": "@jupyter-widgets/base",
            "_model_module_version": "1.2.0",
            "_model_name": "LayoutModel",
            "_view_count": null,
            "_view_module": "@jupyter-widgets/base",
            "_view_module_version": "1.2.0",
            "_view_name": "LayoutView",
            "align_content": null,
            "align_items": null,
            "align_self": null,
            "border": null,
            "bottom": null,
            "display": null,
            "flex": null,
            "flex_flow": null,
            "grid_area": null,
            "grid_auto_columns": null,
            "grid_auto_flow": null,
            "grid_auto_rows": null,
            "grid_column": null,
            "grid_gap": null,
            "grid_row": null,
            "grid_template_areas": null,
            "grid_template_columns": null,
            "grid_template_rows": null,
            "height": null,
            "justify_content": null,
            "justify_items": null,
            "left": null,
            "margin": null,
            "max_height": null,
            "max_width": null,
            "min_height": null,
            "min_width": null,
            "object_fit": null,
            "object_position": null,
            "order": null,
            "overflow": null,
            "overflow_x": null,
            "overflow_y": null,
            "padding": null,
            "right": null,
            "top": null,
            "visibility": null,
            "width": null
          }
        },
        "0c15fdc3b4274eadbabe64c13d6a6f5f": {
          "model_module": "@jupyter-widgets/controls",
          "model_name": "DescriptionStyleModel",
          "model_module_version": "1.5.0",
          "state": {
            "_model_module": "@jupyter-widgets/controls",
            "_model_module_version": "1.5.0",
            "_model_name": "DescriptionStyleModel",
            "_view_count": null,
            "_view_module": "@jupyter-widgets/base",
            "_view_module_version": "1.2.0",
            "_view_name": "StyleView",
            "description_width": ""
          }
        },
        "fe492c185d1e40858f0e8b0bd5f08962": {
          "model_module": "@jupyter-widgets/base",
          "model_name": "LayoutModel",
          "model_module_version": "1.2.0",
          "state": {
            "_model_module": "@jupyter-widgets/base",
            "_model_module_version": "1.2.0",
            "_model_name": "LayoutModel",
            "_view_count": null,
            "_view_module": "@jupyter-widgets/base",
            "_view_module_version": "1.2.0",
            "_view_name": "LayoutView",
            "align_content": null,
            "align_items": null,
            "align_self": null,
            "border": null,
            "bottom": null,
            "display": null,
            "flex": null,
            "flex_flow": null,
            "grid_area": null,
            "grid_auto_columns": null,
            "grid_auto_flow": null,
            "grid_auto_rows": null,
            "grid_column": null,
            "grid_gap": null,
            "grid_row": null,
            "grid_template_areas": null,
            "grid_template_columns": null,
            "grid_template_rows": null,
            "height": null,
            "justify_content": null,
            "justify_items": null,
            "left": null,
            "margin": null,
            "max_height": null,
            "max_width": null,
            "min_height": null,
            "min_width": null,
            "object_fit": null,
            "object_position": null,
            "order": null,
            "overflow": null,
            "overflow_x": null,
            "overflow_y": null,
            "padding": null,
            "right": null,
            "top": null,
            "visibility": null,
            "width": null
          }
        },
        "b56ac738651640f896a520cef83f0fab": {
          "model_module": "@jupyter-widgets/controls",
          "model_name": "ProgressStyleModel",
          "model_module_version": "1.5.0",
          "state": {
            "_model_module": "@jupyter-widgets/controls",
            "_model_module_version": "1.5.0",
            "_model_name": "ProgressStyleModel",
            "_view_count": null,
            "_view_module": "@jupyter-widgets/base",
            "_view_module_version": "1.2.0",
            "_view_name": "StyleView",
            "bar_color": null,
            "description_width": ""
          }
        },
        "359fd7ab90a64b698cc3ce746401bda1": {
          "model_module": "@jupyter-widgets/base",
          "model_name": "LayoutModel",
          "model_module_version": "1.2.0",
          "state": {
            "_model_module": "@jupyter-widgets/base",
            "_model_module_version": "1.2.0",
            "_model_name": "LayoutModel",
            "_view_count": null,
            "_view_module": "@jupyter-widgets/base",
            "_view_module_version": "1.2.0",
            "_view_name": "LayoutView",
            "align_content": null,
            "align_items": null,
            "align_self": null,
            "border": null,
            "bottom": null,
            "display": null,
            "flex": null,
            "flex_flow": null,
            "grid_area": null,
            "grid_auto_columns": null,
            "grid_auto_flow": null,
            "grid_auto_rows": null,
            "grid_column": null,
            "grid_gap": null,
            "grid_row": null,
            "grid_template_areas": null,
            "grid_template_columns": null,
            "grid_template_rows": null,
            "height": null,
            "justify_content": null,
            "justify_items": null,
            "left": null,
            "margin": null,
            "max_height": null,
            "max_width": null,
            "min_height": null,
            "min_width": null,
            "object_fit": null,
            "object_position": null,
            "order": null,
            "overflow": null,
            "overflow_x": null,
            "overflow_y": null,
            "padding": null,
            "right": null,
            "top": null,
            "visibility": null,
            "width": null
          }
        },
        "afde63cc38654598810b1f31715b1424": {
          "model_module": "@jupyter-widgets/controls",
          "model_name": "DescriptionStyleModel",
          "model_module_version": "1.5.0",
          "state": {
            "_model_module": "@jupyter-widgets/controls",
            "_model_module_version": "1.5.0",
            "_model_name": "DescriptionStyleModel",
            "_view_count": null,
            "_view_module": "@jupyter-widgets/base",
            "_view_module_version": "1.2.0",
            "_view_name": "StyleView",
            "description_width": ""
          }
        },
        "c531b04c19a24528bc608367dc67f477": {
          "model_module": "@jupyter-widgets/controls",
          "model_name": "HBoxModel",
          "model_module_version": "1.5.0",
          "state": {
            "_dom_classes": [],
            "_model_module": "@jupyter-widgets/controls",
            "_model_module_version": "1.5.0",
            "_model_name": "HBoxModel",
            "_view_count": null,
            "_view_module": "@jupyter-widgets/controls",
            "_view_module_version": "1.5.0",
            "_view_name": "HBoxView",
            "box_style": "",
            "children": [
              "IPY_MODEL_80065b2525464e28a27acd4efa87941a",
              "IPY_MODEL_45ac8d3c48874b858ce028da9cdcd8ff",
              "IPY_MODEL_691d410f04f344dbb727936ab49af8a3"
            ],
            "layout": "IPY_MODEL_01164bfd908247bcaf384bee559154c4"
          }
        },
        "80065b2525464e28a27acd4efa87941a": {
          "model_module": "@jupyter-widgets/controls",
          "model_name": "HTMLModel",
          "model_module_version": "1.5.0",
          "state": {
            "_dom_classes": [],
            "_model_module": "@jupyter-widgets/controls",
            "_model_module_version": "1.5.0",
            "_model_name": "HTMLModel",
            "_view_count": null,
            "_view_module": "@jupyter-widgets/controls",
            "_view_module_version": "1.5.0",
            "_view_name": "HTMLView",
            "description": "",
            "description_tooltip": null,
            "layout": "IPY_MODEL_5ec8ab13df4b46db9331530c69909dfe",
            "placeholder": "​",
            "style": "IPY_MODEL_5e7a58aa39234d829aa53a9bf4affcdf",
            "value": "100%"
          }
        },
        "45ac8d3c48874b858ce028da9cdcd8ff": {
          "model_module": "@jupyter-widgets/controls",
          "model_name": "FloatProgressModel",
          "model_module_version": "1.5.0",
          "state": {
            "_dom_classes": [],
            "_model_module": "@jupyter-widgets/controls",
            "_model_module_version": "1.5.0",
            "_model_name": "FloatProgressModel",
            "_view_count": null,
            "_view_module": "@jupyter-widgets/controls",
            "_view_module_version": "1.5.0",
            "_view_name": "ProgressView",
            "bar_style": "success",
            "description": "",
            "description_tooltip": null,
            "layout": "IPY_MODEL_f12dcce26e254c5ea395bba25ce46044",
            "max": 5000,
            "min": 0,
            "orientation": "horizontal",
            "style": "IPY_MODEL_23dd0c08f9374a309d180bf43487a1cd",
            "value": 5000
          }
        },
        "691d410f04f344dbb727936ab49af8a3": {
          "model_module": "@jupyter-widgets/controls",
          "model_name": "HTMLModel",
          "model_module_version": "1.5.0",
          "state": {
            "_dom_classes": [],
            "_model_module": "@jupyter-widgets/controls",
            "_model_module_version": "1.5.0",
            "_model_name": "HTMLModel",
            "_view_count": null,
            "_view_module": "@jupyter-widgets/controls",
            "_view_module_version": "1.5.0",
            "_view_name": "HTMLView",
            "description": "",
            "description_tooltip": null,
            "layout": "IPY_MODEL_3704763af3de4f96bb878e5a47905882",
            "placeholder": "​",
            "style": "IPY_MODEL_2d33bf8f99de4652887f9da34c30ef60",
            "value": " 5000/5000 [04:27&lt;00:00, 16.89it/s]"
          }
        },
        "01164bfd908247bcaf384bee559154c4": {
          "model_module": "@jupyter-widgets/base",
          "model_name": "LayoutModel",
          "model_module_version": "1.2.0",
          "state": {
            "_model_module": "@jupyter-widgets/base",
            "_model_module_version": "1.2.0",
            "_model_name": "LayoutModel",
            "_view_count": null,
            "_view_module": "@jupyter-widgets/base",
            "_view_module_version": "1.2.0",
            "_view_name": "LayoutView",
            "align_content": null,
            "align_items": null,
            "align_self": null,
            "border": null,
            "bottom": null,
            "display": null,
            "flex": null,
            "flex_flow": null,
            "grid_area": null,
            "grid_auto_columns": null,
            "grid_auto_flow": null,
            "grid_auto_rows": null,
            "grid_column": null,
            "grid_gap": null,
            "grid_row": null,
            "grid_template_areas": null,
            "grid_template_columns": null,
            "grid_template_rows": null,
            "height": null,
            "justify_content": null,
            "justify_items": null,
            "left": null,
            "margin": null,
            "max_height": null,
            "max_width": null,
            "min_height": null,
            "min_width": null,
            "object_fit": null,
            "object_position": null,
            "order": null,
            "overflow": null,
            "overflow_x": null,
            "overflow_y": null,
            "padding": null,
            "right": null,
            "top": null,
            "visibility": null,
            "width": null
          }
        },
        "5ec8ab13df4b46db9331530c69909dfe": {
          "model_module": "@jupyter-widgets/base",
          "model_name": "LayoutModel",
          "model_module_version": "1.2.0",
          "state": {
            "_model_module": "@jupyter-widgets/base",
            "_model_module_version": "1.2.0",
            "_model_name": "LayoutModel",
            "_view_count": null,
            "_view_module": "@jupyter-widgets/base",
            "_view_module_version": "1.2.0",
            "_view_name": "LayoutView",
            "align_content": null,
            "align_items": null,
            "align_self": null,
            "border": null,
            "bottom": null,
            "display": null,
            "flex": null,
            "flex_flow": null,
            "grid_area": null,
            "grid_auto_columns": null,
            "grid_auto_flow": null,
            "grid_auto_rows": null,
            "grid_column": null,
            "grid_gap": null,
            "grid_row": null,
            "grid_template_areas": null,
            "grid_template_columns": null,
            "grid_template_rows": null,
            "height": null,
            "justify_content": null,
            "justify_items": null,
            "left": null,
            "margin": null,
            "max_height": null,
            "max_width": null,
            "min_height": null,
            "min_width": null,
            "object_fit": null,
            "object_position": null,
            "order": null,
            "overflow": null,
            "overflow_x": null,
            "overflow_y": null,
            "padding": null,
            "right": null,
            "top": null,
            "visibility": null,
            "width": null
          }
        },
        "5e7a58aa39234d829aa53a9bf4affcdf": {
          "model_module": "@jupyter-widgets/controls",
          "model_name": "DescriptionStyleModel",
          "model_module_version": "1.5.0",
          "state": {
            "_model_module": "@jupyter-widgets/controls",
            "_model_module_version": "1.5.0",
            "_model_name": "DescriptionStyleModel",
            "_view_count": null,
            "_view_module": "@jupyter-widgets/base",
            "_view_module_version": "1.2.0",
            "_view_name": "StyleView",
            "description_width": ""
          }
        },
        "f12dcce26e254c5ea395bba25ce46044": {
          "model_module": "@jupyter-widgets/base",
          "model_name": "LayoutModel",
          "model_module_version": "1.2.0",
          "state": {
            "_model_module": "@jupyter-widgets/base",
            "_model_module_version": "1.2.0",
            "_model_name": "LayoutModel",
            "_view_count": null,
            "_view_module": "@jupyter-widgets/base",
            "_view_module_version": "1.2.0",
            "_view_name": "LayoutView",
            "align_content": null,
            "align_items": null,
            "align_self": null,
            "border": null,
            "bottom": null,
            "display": null,
            "flex": null,
            "flex_flow": null,
            "grid_area": null,
            "grid_auto_columns": null,
            "grid_auto_flow": null,
            "grid_auto_rows": null,
            "grid_column": null,
            "grid_gap": null,
            "grid_row": null,
            "grid_template_areas": null,
            "grid_template_columns": null,
            "grid_template_rows": null,
            "height": null,
            "justify_content": null,
            "justify_items": null,
            "left": null,
            "margin": null,
            "max_height": null,
            "max_width": null,
            "min_height": null,
            "min_width": null,
            "object_fit": null,
            "object_position": null,
            "order": null,
            "overflow": null,
            "overflow_x": null,
            "overflow_y": null,
            "padding": null,
            "right": null,
            "top": null,
            "visibility": null,
            "width": null
          }
        },
        "23dd0c08f9374a309d180bf43487a1cd": {
          "model_module": "@jupyter-widgets/controls",
          "model_name": "ProgressStyleModel",
          "model_module_version": "1.5.0",
          "state": {
            "_model_module": "@jupyter-widgets/controls",
            "_model_module_version": "1.5.0",
            "_model_name": "ProgressStyleModel",
            "_view_count": null,
            "_view_module": "@jupyter-widgets/base",
            "_view_module_version": "1.2.0",
            "_view_name": "StyleView",
            "bar_color": null,
            "description_width": ""
          }
        },
        "3704763af3de4f96bb878e5a47905882": {
          "model_module": "@jupyter-widgets/base",
          "model_name": "LayoutModel",
          "model_module_version": "1.2.0",
          "state": {
            "_model_module": "@jupyter-widgets/base",
            "_model_module_version": "1.2.0",
            "_model_name": "LayoutModel",
            "_view_count": null,
            "_view_module": "@jupyter-widgets/base",
            "_view_module_version": "1.2.0",
            "_view_name": "LayoutView",
            "align_content": null,
            "align_items": null,
            "align_self": null,
            "border": null,
            "bottom": null,
            "display": null,
            "flex": null,
            "flex_flow": null,
            "grid_area": null,
            "grid_auto_columns": null,
            "grid_auto_flow": null,
            "grid_auto_rows": null,
            "grid_column": null,
            "grid_gap": null,
            "grid_row": null,
            "grid_template_areas": null,
            "grid_template_columns": null,
            "grid_template_rows": null,
            "height": null,
            "justify_content": null,
            "justify_items": null,
            "left": null,
            "margin": null,
            "max_height": null,
            "max_width": null,
            "min_height": null,
            "min_width": null,
            "object_fit": null,
            "object_position": null,
            "order": null,
            "overflow": null,
            "overflow_x": null,
            "overflow_y": null,
            "padding": null,
            "right": null,
            "top": null,
            "visibility": null,
            "width": null
          }
        },
        "2d33bf8f99de4652887f9da34c30ef60": {
          "model_module": "@jupyter-widgets/controls",
          "model_name": "DescriptionStyleModel",
          "model_module_version": "1.5.0",
          "state": {
            "_model_module": "@jupyter-widgets/controls",
            "_model_module_version": "1.5.0",
            "_model_name": "DescriptionStyleModel",
            "_view_count": null,
            "_view_module": "@jupyter-widgets/base",
            "_view_module_version": "1.2.0",
            "_view_name": "StyleView",
            "description_width": ""
          }
        }
      }
    }
  },
  "cells": [
    {
      "cell_type": "markdown",
      "source": [
        "# Probabilistic ML (Winter 2022): Homework 4: Variational Autoencoders\n",
        "\n",
        "- **Deadline**: April 8th, at 23:59.\n",
        "- **Submission**: You need to submit your solutions through Crowdmark, including all your derivations, plots, and your code. You can produce the files however you like (e.g. $\\LaTeX$, Microsoft Word, etc), as long as it is readable. Points will be deducted if we have a hard time reading your solutions or understanding the structure of your code.\n",
        "- **Collaboration policy**: After attempting the problems on an individual basis, you may discuss and work together on the assignment with up to two classmates. However, **you must write your own code and write up your own solutions individually and explicitly name any collaborators** at the top of the homework."
      ],
      "metadata": {
        "id": "248_qtulv8jx"
      }
    },
    {
      "cell_type": "markdown",
      "source": [
        "## Version 2022/03/31\n",
        "Q1.4 and Q2.1 key --> rng in objective fnc\n",
        "\n",
        "March 31: Removed from Q3 the text \"On a single plot, show the isocontours of the joint distribution $p(z, \\text{top half of image x})$, and the optimized approximate posterior $q_\\phi(z | \\text{top half of image x})$.\"\n",
        "\n",
        "## Your Info\n",
        "\n",
        "- **Name: Huiqin Chen** \n",
        "- **Student Number: 1004724765**\n",
        "- **Collaborators: Ismail Atandinc**"
      ],
      "metadata": {
        "id": "jdwwSaI3dswU"
      }
    },
    {
      "cell_type": "markdown",
      "source": [
        "## Question 1: Warm up with synthetic data - 30 points\n",
        "\n",
        "In this question, we will train a VAE on a synhetic data which resembles spirals in 2d. This question is intended to provided you some debugging tools for the next question where you work on MNIST dataset. In both of the questions, we will perform amortized inference with VAEs."
      ],
      "metadata": {
        "id": "nDUMG4VJU4x5"
      }
    },
    {
      "cell_type": "code",
      "source": [
        "from jax import jit, grad, value_and_grad, lax, vmap, random\n",
        "import jax.numpy as np\n",
        "import jax.random\n",
        "from jax.nn import softplus\n",
        "import jax.nn.initializers as nn_init\n",
        "from jax.experimental import optimizers, stax\n",
        "from jax.experimental.stax import serial, parallel, Dense, Relu, FanOut, FanInSum, Softplus, Identity, Tanh, LogSoftmax\n",
        "from jax.scipy.special import logsumexp\n",
        "from jax.tree_util import register_pytree_node\n",
        "\n",
        "import tensorflow_probability as tfp\n",
        "import tensorflow_probability.substrates.jax.distributions as dists\n",
        "\n",
        "from jax.config import config \n",
        "config.update(\"jax_debug_nans\", True)\n",
        "\n",
        "import matplotlib.pyplot as plt\n",
        "from tqdm.auto import trange\n",
        "from jax.scipy.stats import norm\n",
        "from functools import partial"
      ],
      "metadata": {
        "id": "ZoD8ecKifL2y"
      },
      "execution_count": null,
      "outputs": []
    },
    {
      "cell_type": "markdown",
      "source": [
        "**1.1) [0 points]** The following functions can be used to visualize the output."
      ],
      "metadata": {
        "id": "6bY5iE66Vq0N"
      }
    },
    {
      "cell_type": "code",
      "source": [
        "# Helper functions\n",
        "# Plotting helper functions for free\n",
        "def plot_isocontours(ax, func, xlimits=[-3, 3], ylimits=[-3, 3], numticks=101, cmap=\"summer\"):\n",
        "    x = np.linspace(*xlimits, num=numticks)\n",
        "    y = np.linspace(*ylimits, num=numticks)\n",
        "    X, Y = np.meshgrid(x, y)\n",
        "    zs = func(X.ravel(), Y.ravel())\n",
        "    Z = zs.reshape(X.shape)\n",
        "    plt.contour(X, Y, Z, cmap=cmap)\n",
        "    ax.set_yticks([])\n",
        "    ax.set_xticks([])\n",
        "\n",
        "def plot_2d_fun(f, x_axis_label=\"\", y_axis_label=\"\", f2=None, scatter_pts=None):\n",
        "    # This is the function your code should call.\n",
        "    # f() should take two arguments.\n",
        "    fig = plt.figure(figsize=(8,8), facecolor='white')\n",
        "    ax = fig.add_subplot(111, frameon=False)\n",
        "    ax.set_xlabel(x_axis_label)\n",
        "    ax.set_ylabel(y_axis_label)\n",
        "    plot_isocontours(ax, f)\n",
        "    if f2 is not None:\n",
        "      plot_isocontours(ax, f2, cmap='winter')\n",
        "\n",
        "    if scatter_pts is not None:\n",
        "      plt.scatter(scatter_pts[:,0], scatter_pts[:, 1])\n",
        "    plt.plot([3, -3], [3, -3], 'b--')   # Line of equal skill\n",
        "    plt.show(block=True)\n",
        "    plt.draw()\n"
      ],
      "metadata": {
        "id": "faO0Tjawhym-"
      },
      "execution_count": null,
      "outputs": []
    },
    {
      "cell_type": "markdown",
      "source": [
        "**1.2) [0 points]** Below function generates the synthetic spiral data."
      ],
      "metadata": {
        "id": "S-NI6vCde9rg"
      }
    },
    {
      "cell_type": "code",
      "source": [
        "# Code to generate the pinwheel dataset.\n",
        "# Taken from [Johnson et al (2016)], updated by Zhao & Linderman.\n",
        "def make_pinwheel_data(rng, radial_std, tangential_std, num_classes, num_per_class, rate):\n",
        "    rads = np.linspace(0, 2*np.pi, num_classes, endpoint=False)\n",
        "\n",
        "    features = jax.random.normal(rng, (num_classes*num_per_class, 2)) \\\n",
        "        * np.array([radial_std, tangential_std])\n",
        "    features = features.at[:, 0].add(1.0)\n",
        "    labels = np.repeat(np.arange(num_classes), num_per_class)\n",
        "\n",
        "    angles = rads[labels] + rate * np.exp(features[:,0])\n",
        "    rotations = np.stack([np.cos(angles), -np.sin(angles), np.sin(angles), np.cos(angles)])\n",
        "    rotations = np.reshape(rotations.T, (-1, 2, 2))\n",
        "\n",
        "    return jax.random.permutation(rng,labels), jax.random.permutation(rng, np.einsum('ti,tij->tj', features, rotations))"
      ],
      "metadata": {
        "id": "uyiFI2Aie9UH"
      },
      "execution_count": null,
      "outputs": []
    },
    {
      "cell_type": "markdown",
      "source": [
        "We visualize the 2d data generated from the above function. Notice that there are 3 clusters in the input space, each colored with a different color. The VAE will not see the cluster assignments, but we hope to recover this structure in the latent space."
      ],
      "metadata": {
        "id": "_4HxOH1GWBno"
      }
    },
    {
      "cell_type": "code",
      "source": [
        "num_clusters = 3           \n",
        "samples_per_cluster = 300\n",
        "rng = jax.random.PRNGKey(0)\n",
        "labels, data = make_pinwheel_data(rng, 0.3, 0.1, num_clusters, samples_per_cluster, 0.25)\n",
        "\n",
        "for k in range(num_clusters):\n",
        "    plt.scatter(data[labels == k, 0], data[labels == k, 1], s=2)\n",
        "\n",
        "plt.axis(\"equal\")"
      ],
      "metadata": {
        "id": "DUpKL-57dRR9",
        "colab": {
          "base_uri": "https://localhost:8080/",
          "height": 352
        },
        "outputId": "cf6fb6f3-1684-47bd-aa0b-bc39f1d0d24c"
      },
      "execution_count": null,
      "outputs": [
        {
          "output_type": "stream",
          "name": "stderr",
          "text": [
            "WARNING:absl:No GPU/TPU found, falling back to CPU. (Set TF_CPP_MIN_LOG_LEVEL=0 and rerun for more info.)\n"
          ]
        },
        {
          "output_type": "execute_result",
          "data": {
            "text/plain": [
              "(-1.7937924802303313,\n",
              " 1.8979793727397918,\n",
              " -2.059972715377808,\n",
              " 2.3492221355438234)"
            ]
          },
          "metadata": {},
          "execution_count": 5
        },
        {
          "output_type": "display_data",
          "data": {
            "text/plain": [
              "<Figure size 432x288 with 1 Axes>"
            ],
            "image/png": "[encoded data removed]"
          },
          "metadata": {
            "needs_background": "light"
          }
        }
      ]
    },
    {
      "cell_type": "markdown",
      "source": [
        "**1.3) [20 points]** Implement the missing lines in the below code, to complete\n",
        "the $\\texttt{elbo}$ function for a variational autoencoder.\n",
        "\n",
        "You can write all your functions to take a single datapoint, and just use vmap() to allow it to take batches.  For instance, this is done for you in the $\\texttt{batch_elbo}()$ function below.\n",
        "\n",
        "You can and should use the same code for both the spiral dataset and MNIST.  The spiral dataset and an example encoder / decoder is provided just to help you debug, and as a template for the MNIST VAE.\n"
      ],
      "metadata": {
        "id": "QXlBa-8oFn9V"
      }
    },
    {
      "cell_type": "code",
      "source": [
        "# Generic VAE functions.\n",
        "\n",
        "def log_prior(z): \n",
        "    return np.sum(norm.logpdf(z, 0.0, 1.0), axis=-1)\n",
        "\n",
        "def diag_gaussian_sample(rng, mean, log_std): \n",
        "  # Take a single sample from a diagonal multivariate Gaussian.\n",
        "  return mean + np.exp(log_std) * random.normal(rng, mean.shape)\n",
        "\n",
        "def diag_gaussian_logpdf(x, mean, log_std):\n",
        "  # Evaluate a single point on a diagonal multivariate Gaussian.\n",
        "  return np.sum(vmap(norm.logpdf)(x, mean, np.exp(log_std)))\n",
        "\n",
        "def elbo(  # Single-sample Monte Carlo estimate of the variational lower bound.\n",
        "    recognition_net,    # takes recognition_params and a datapoint, outputs mean and log_std of size latent_dim, i.e. log q(z|x)\n",
        "    log_joint,          # takes model_params and a vector of size latent_dim and a datapoint, outputs unnormalized log joint, i.e. log p(x,z)\n",
        "    recognition_params, # a.k.a. phi\n",
        "    model_params,       # a.k.a. theta\n",
        "    datapoint,          # a.k.a. x\n",
        "    rng):\n",
        "\n",
        "  q_params =  recognition_net(recognition_params, datapoint)       # TODO. Call recognition net.\n",
        "  sample = diag_gaussian_sample(rng, q_params[0], q_params[1])   # TODO. Sample z from approximate posterior.\n",
        "  log_joint_value = log_joint(model_params, sample, datapoint) # TODO. Call log p(z, x).\n",
        "  log_post_value = diag_gaussian_logpdf(sample, q_params[0], q_params[1])\n",
        "  #log_post_value = np.sum(norm.logpdf(sample, q_params[0], q_params[1]), axis=-1)  # TODO. Evaluate density of log posterior q(z).\n",
        "  #elbo_hat = log_joint_value-log_prior(datapoint)+ q_params[1] - (np.exp(q_params[1]) ** 2 + q_params[0] ** 2 - 1) / 2\n",
        "  #elbo_hat = log_joint_value-log_post_value-q_params[0]    # TODO. Produce an unbiased esimate of the ELBO.\n",
        "  elbo_hat = log_joint_value-log_post_value\n",
        "  return elbo_hat\n",
        "\n",
        "def batch_elbo(recognition_net, log_joint, recognition_params,\n",
        "               model_params, data, rng):\n",
        "  # Average ELBO estimate over a batch of random samples.\n",
        "  batch_size = data.shape[0]\n",
        "  rngs = random.split(rng, batch_size)\n",
        "  vectorized_elbo = vmap(partial(elbo, recognition_net, log_joint,\n",
        "                                 recognition_params, model_params),\n",
        "                         in_axes=(0, 0))\n",
        "  return np.mean(vectorized_elbo(data, rngs))\n"
      ],
      "metadata": {
        "id": "ChZZaRmqhkvu"
      },
      "execution_count": null,
      "outputs": []
    },
    {
      "cell_type": "markdown",
      "source": [
        "**1.4) [0 points]** The below code trains a VAE where the encoder and decoder are both neural networks. The parameters are specified in the starter code.  You don't need to do anything here, this is just to help you debug."
      ],
      "metadata": {
        "id": "lOyXE8CCHNwT"
      }
    },
    {
      "cell_type": "code",
      "source": [
        "# Define a VAE for the spiral dataset.\n",
        "\n",
        "data_dimension = 2\n",
        "latent_dimension = 2\n",
        "key = random.PRNGKey(0)\n",
        "\n",
        "# Define the recognition network.\n",
        "# We implement the functions as a split output of a 1-layer MLP\n",
        "# https://github.com/google/jax/blob/master/jax/experimental/README.md#neural-net-building-with-stax\n",
        "init_recognize, recognition_net = serial(\n",
        "    Dense(100), \n",
        "    Relu,\n",
        "    Dense(50), \n",
        "    Relu,\n",
        "    FanOut(2),\n",
        "    parallel(\n",
        "        Dense(latent_dimension),   # Output mean of q(z)\n",
        "        Dense(latent_dimension)    # Output log_std of q(z)\n",
        "        )\n",
        "    )\n",
        "_, init_recognition_params = init_recognize(rng, input_shape=(data_dimension,))\n",
        "\n",
        "# Define the decoder network.\n",
        "# Note that it has two outputs, a mean and a variance, because \n",
        "# this model has a Gaussian likelihood p(x|z).\n",
        "init_decoder, decoder = serial(\n",
        "    Dense(100), \n",
        "    Relu,\n",
        "    Dense(50), \n",
        "    Relu,\n",
        "    FanOut(2),\n",
        "    parallel(\n",
        "        Dense(data_dimension),    # Output mean of p(x|z)\n",
        "        Dense(data_dimension)     # Output log_std of p(x|z).\n",
        "        )\n",
        "    )\n",
        "_, init_decoder_params = init_decoder(rng, input_shape=(latent_dimension,))\n",
        "\n",
        "# Set up log likelihood function.\n",
        "def log_likelihood(decoder_params, latent, datapoint):\n",
        "  mean, log_std = decoder(decoder_params, latent)\n",
        "  return diag_gaussian_logpdf(datapoint, mean,\n",
        "                              np.log(0.1) + 0. * log_std)  # Note: we are cheating here and using a fixed noise variance to make optimization more stable.\n",
        "\n",
        "def log_joint(decoder_params, latent, datapoint):\n",
        "  return log_prior(latent) + log_likelihood(decoder_params, latent, datapoint)\n",
        "\n",
        "# Run optimization\n",
        "optimizer=optimizers.adam\n",
        "optimizer_kwargs=dict(step_size=1e-3)\n",
        "n_iters = 2000\n",
        "minibatch_size = 300\n",
        "\n",
        "opt_init, opt_update, get_params = optimizer(**optimizer_kwargs)\n",
        "opt_state = opt_init((init_recognition_params, init_decoder_params))\n",
        "\n",
        "def objective(params, t):  # The loss function to be minimized.\n",
        "  rng = random.PRNGKey(t)\n",
        "  minibatch_ixs = random.choice(rng, data.shape[0], (minibatch_size,))\n",
        "  minibatch = data[minibatch_ixs, :]\n",
        "  recognition_params, decoder_params = params\n",
        "  return -batch_elbo(\n",
        "    recognition_net,\n",
        "    log_joint,\n",
        "    recognition_params,  # a.k.a. phi\n",
        "    decoder_params,      # a.k.a. theta\n",
        "    minibatch,\n",
        "    rng)\n",
        "\n",
        "def callback(params, t):\n",
        "  if t % 100 == 0:\n",
        "    print(\"Iteration {} lower bound {}\".format(t, -objective(params, t)))\n",
        "\n",
        "@jit\n",
        "def update(i, opt_state):\n",
        "    params = get_params(opt_state) \n",
        "    gradient = grad(objective)(params, i)\n",
        "    return opt_update(i, gradient, opt_state)\n",
        "\n",
        "# Main loop.\n",
        "print(\"Optimizing variational parameters...\")\n",
        "for t in trange(0, n_iters):\n",
        "    opt_state = update(t, opt_state)\n",
        "    params = get_params(opt_state)\n",
        "    callback(params, t)\n",
        "\n",
        "recognition_params, decoder_params = params"
      ],
      "metadata": {
        "id": "OgGgHfUsmid6",
        "colab": {
          "base_uri": "https://localhost:8080/",
          "height": 413,
          "referenced_widgets": [
            "a15a50c84e27440e95e27e7b3e6e67dd",
            "98ea18370e1848769a3632c48369d9d4",
            "383e235b32854e8c81b623c9ec499dc0",
            "52b1150a6ad346a1ac65969a54485f52",
            "866c99f48f494930b38a5aaa8169102a",
            "00afa685a40b46758138d0ef9471ab20",
            "b4a3050139f04d128559127f27e20c49",
            "a4aacde087c24f50999fe0019a60681a",
            "58cf9e9eec664b96a266241853a25f21",
            "f5973d9bbfcc4eb7bab3307b2f671bc6",
            "048b19d0d89347f2bc1f758a2fbc96c0"
          ]
        },
        "outputId": "5ac5856e-3957-42ab-f3a0-bcd9f12ccbf8"
      },
      "execution_count": null,
      "outputs": [
        {
          "output_type": "stream",
          "name": "stdout",
          "text": [
            "Optimizing variational parameters...\n"
          ]
        },
        {
          "output_type": "display_data",
          "data": {
            "text/plain": [
              "  0%|          | 0/2000 [00:00<?, ?it/s]"
            ],
            "application/vnd.jupyter.widget-view+json": {
              "version_major": 2,
              "version_minor": 0,
              "model_id": "a15a50c84e27440e95e27e7b3e6e67dd"
            }
          },
          "metadata": {}
        },
        {
          "output_type": "stream",
          "name": "stdout",
          "text": [
            "Iteration 0 lower bound -53.33388900756836\n",
            "Iteration 100 lower bound -3.61269211769104\n",
            "Iteration 200 lower bound -2.0105769634246826\n",
            "Iteration 300 lower bound -2.1127068996429443\n",
            "Iteration 400 lower bound -1.7560818195343018\n",
            "Iteration 500 lower bound -1.5702166557312012\n",
            "Iteration 600 lower bound -1.5603581666946411\n",
            "Iteration 700 lower bound -1.517201542854309\n",
            "Iteration 800 lower bound -1.4120897054672241\n",
            "Iteration 900 lower bound -1.4079326391220093\n",
            "Iteration 1000 lower bound -1.2147589921951294\n",
            "Iteration 1100 lower bound -1.3684642314910889\n",
            "Iteration 1200 lower bound -1.076156735420227\n",
            "Iteration 1300 lower bound -1.3115421533584595\n",
            "Iteration 1400 lower bound -1.3518357276916504\n",
            "Iteration 1500 lower bound -1.223280906677246\n",
            "Iteration 1600 lower bound -1.3310039043426514\n",
            "Iteration 1700 lower bound -1.2139828205108643\n",
            "Iteration 1800 lower bound -1.2847943305969238\n",
            "Iteration 1900 lower bound -1.0971506834030151\n"
          ]
        }
      ]
    },
    {
      "cell_type": "code",
      "source": [],
      "metadata": {
        "id": "u57DHAqQm49e"
      },
      "execution_count": null,
      "outputs": []
    },
    {
      "cell_type": "markdown",
      "source": [
        "1.5) [5 points] In this part, we visualize how the data looks like in the latent space. We simply use the trained recognition network (the encoder) to map each input to latent space.\n",
        "\n",
        "The result should look something like:\n",
        "\n",
        "![](https://drive.google.com/uc?id=1o1mlRp974jdDONZl8Gdz3FceqrMS--6E)"
      ],
      "metadata": {
        "id": "ItI3GUaJH2o7"
      }
    },
    {
      "cell_type": "code",
      "source": [
        "print(len(recognition_params))\n",
        "print(len(recognition_params[0]))\n",
        "print(len(recognition_params[0][0]))\n",
        "print(len(recognition_params[0][0][0]))\n"
      ],
      "metadata": {
        "colab": {
          "base_uri": "https://localhost:8080/"
        },
        "id": "brHHmVIBqQCO",
        "outputId": "f65e976a-988d-4f19-e9de-0ff709508887"
      },
      "execution_count": null,
      "outputs": [
        {
          "output_type": "stream",
          "name": "stdout",
          "text": [
            "6\n",
            "2\n",
            "2\n",
            "100\n"
          ]
        }
      ]
    },
    {
      "cell_type": "code",
      "source": [
        "# Show the means of the encoded data in a 2D latent space.\n",
        "# Don't worry if this doesn't look much like a Gaussian.\n",
        "\n",
        "for k in range(num_clusters):\n",
        "  cur_data = data[labels == k] # TODO get all the data from this cluster.\n",
        "  print(len(cur_data))\n",
        "  transformed,_ = recognition_net(recognition_params, cur_data)  # TODO find the mean of q(z|x) for each x.\n",
        "  print(transformed.shape)\n",
        "  plt.scatter(transformed[:, 0], transformed[:, 1], s=2)\n",
        "\n",
        "\n",
        "plt.axis(\"equal\")\n",
        "plt.xlabel(\"latent dimension 1\")\n",
        "plt.xlabel(\"latent dimension 2\")\n"
      ],
      "metadata": {
        "id": "u5GjmVm636GK",
        "colab": {
          "base_uri": "https://localhost:8080/",
          "height": 400
        },
        "outputId": "71a671ea-01cf-45fe-d62b-26fc98d96513"
      },
      "execution_count": null,
      "outputs": [
        {
          "output_type": "stream",
          "name": "stdout",
          "text": [
            "300\n",
            "(300, 2)\n",
            "300\n",
            "(300, 2)\n",
            "300\n",
            "(300, 2)\n"
          ]
        },
        {
          "output_type": "execute_result",
          "data": {
            "text/plain": [
              "Text(0.5, 0, 'latent dimension 2')"
            ]
          },
          "metadata": {},
          "execution_count": 9
        },
        {
          "output_type": "display_data",
          "data": {
            "text/plain": [
              "<Figure size 432x288 with 1 Axes>"
            ],
            "image/png": "[encoded data removed]"
          },
          "metadata": {
            "needs_background": "light"
          }
        }
      ]
    },
    {
      "cell_type": "code",
      "source": [
        "print(data.shape)"
      ],
      "metadata": {
        "colab": {
          "base_uri": "https://localhost:8080/"
        },
        "id": "d7xbsgL4kZma",
        "outputId": "8bde31ed-8ef8-49e7-fef1-ece6d4749d5c"
      },
      "execution_count": null,
      "outputs": [
        {
          "output_type": "stream",
          "name": "stdout",
          "text": [
            "(900, 2)\n"
          ]
        }
      ]
    },
    {
      "cell_type": "markdown",
      "source": [
        "**1.6) [5 points]** Using the decoder and the generative model we just trained, we can generate new data. For this, we simply generate 1000 latent variables in the latent space from the prior and pass it through the decoder network.\n",
        "\n",
        "You shouldn't expect this to match the data exactly, just to get the overall shape and number of clusters roughly correct.  Counterintuitively, the larger and richer MNIST data is easier to fit than this toy dataset.\n",
        "\n",
        "The result should look something like:\n",
        "\n",
        "![](https://drive.google.com/uc?id=1AI691z1q82-zwbLlBv1-4UiO08wwEifx)"
      ],
      "metadata": {
        "id": "FeSyYzKhINyK"
      }
    },
    {
      "cell_type": "code",
      "source": [
        "# Sample data from the trained generative model to see if it\n",
        "# roughly matches the data.  # Note: This doesn't add the likelihood noise,\n",
        "# although it should if we want it to match the data.\n",
        "\n",
        "num_samples = 1000\n",
        "samples = random.normal(key, (num_samples, 2)) # TODO\n",
        "transformed = decoder(decoder_params, samples)[0]  # TODO\n",
        "plt.scatter(transformed[:, 0], transformed[:, 1], s=2)\n",
        "plt.axis(\"equal\")"
      ],
      "metadata": {
        "id": "YYm4QeiGk_Jm",
        "colab": {
          "base_uri": "https://localhost:8080/",
          "height": 334
        },
        "outputId": "e4c6f123-4ce0-4c97-df08-65393288cf4f"
      },
      "execution_count": null,
      "outputs": [
        {
          "output_type": "execute_result",
          "data": {
            "text/plain": [
              "(-2.245930182933807,\n",
              " 1.4651386618614197,\n",
              " -1.975745052099228,\n",
              " 1.6183788478374481)"
            ]
          },
          "metadata": {},
          "execution_count": 11
        },
        {
          "output_type": "display_data",
          "data": {
            "text/plain": [
              "<Figure size 432x288 with 1 Axes>"
            ],
            "image/png": "[encoded data removed]"
          },
          "metadata": {
            "needs_background": "light"
          }
        }
      ]
    },
    {
      "cell_type": "markdown",
      "source": [
        "**1.7) [0 points]** Here's a debugging tool only available when both the latent space and the data are both 2-dimensional.  We can show the function being learned by the encoder by showing how it warps a 2D grid into the latent space."
      ],
      "metadata": {
        "id": "Z3ndLm3JggYd"
      }
    },
    {
      "cell_type": "code",
      "source": [
        "\n",
        "from matplotlib.collections import LineCollection\n",
        "\n",
        "def plot_grid(x,y, ax=None, **kwargs):\n",
        "    ax = ax or plt.gca()\n",
        "    segs1 = np.stack((x,y), axis=2)\n",
        "    segs2 = segs1.transpose(1,0,2)\n",
        "    ax.add_collection(LineCollection(segs1, **kwargs))\n",
        "    ax.add_collection(LineCollection(segs2, **kwargs))\n",
        "    ax.autoscale()\n",
        "\n",
        "def f(x,y):\n",
        "  return decoder(decoder_params, np.array([x, y]))\n",
        "f = vmap(f, in_axes=(0,0))\n",
        "f = vmap(f, in_axes=(0,0))\n",
        "\n",
        "fig, ax = plt.subplots()\n",
        "\n",
        "grid_x,grid_y = np.meshgrid(np.linspace(-3,3,20),np.linspace(-3,3,20))\n",
        "plot_grid(grid_x,grid_y, ax=ax,  color=\"lightgrey\")\n",
        "\n",
        "distx, disty = f(grid_x,grid_y)\n",
        "plot_grid(distx[:, :, 0], distx[:, :, 1], ax=ax, color=\"C0\")\n",
        "\n",
        "plt.show()"
      ],
      "metadata": {
        "id": "UgdwiGrpsHRP",
        "colab": {
          "base_uri": "https://localhost:8080/",
          "height": 264
        },
        "outputId": "b9b06596-227c-40ba-c5cb-ed16e8d5542a"
      },
      "execution_count": null,
      "outputs": [
        {
          "output_type": "display_data",
          "data": {
            "text/plain": [
              "<Figure size 432x288 with 1 Axes>"
            ],
            "image/png": "[encoded data removed]"
          },
          "metadata": {
            "needs_background": "light"
          }
        }
      ]
    },
    {
      "cell_type": "markdown",
      "source": [
        "**1.8) [0 points]** Here, we show the function being learned by the decoder by showing how it warps a 2D grid into the observed space.\n",
        "\n"
      ],
      "metadata": {
        "id": "qX7XKlJLgqFz"
      }
    },
    {
      "cell_type": "code",
      "source": [
        "def f(x,y):\n",
        "  return recognition_net(recognition_params, np.array([x, y]))\n",
        "f = vmap(f, in_axes=(0,0))\n",
        "f = vmap(f, in_axes=(0,0))\n",
        "\n",
        "fig, ax = plt.subplots()\n",
        "\n",
        "grid_x,grid_y = np.meshgrid(np.linspace(-3,3,20),np.linspace(-3,3,20))\n",
        "plot_grid(grid_x,grid_y, ax=ax,  color=\"lightgrey\")\n",
        "\n",
        "distx, disty = f(grid_x,grid_y)\n",
        "plot_grid(distx[:, :, 0], distx[:, :, 1], ax=ax, color=\"C0\")\n",
        "\n",
        "plt.show()"
      ],
      "metadata": {
        "id": "DqkriclvSsaN",
        "colab": {
          "base_uri": "https://localhost:8080/",
          "height": 264
        },
        "outputId": "20506070-23d2-4f45-8508-df86cdffd25c"
      },
      "execution_count": null,
      "outputs": [
        {
          "output_type": "display_data",
          "data": {
            "text/plain": [
              "<Figure size 432x288 with 1 Axes>"
            ],
            "image/png": "[encoded data removed]"
          },
          "metadata": {
            "needs_background": "light"
          }
        }
      ]
    },
    {
      "cell_type": "markdown",
      "source": [
        "# Question 2 - 45 points\n",
        "\n",
        "In this question, we will implement and investigate the Variational Autoencoder on binarized MNIST digits, as introduced by the paper [Auto-Encoding Variational Bayes](https://arxiv.org/pdf/1312.6114.pdf) by Kingma and Welling (2013).\n",
        "\n",
        "\n",
        "**MNIST data**: Each datapoint in the [MNIST dataset](http://yann.lecun.com/exdb/mnist/) is a 28x28 grayscale image (i.e. pixels are values between 0 and 1) of a handwritten digit in $\\{0 \\dots 9\\}$, and a label indicating which number.\n",
        "\n",
        "The below code contains a function that downloads the MNIST data set and another one that can plot multiple images.\n"
      ],
      "metadata": {
        "id": "ItRbxaGrXNDI"
      }
    },
    {
      "cell_type": "code",
      "source": [
        "# Load MNIST data\n",
        "import os\n",
        "import gzip\n",
        "import struct\n",
        "import array\n",
        "import matplotlib.image\n",
        "from urllib.request import urlretrieve\n",
        "\n",
        "def download(url, filename):\n",
        "    if not os.path.exists('data'):\n",
        "        os.makedirs('data')\n",
        "    out_file = os.path.join('data', filename)\n",
        "    if not os.path.isfile(out_file):\n",
        "        urlretrieve(url, out_file)\n",
        "\n",
        "\n",
        "def mnist():\n",
        "    base_url = 'http://yann.lecun.com/exdb/mnist/'\n",
        "\n",
        "    def parse_labels(filename):\n",
        "        with gzip.open(filename, 'rb') as fh:\n",
        "            magic, num_data = struct.unpack(\">II\", fh.read(8))\n",
        "            return np.array(array.array(\"B\", fh.read()), dtype=np.uint8)\n",
        "\n",
        "    def parse_images(filename):\n",
        "        with gzip.open(filename, 'rb') as fh:\n",
        "            magic, num_data, rows, cols = struct.unpack(\">IIII\", fh.read(16))\n",
        "            return np.array(array.array(\"B\", fh.read()), dtype=np.uint8).reshape(num_data, rows, cols)\n",
        "\n",
        "    for filename in ['train-images-idx3-ubyte.gz',\n",
        "                     'train-labels-idx1-ubyte.gz',\n",
        "                     't10k-images-idx3-ubyte.gz',\n",
        "                     't10k-labels-idx1-ubyte.gz']:\n",
        "        download(base_url + filename, filename)\n",
        "\n",
        "    train_images = parse_images('data/train-images-idx3-ubyte.gz')\n",
        "    train_labels = parse_labels('data/train-labels-idx1-ubyte.gz')\n",
        "    test_images = parse_images('data/t10k-images-idx3-ubyte.gz')\n",
        "    test_labels = parse_labels('data/t10k-labels-idx1-ubyte.gz')\n",
        "\n",
        "    return train_images, train_labels, test_images[:1000], test_labels[:1000]\n",
        "\n",
        "\n",
        "def load_mnist():\n",
        "    partial_flatten = lambda x: np.reshape(x, (x.shape[0], np.prod(np.array(x.shape[1:]))))\n",
        "    one_hot = lambda x, k: np.array(x[:, None] == np.arange(k)[None, :], dtype=int)\n",
        "    train_images, train_labels, test_images, test_labels = mnist()\n",
        "    train_images = (partial_flatten(train_images) / 255.0 > .5).astype(float)\n",
        "    test_images = (partial_flatten(test_images) / 255.0 > .5).astype(float)\n",
        "    train_labels = one_hot(train_labels, 10)\n",
        "    test_labels = one_hot(test_labels, 10)\n",
        "    N_data = train_images.shape[0]\n",
        "\n",
        "    return N_data, train_images, train_labels, test_images, test_labels\n",
        "\n",
        "N_data, train_images, train_labels, test_images, test_labels = load_mnist()\n",
        "\n",
        "import numpy as onp\n",
        "def plot_images(images, ims_per_row=5, padding=5, digit_dimensions=(28, 28),\n",
        "                cmap=matplotlib.cm.binary, vmin=0., vmax=1.):\n",
        "    \"\"\"Images should be a (N_images x pixels) matrix.\"\"\"\n",
        "    fig = plt.figure(1)\n",
        "    fig.clf()\n",
        "    ax = fig.add_subplot(111)\n",
        "\n",
        "    N_images = images.shape[0]\n",
        "    N_rows = onp.int32(onp.ceil(float(N_images) / ims_per_row))\n",
        "    pad_value = vmin\n",
        "    concat_images = onp.full(((digit_dimensions[0] + padding) * N_rows + padding,\n",
        "                             (digit_dimensions[1] + padding) * ims_per_row + padding), pad_value)\n",
        "    for i in range(N_images):\n",
        "        cur_image = np.reshape(images[i, :], digit_dimensions)\n",
        "        row_ix = i // ims_per_row\n",
        "        col_ix = i % ims_per_row\n",
        "        row_start = padding + (padding + digit_dimensions[0]) * row_ix\n",
        "        col_start = padding + (padding + digit_dimensions[1]) * col_ix\n",
        "        concat_images[row_start: row_start + digit_dimensions[0],\n",
        "                      col_start: col_start + digit_dimensions[1]] = cur_image\n",
        "        cax = ax.matshow(concat_images, cmap=cmap, vmin=vmin, vmax=vmax)\n",
        "        plt.xticks(onp.array([]))\n",
        "        plt.yticks(onp.array([]))\n",
        "    \n",
        "    plt.plot()\n",
        "\n",
        "plot_images(train_images[:10, :])"
      ],
      "metadata": {
        "id": "_KvgdSxIXSP4",
        "colab": {
          "base_uri": "https://localhost:8080/",
          "height": 177
        },
        "outputId": "122830a3-7c69-4cdf-aba6-5522189f2ed9"
      },
      "execution_count": null,
      "outputs": [
        {
          "output_type": "display_data",
          "data": {
            "text/plain": [
              "<Figure size 432x288 with 1 Axes>"
            ],
            "image/png": "[encoded data removed]"
          },
          "metadata": {}
        }
      ]
    },
    {
      "cell_type": "markdown",
      "source": [
        "**2.1) [20 pts]** The model is as follows.\n",
        "\n",
        "\n",
        "*   **Prior:** The prior over each digit's latent representation is a multivariate standard normal distribution. For all questions, we'll set the dimension of the latent space to 2.\n",
        "A larger latent dimension would provide a more powerful model, but for this assignment we'll use a two-dimensional latent space to make visualization and debugging easier.\n",
        "\n",
        "\n",
        "*   **Likelihood:** Given the latent representation $z$ for an image, the distribution over all 784 pixels in the image is given by a product of independent Bernoullis, whose means are given by the output of a neural network $f_\\theta(z)$:\n",
        "$$p(x|z, \\theta) = \\prod_{d=1}^{784} \\operatorname{Ber}(x_d|f_\\theta(z)_d)$$\n",
        "The neural network $f_\\theta$ is called the decoder, and its parameters $\\theta$ will be optimized to fit the data.\n",
        "\n",
        "Implement the missing lines in the below code, to complete\n",
        "the functions:\n",
        "1.   $\\texttt{log_likelihood}$: Log-likelihood of the above model.\n",
        "2.   $\\texttt{log_joint}$: Joint log-likelihood of data and latent variables.\n",
        "3.   $\\texttt{objective}$: You will use the elbo function you wrote in the previous question.\n",
        "\n",
        "Report the final ELBO. "
      ],
      "metadata": {
        "id": "CuU3ftS4Fl-5"
      }
    },
    {
      "cell_type": "code",
      "source": [
        "# Define a specific VAE for MNIST\n",
        "\n",
        "data_dimension = 28*28\n",
        "latent_dimension = 2\n",
        "key = random.PRNGKey(0)\n",
        "\n",
        "# Define the recognition network.\n",
        "# We implement the functions as a split output of a 1-layer MLP\n",
        "# https://github.com/google/jax/blob/master/jax/experimental/README.md#neural-net-building-with-stax\n",
        "init_recognize, recognition_net = serial(\n",
        "    Dense(150),\n",
        "    Relu,\n",
        "    Dense(50),\n",
        "    Relu,\n",
        "    FanOut(2),\n",
        "    parallel(\n",
        "        Dense(latent_dimension),   # Output mean of q(z)\n",
        "        Dense(latent_dimension)    # Output log_std of q(z)\n",
        "        )\n",
        "    )\n",
        "_, init_recognition_params = init_recognize(rng, input_shape=(data_dimension,))  # TODO: What is the input dimension of the encoder?\n",
        "\n",
        "\n",
        "# Define the decoder network.\n",
        "init_decoder, decoder = serial(\n",
        "    Dense(150),\n",
        "    Relu,\n",
        "    Dense(50),\n",
        "    Relu,\n",
        "    Dense(data_dimension),    # TODO: Output logit of Ber(x|z)\n",
        ")\n",
        "_, init_decoder_params = init_decoder(rng, input_shape=(latent_dimension,))      # TODO: What is the input dimension of the decoder?\n",
        "\n",
        "\n",
        "# Set up log likelihood function.\n",
        "def bernoulli_logpdf(logits, x):\n",
        "  \"\"\"Bernoulli log pdf of data x given logits.\"\"\"\n",
        "  return -np.sum(np.logaddexp(0., np.where(x, -1., 1.) * logits))\n",
        "\n",
        "def log_likelihood(decoder_params, latent, datapoint): # TODO\n",
        "  logits = decoder(decoder_params, latent)\n",
        "  return bernoulli_logpdf(logits, datapoint)\n",
        "\n",
        "def log_joint(decoder_params, latent, datapoint): # TODO\n",
        "  return log_prior(latent) + log_likelihood(decoder_params, latent, datapoint)\n",
        "\n",
        "# Run optimization\n",
        "optimizer=optimizers.adam\n",
        "optimizer_kwargs=dict(step_size=1e-2)\n",
        "n_iters = 5000\n",
        "minibatch_size = 200\n",
        "\n",
        "opt_init, opt_update, get_params = optimizer(**optimizer_kwargs)\n",
        "opt_state = opt_init((init_recognition_params, init_decoder_params))\n",
        "\n",
        "def objective(params, t):  # The loss function to be minimized.  \n",
        "  rng = random.PRNGKey(t)\n",
        "  minibatch_ixs = random.choice(rng, train_images.shape[0], (minibatch_size,))\n",
        "  minibatch = train_images[minibatch_ixs, :] # TODO\n",
        "  recognition_params, decoder_params =  params # TODO\n",
        "  return -batch_elbo( recognition_net, log_joint, recognition_params, \n",
        "                     decoder_params,  minibatch, rng) # TODO \n",
        "\n",
        "def callback(params, t):\n",
        "  if t % 100 == 0:\n",
        "    print(\"Iteration {} lower bound {}\".format(t, -objective(params, t)))\n",
        "\n",
        "@jit\n",
        "def update(i, opt_state):\n",
        "    params = get_params(opt_state) \n",
        "    gradient = grad(objective)(params, i)\n",
        "    return opt_update(i, gradient, opt_state)\n",
        "\n",
        "# Main loop.\n",
        "print(\"Optimizing variational parameters...\")\n",
        "for t in trange(0, n_iters):\n",
        "    opt_state = update(t, opt_state)\n",
        "    params = get_params(opt_state)\n",
        "    callback(params, t)\n",
        "\n",
        "recognition_params, decoder_params = params"
      ],
      "metadata": {
        "id": "enYQZKWebwFy",
        "colab": {
          "base_uri": "https://localhost:8080/",
          "height": 933,
          "referenced_widgets": [
            "695715716b824faea9e42dcf229dcdc2",
            "be12642ab19c4de69da99f4d7d88dc71",
            "6c9a929eb3a24a75be3403f5b496fa8d",
            "dd942a3128aa44e7b9abd5b43eb1822f",
            "662984321a084220830ec227932a9ac5",
            "8349057abbe84c93b626d74c74a87c2a",
            "be7d48e9fbca4fbe8b379abd5ed6c7a9",
            "61c79038872b4ea08a40ce947b6478c7",
            "4e93155812b94b6c95d26416b65848f8",
            "e37ab8f2bd7044cb858412d6a6eda5fd",
            "c1ae1e6f80784ae59704757e641bb67e"
          ]
        },
        "outputId": "c875fb62-56af-47e6-ea46-46339b48f81e"
      },
      "execution_count": null,
      "outputs": [
        {
          "output_type": "stream",
          "name": "stdout",
          "text": [
            "Optimizing variational parameters...\n"
          ]
        },
        {
          "output_type": "display_data",
          "data": {
            "text/plain": [
              "  0%|          | 0/5000 [00:00<?, ?it/s]"
            ],
            "application/vnd.jupyter.widget-view+json": {
              "version_major": 2,
              "version_minor": 0,
              "model_id": "695715716b824faea9e42dcf229dcdc2"
            }
          },
          "metadata": {}
        },
        {
          "output_type": "stream",
          "name": "stdout",
          "text": [
            "Iteration 0 lower bound -524.983642578125\n",
            "Iteration 100 lower bound -182.7432403564453\n",
            "Iteration 200 lower bound -171.57186889648438\n",
            "Iteration 300 lower bound -164.0505828857422\n",
            "Iteration 400 lower bound -165.11976623535156\n",
            "Iteration 500 lower bound -157.61358642578125\n",
            "Iteration 600 lower bound -153.10498046875\n",
            "Iteration 700 lower bound -157.39151000976562\n",
            "Iteration 800 lower bound -153.72706604003906\n",
            "Iteration 900 lower bound -150.7572479248047\n",
            "Iteration 1000 lower bound -154.87318420410156\n",
            "Iteration 1100 lower bound -151.767822265625\n",
            "Iteration 1200 lower bound -150.79833984375\n",
            "Iteration 1300 lower bound -152.0321502685547\n",
            "Iteration 1400 lower bound -149.70632934570312\n",
            "Iteration 1500 lower bound -150.81060791015625\n",
            "Iteration 1600 lower bound -152.19667053222656\n",
            "Iteration 1700 lower bound -154.1454620361328\n",
            "Iteration 1800 lower bound -149.25704956054688\n",
            "Iteration 1900 lower bound -150.4337921142578\n",
            "Iteration 2000 lower bound -154.97328186035156\n",
            "Iteration 2100 lower bound -146.32908630371094\n",
            "Iteration 2200 lower bound -151.79876708984375\n",
            "Iteration 2300 lower bound -154.07785034179688\n",
            "Iteration 2400 lower bound -143.7301025390625\n",
            "Iteration 2500 lower bound -141.6824951171875\n",
            "Iteration 2600 lower bound -149.12774658203125\n",
            "Iteration 2700 lower bound -147.50279235839844\n",
            "Iteration 2800 lower bound -151.02435302734375\n",
            "Iteration 2900 lower bound -146.27163696289062\n",
            "Iteration 3000 lower bound -150.85264587402344\n",
            "Iteration 3100 lower bound -138.08258056640625\n",
            "Iteration 3200 lower bound -148.9359130859375\n",
            "Iteration 3300 lower bound -146.20590209960938\n",
            "Iteration 3400 lower bound -154.566162109375\n",
            "Iteration 3500 lower bound -149.31069946289062\n",
            "Iteration 3600 lower bound -151.47740173339844\n",
            "Iteration 3700 lower bound -147.80523681640625\n",
            "Iteration 3800 lower bound -148.6395263671875\n",
            "Iteration 3900 lower bound -142.7538604736328\n",
            "Iteration 4000 lower bound -155.87908935546875\n",
            "Iteration 4100 lower bound -143.35804748535156\n",
            "Iteration 4200 lower bound -153.00205993652344\n",
            "Iteration 4300 lower bound -142.37969970703125\n",
            "Iteration 4400 lower bound -152.89105224609375\n",
            "Iteration 4500 lower bound -155.7575225830078\n",
            "Iteration 4600 lower bound -147.72149658203125\n",
            "Iteration 4700 lower bound -148.786865234375\n",
            "Iteration 4800 lower bound -153.97329711914062\n",
            "Iteration 4900 lower bound -146.9988250732422\n"
          ]
        }
      ]
    },
    {
      "cell_type": "markdown",
      "source": [
        "**2.2) [5pts]** In what follows, we will investigate our model by visualizing the distribution over data given by the generative model, sampling from it, and interpolating between digits.\n",
        "\n",
        "One way to understand the meaning of latent representations is to see which parts of the latent space correspond to which kinds of data. Here we'll produce a scatter plot in the latent space, where each point in the plot represents a different image in the training set.\n",
        "\n",
        "Implement the missing lines in the below code, to plot the transformed data points in the latent space.\n",
        "\n",
        "\n",
        "\n",
        "1.   Encode each image in the training set.\n",
        "2.   Take the 2D mean vector of each encoding $q_\\phi(z|x)$.\n",
        "3.   Plot these mean vectors in the 2D latent space with a scatterplot.\n",
        "4.   Colour each point according to the class label (0 to 9).\n",
        "\n",
        "\n",
        "Hopefully our latent space will group images of different classes, even though we never provided class labels to the model!\n",
        "\n",
        "\n",
        "\n"
      ],
      "metadata": {
        "id": "_4D_ldpaGldW"
      }
    },
    {
      "cell_type": "code",
      "source": [
        "for k in range(10):\n",
        "  cur_data = train_images[train_labels[:, k] == True, :]\n",
        "  transformed = recognition_net(recognition_params, cur_data)[0]# TODO:  Call recognition net and extract mean\n",
        "  plt.scatter(transformed[:, 0], transformed[:, 1], s=2)\n",
        "\n",
        "plt.axis(\"equal\")"
      ],
      "metadata": {
        "id": "MReco_Jje8LE",
        "colab": {
          "base_uri": "https://localhost:8080/",
          "height": 334
        },
        "outputId": "f61bb7b8-a271-4d86-c75d-e2ada24d3615"
      },
      "execution_count": null,
      "outputs": [
        {
          "output_type": "execute_result",
          "data": {
            "text/plain": [
              "(-4.704423677921295,\n",
              " 3.2983541607856752,\n",
              " -3.9302623748779295,\n",
              " 4.195841598510742)"
            ]
          },
          "metadata": {},
          "execution_count": 16
        },
        {
          "output_type": "display_data",
          "data": {
            "text/plain": [
              "<Figure size 432x288 with 1 Axes>"
            ],
            "image/png": "[encoded data removed]"
          },
          "metadata": {
            "needs_background": "light"
          }
        }
      ]
    },
    {
      "cell_type": "markdown",
      "source": [
        "2.3) [10 pts] Now we'll fit a model with a larger latent space.  We won't be able to visualize this model as easily, but it should be able to fit the data better.  Set latent_dimension to 20 and re-fit the model.  You should be able to get a much better ELBO using this larger model."
      ],
      "metadata": {
        "id": "omqkiyxKRfRU"
      }
    },
    {
      "cell_type": "code",
      "source": [
        "# TODO: Train the same model as above but with\n",
        "latent_dimension = 20\n",
        "# Feel free to copy code from above.\n",
        "\n",
        "# ==========================================\n",
        "# Define the recognition network.\n",
        "# We implement the functions as a split output of a 1-layer MLP\n",
        "# https://github.com/google/jax/blob/master/jax/experimental/README.md#neural-net-building-with-stax\n",
        "init_recognize, recognition_net = serial(\n",
        "    Dense(150),\n",
        "    Relu,\n",
        "    Dense(50),\n",
        "    Relu,\n",
        "    FanOut(2),\n",
        "    parallel(\n",
        "        Dense(latent_dimension),   # Output mean of q(z)\n",
        "        Dense(latent_dimension)    # Output log_std of q(z)\n",
        "        )\n",
        "    )\n",
        "_, init_recognition_params = init_recognize(rng, input_shape=(data_dimension,))  # TODO: What is the input dimension of the encoder?\n",
        "\n",
        "\n",
        "# Define the decoder network.\n",
        "init_decoder, decoder = serial(\n",
        "    Dense(150),\n",
        "    Relu,\n",
        "    Dense(50),\n",
        "    Relu,\n",
        "    Dense(data_dimension),    # TODO: Output logit of Ber(x|z)\n",
        ")\n",
        "_, init_decoder_params = init_decoder(rng, input_shape=(latent_dimension,))      # TODO: What is the input dimension of the decoder?\n",
        "\n",
        "\n",
        "# Set up log likelihood function.\n",
        "def bernoulli_logpdf(logits, x):\n",
        "  \"\"\"Bernoulli log pdf of data x given logits.\"\"\"\n",
        "  return -np.sum(np.logaddexp(0., np.where(x, -1., 1.) * logits))\n",
        "\n",
        "def log_likelihood(decoder_params, latent, datapoint): # TODO\n",
        "  logits = decoder(decoder_params, latent)\n",
        "  return bernoulli_logpdf(logits, datapoint)\n",
        "\n",
        "def log_joint(decoder_params, latent, datapoint): # TODO\n",
        "  return log_prior(latent) + log_likelihood(decoder_params, latent, datapoint)\n",
        "\n",
        "# Run optimization\n",
        "optimizer=optimizers.adam\n",
        "optimizer_kwargs=dict(step_size=1e-2)\n",
        "n_iters = 5000\n",
        "minibatch_size = 200\n",
        "\n",
        "opt_init, opt_update, get_params = optimizer(**optimizer_kwargs)\n",
        "opt_state = opt_init((init_recognition_params, init_decoder_params))\n",
        "\n",
        "def objective(params, t):  # The loss function to be minimized.  \n",
        "  rng = random.PRNGKey(t)\n",
        "  minibatch_ixs = random.choice(rng, train_images.shape[0], (minibatch_size,))\n",
        "  minibatch = train_images[minibatch_ixs, :] # TODO\n",
        "  recognition_params, decoder_params =  params # TODO\n",
        "  return -batch_elbo( recognition_net, log_joint, recognition_params, \n",
        "                     decoder_params,  minibatch, rng) # TODO \n",
        "\n",
        "def callback(params, t):\n",
        "  if t % 100 == 0:\n",
        "    print(\"Iteration {} lower bound {}\".format(t, -objective(params, t)))\n",
        "\n",
        "@jit\n",
        "def update(i, opt_state):\n",
        "    params = get_params(opt_state) \n",
        "    gradient = grad(objective)(params, i)\n",
        "    return opt_update(i, gradient, opt_state)\n",
        "\n",
        "# Main loop.\n",
        "print(\"Optimizing variational parameters...\")\n",
        "for t in trange(0, n_iters):\n",
        "    opt_state = update(t, opt_state)\n",
        "    params = get_params(opt_state)\n",
        "    callback(params, t)\n",
        "\n",
        "recognition_params, decoder_params = params\n",
        "\n"
      ],
      "metadata": {
        "id": "bydpfpEjRnUL",
        "colab": {
          "base_uri": "https://localhost:8080/",
          "height": 933,
          "referenced_widgets": [
            "38e57dc332dc4811b41d44cc1649b96c",
            "173a577fb57048b5842bc2eb1987bb4a",
            "7011c38b34654e338d25521090563c82",
            "9ab3ff96f72942d69d4c6a686c2ff721",
            "5b39899a41924f55813b40c8876043a7",
            "65045cc898ef434fb60b520eb0bb5e66",
            "6a4474090ccf44fab195eb960fd242da",
            "a241ba7b1eec47ef9220256aafa3ddf8",
            "4882da2c1c2e434e99d1c0b1b31cd3f9",
            "a0d29c6e3db0496794b49b4380f1d865",
            "bec727d0382140808a6d15a95a01e18f"
          ]
        },
        "outputId": "51c6a134-6a5c-494d-c040-7fd721869985"
      },
      "execution_count": null,
      "outputs": [
        {
          "output_type": "stream",
          "name": "stdout",
          "text": [
            "Optimizing variational parameters...\n"
          ]
        },
        {
          "output_type": "display_data",
          "data": {
            "text/plain": [
              "  0%|          | 0/5000 [00:00<?, ?it/s]"
            ],
            "application/vnd.jupyter.widget-view+json": {
              "version_major": 2,
              "version_minor": 0,
              "model_id": "38e57dc332dc4811b41d44cc1649b96c"
            }
          },
          "metadata": {}
        },
        {
          "output_type": "stream",
          "name": "stdout",
          "text": [
            "Iteration 0 lower bound -527.3516235351562\n",
            "Iteration 100 lower bound -188.816162109375\n",
            "Iteration 200 lower bound -172.41029357910156\n",
            "Iteration 300 lower bound -156.2173309326172\n",
            "Iteration 400 lower bound -150.9478302001953\n",
            "Iteration 500 lower bound -137.84646606445312\n",
            "Iteration 600 lower bound -132.57666015625\n",
            "Iteration 700 lower bound -137.62147521972656\n",
            "Iteration 800 lower bound -132.09039306640625\n",
            "Iteration 900 lower bound -129.3946990966797\n",
            "Iteration 1000 lower bound -132.90394592285156\n",
            "Iteration 1100 lower bound -133.5973358154297\n",
            "Iteration 1200 lower bound -131.71351623535156\n",
            "Iteration 1300 lower bound -130.9739227294922\n",
            "Iteration 1400 lower bound -127.0537109375\n",
            "Iteration 1500 lower bound -128.01824951171875\n",
            "Iteration 1600 lower bound -129.9923858642578\n",
            "Iteration 1700 lower bound -133.63511657714844\n",
            "Iteration 1800 lower bound -130.558837890625\n",
            "Iteration 1900 lower bound -128.55099487304688\n",
            "Iteration 2000 lower bound -131.41729736328125\n",
            "Iteration 2100 lower bound -126.05873107910156\n",
            "Iteration 2200 lower bound -128.69979858398438\n",
            "Iteration 2300 lower bound -132.4259490966797\n",
            "Iteration 2400 lower bound -124.23821258544922\n",
            "Iteration 2500 lower bound -119.2503662109375\n",
            "Iteration 2600 lower bound -127.30493927001953\n",
            "Iteration 2700 lower bound -126.84379577636719\n",
            "Iteration 2800 lower bound -130.22882080078125\n",
            "Iteration 2900 lower bound -125.33099365234375\n",
            "Iteration 3000 lower bound -128.83004760742188\n",
            "Iteration 3100 lower bound -118.82095336914062\n",
            "Iteration 3200 lower bound -125.84209442138672\n",
            "Iteration 3300 lower bound -123.80040740966797\n",
            "Iteration 3400 lower bound -130.16677856445312\n",
            "Iteration 3500 lower bound -123.76915740966797\n",
            "Iteration 3600 lower bound -126.71652221679688\n",
            "Iteration 3700 lower bound -122.40228271484375\n",
            "Iteration 3800 lower bound -122.98990631103516\n",
            "Iteration 3900 lower bound -124.14833068847656\n",
            "Iteration 4000 lower bound -136.23509216308594\n",
            "Iteration 4100 lower bound -122.09780883789062\n",
            "Iteration 4200 lower bound -130.46548461914062\n",
            "Iteration 4300 lower bound -121.85836029052734\n",
            "Iteration 4400 lower bound -124.7385482788086\n",
            "Iteration 4500 lower bound -135.77487182617188\n",
            "Iteration 4600 lower bound -127.0544662475586\n",
            "Iteration 4700 lower bound -125.70443725585938\n",
            "Iteration 4800 lower bound -130.56182861328125\n",
            "Iteration 4900 lower bound -126.23341369628906\n"
          ]
        }
      ]
    },
    {
      "cell_type": "markdown",
      "source": [
        "**2.4) [5pts]** Implement the missing lines in the below code, to plot the transformed data points in the latent space.\n",
        "\n",
        "You will be using ancestral sampling:\t\n",
        "\n",
        "1.   First sample a z from the prior.\n",
        "2.   Use the generative model to compute the bernoulli means over the pixels of $x$ given $z$. \n",
        "3.   Plot these means (parameters) as a greyscale image.\n",
        "\n",
        "Do this for 25 samples z from the prior."
      ],
      "metadata": {
        "id": "Dk0GjGNOHEXc"
      }
    },
    {
      "cell_type": "code",
      "source": [
        "# Sample data from the trained generative model to see if it\n",
        "# roughly matches the data.\n",
        "\n",
        "def sigmoid(x):\n",
        "  # Maps logits to probabilities.\n",
        "  return 0.5 * (np.tanh(x) + 1.0)\n",
        "\n",
        "recognition_params, decoder_params = params\n",
        "\n",
        "sampled_zs = random.normal(key, (25, 20))  # TODO: Sample from prior on z.\n",
        "vdecoder = vmap(decoder, in_axes=(None, 0))\n",
        "bernoulli_means = sigmoid(decoder(decoder_params, sampled_zs)) # TODO: Call decoder, and map logits to probabilities.\n",
        "plot_images(bernoulli_means)"
      ],
      "metadata": {
        "id": "mYkNjM1Ufq9s",
        "colab": {
          "base_uri": "https://localhost:8080/",
          "height": 254
        },
        "outputId": "c4c45f88-d9d3-4535-e9e9-30d7352d8adf"
      },
      "execution_count": null,
      "outputs": [
        {
          "output_type": "display_data",
          "data": {
            "text/plain": [
              "<Figure size 432x288 with 1 Axes>"
            ],
            "image/png": "[encoded data removed]"
          },
          "metadata": {}
        }
      ]
    },
    {
      "cell_type": "markdown",
      "source": [
        "**2.5) [5pts]** Another way to examine a latent variable model with continuous latent variables is to interpolate between the latent representations of two points. Here we will encode 3 pairs of data points with different classes. Then we will linearly interpolate between the mean vectors of their encodings. We will plot the generative distributions along the linear interpolation.\n",
        "\n",
        "\n",
        "1.   First, write a function which takes two points $z_a$ and $z_b$, and a value $\\alpha \\in [0,1]$, and outputs the linear interpolation $z_\\alpha = \\alpha z_a + (1-\\alpha)z_b$.\n",
        "2.  Sample 3 pairs of images, each having a different class.\n",
        "3.  Encode the data in each pair, and take the mean vectors\n",
        "4.  Linearly interpolate between these mean vectors\n",
        "5.  At 10 equally-space points along the interpolation, plot the Bernoulli means $p(x|z_\\alpha)$.\n",
        "6.  Concatenate these plots into one figure."
      ],
      "metadata": {
        "id": "T_TLbol-Yrb2"
      }
    },
    {
      "cell_type": "code",
      "source": [
        "def plot_interp(ix1, ix2):\n",
        "  left_z = recognition_net(recognition_params, train_images[ix1, :])[0]\n",
        "  right_z = recognition_net(recognition_params, train_images[ix2, :])[0]\n",
        "  interp_weights = list(np.linspace(0.0, 1.0, 10))\n",
        "  #print(len(interp_weights))\n",
        "  #print(left_z.shape)\n",
        "\n",
        "  interp_zs = []\n",
        "  for i in range(10):\n",
        "    interp_zs.append(interp_weights[i]*left_z + (1-interp_weights[i])*right_z)  # TODO: Linearly interpolate between left_z and right_z.  Feel free to use a for loop.\n",
        "  bernoulli_means = sigmoid(decoder(decoder_params, np.array(interp_zs)))\n",
        "  plot_images(bernoulli_means)"
      ],
      "metadata": {
        "id": "1Wt6FylTfygq"
      },
      "execution_count": null,
      "outputs": []
    },
    {
      "cell_type": "code",
      "source": [
        "plot_interp(3, 11)"
      ],
      "metadata": {
        "id": "VwbJ00RLQ1aB",
        "colab": {
          "base_uri": "https://localhost:8080/",
          "height": 177
        },
        "outputId": "0aa88bde-5f60-451e-b2c3-6cdcdea5ab72"
      },
      "execution_count": null,
      "outputs": [
        {
          "output_type": "display_data",
          "data": {
            "text/plain": [
              "<Figure size 432x288 with 1 Axes>"
            ],
            "image/png": "[encoded data removed]"
          },
          "metadata": {}
        }
      ]
    },
    {
      "cell_type": "code",
      "source": [
        "plot_interp(11, 22)"
      ],
      "metadata": {
        "id": "i7IrTnLbQ3oD",
        "colab": {
          "base_uri": "https://localhost:8080/",
          "height": 177
        },
        "outputId": "ae246418-6c9b-4614-a37d-2c928a824d19"
      },
      "execution_count": null,
      "outputs": [
        {
          "output_type": "display_data",
          "data": {
            "text/plain": [
              "<Figure size 432x288 with 1 Axes>"
            ],
            "image/png": "[encoded data removed]"
          },
          "metadata": {}
        }
      ]
    },
    {
      "cell_type": "code",
      "source": [
        "plot_interp(32, 334)"
      ],
      "metadata": {
        "id": "m2R_U7-9Q46R",
        "colab": {
          "base_uri": "https://localhost:8080/",
          "height": 177
        },
        "outputId": "8cc9a5ca-7fdd-4356-efaa-84161fb799ed"
      },
      "execution_count": null,
      "outputs": [
        {
          "output_type": "display_data",
          "data": {
            "text/plain": [
              "<Figure size 432x288 with 1 Axes>"
            ],
            "image/png": "[encoded data removed]"
          },
          "metadata": {}
        }
      ]
    },
    {
      "cell_type": "markdown",
      "source": [
        "# Question 3: Predicting the Bottom of Images given the Top [15 points]\n",
        "\n",
        "Now we'll use the trained generative model to perform inference for $p(z|\\text{top half of image x})$.\n",
        "Unfortunately, we can't re-use our recognition network, since it can only input entire images.\n",
        "However, we can still do approximate inference without the encoder.\n",
        "\n",
        "To illustrate this, we'll approximately infer the distribution over the pixels in the bottom half an image conditioned on the top half of the image:\n",
        "$$p(\\text{bottom half of image x} | \\text{top half of image x}) = \\int p(\\text{bottom half of image x} | z) p( z | \\text{top half of image x}) dz$$\n",
        "To approximate the posterior $p( z | \\text{top half of image x})$, we'll use stochastic variational inference.\n",
        "\n",
        "To implement SVI again, feel free to either use your ELBO as defined above, with a recognition network that doesn't use the datapoint, or re-use your SVI code from previous assignments.\n",
        "\n",
        "\n",
        "[5 points] Write a function that computes $p(z, \\text{top half of image x})$\n",
        "\t\n",
        "* First, we provided a function which returns only the top half of an array. This will be useful for plotting, as well as selecting the correct Bernoulli parameters.\n",
        "* Write a function that computes $\\log p(\\text{top half of image x} | z)$. Hint: Given $z$, the likelihood factorizes, and all the unobserved dimensions of $x$ are leaf nodes, so can be integrated out exactly.\n",
        "* Combine this likelihood with the prior to get a function that takes an x and an array of $z$s, and computes $p(z, \\text{top half of image x})$ for each $z$ in the array.\n",
        "\n",
        "\n",
        "Now, to approximate $p(z | \\text{top half of image x})$ in a scalable way, we'll use stochastic variational inference.  For 4 digits of your choosing from the training set:\n",
        "\n",
        "Now, to approximate $p(z | \\text{top half of image x})$ in a scalable way, we'll use stochastic variational inference.  For a digit of your choosing from the training set:\n",
        "\n",
        "* Initialize variational parameters $\\phi_\\mu$ and $\\phi_{\\log \\sigma}$ for a variational distribution $q_\\phi(z|\\text{top half of $x$})$.\n",
        "* Write a function that computes estimates the ELBO over $K$ samples $z \\sim q_\\phi(z|\\text{top half of $x$})$.\n",
        "Use $\\log p(z)$, $\\log p(\\text{top half of $x$} | z)$, and $\\log q_\\phi(z|\\text{top half of $x$})$.\n",
        "* Optimize $\\phi_\\mu$ and $\\phi_{\\log \\sigma}$ to maximize the ELBO.\n",
        "* Finally, take a sample $z$ from your approximate posterior, and feed it to the decoder to find the Bernoulli means of $p( \\text{bottom half of image x}|z)$.  Contatenate this greyscale image to the true top of the image.\n",
        "Plot the original whole image beside it for comparison.\n"
      ],
      "metadata": {
        "id": "URnkdY_KQxdT"
      }
    },
    {
      "cell_type": "code",
      "source": [
        "def firsthalf(x):\n",
        "  D = np.shape(x)[-1]\n",
        "  return x[:(D // 2)]\n",
        "\n",
        "def secondhalf(x):\n",
        "  D = np.shape(x)[-1]\n",
        "  return x[(D // 2):]\n",
        "\n",
        "# Set up optimizer.\n",
        "stepsize = 0.0001\n",
        "num_samples_per_iter = 50\n",
        "\n",
        "def infer_bottom_half(ix):\n",
        "  datapoint = train_images[ix, :]\n",
        "\n",
        "  def log_likelihood_half(latent):\n",
        "    logits = decoder(decoder_params, latent)\n",
        "    return  bernoulli_logpdf(firsthalf(logits), firsthalf(datapoint))# TODO: Compute log probability of p(first half of image | z)\n",
        "\n",
        "  def log_joint_half(latent):\n",
        "    return  log_prior(latent) + log_likelihood_half(latent)# TODO: Compute log probability of p(first half of image, z)\n",
        "\n",
        "  def svi_elbo(logprob, rng, mean, log_std):\n",
        "    # Single-sample Monte Carlo estimate of the variational lower bound.\n",
        "    sample = diag_gaussian_sample(rng, mean, log_std)\n",
        "    return logprob(sample) - diag_gaussian_logpdf(sample, mean, log_std)\n",
        "\n",
        "  def batch_svi_elbo(logprob, rng, params, num_samples):\n",
        "    # Average over a batch of random samples. Use the vmap function for this part.\n",
        "    rngs = random.split(rng, num_samples)\n",
        "    vectorized_elbo = vmap(partial(svi_elbo, logprob), in_axes=(0, None, None))\n",
        "    return np.mean(vectorized_elbo(rngs, *params))\n",
        "\n",
        "  init_mean = np.zeros(latent_dimension) # TODO: How many variational parameters do you need for a single z?\n",
        "  init_std  = np.ones(latent_dimension)#random.normal(key, shape = [latent_dimension]) # TODO: How many variational parameters do you need for a single z?\n",
        "  init_params = (init_mean, init_std)\n",
        "  opt_init, opt_update, get_params = optimizers.momentum(step_size=stepsize, mass=0.9)\n",
        "  opt_state = opt_init(init_params)\n",
        "\n",
        "  def objective(params, t):\n",
        "    # The loss function to be minimized.\n",
        "    rng = random.PRNGKey(t)\n",
        " \n",
        "    return -batch_svi_elbo(log_joint_half, rng, params, num_samples_per_iter)# TODO:  What objective are you optimizing?\n",
        "\n",
        "  @jit\n",
        "  def update(i, opt_state):\n",
        "      svi_params = get_params(opt_state) \n",
        "      gradient = grad(objective)(svi_params, i)\n",
        "      return opt_update(i, gradient, opt_state)\n",
        "\n",
        "  def callback(params, t):\n",
        "    if t % 10 == 0:\n",
        "      print(\"Iteration {} lower bound {}\".format(t, -objective(params, t)))\n",
        "\n",
        "  # Main loop.\n",
        "  print(\"Optimizing variational parameters...\")\n",
        "  for t in trange(0, 100):\n",
        "      opt_state = update(t, opt_state)\n",
        "      svi_params = get_params(opt_state)\n",
        "      callback(svi_params, t)\n",
        "\n",
        "  (svi_mean, adsf) = svi_params\n",
        "\n",
        "  # Plotting code.\n",
        "  tophalf = np.concatenate([firsthalf(datapoint), 0.*firsthalf(datapoint)])\n",
        "  decoded = sigmoid(decoder(decoder_params, svi_mean))\n",
        "  combined = np.concatenate([firsthalf(datapoint), secondhalf(decoded)])\n",
        "  all = np.stack([datapoint, tophalf, decoded, combined], axis=1)\n",
        "  plot_images(all.T)"
      ],
      "metadata": {
        "id": "y3LHJ8WJQzJB"
      },
      "execution_count": null,
      "outputs": []
    },
    {
      "cell_type": "code",
      "source": [
        "infer_bottom_half(0)"
      ],
      "metadata": {
        "id": "Cxno2UOLS3Ar",
        "colab": {
          "base_uri": "https://localhost:8080/",
          "height": 335,
          "referenced_widgets": [
            "c13faf9d58b74155addefb598941f64b",
            "ec3513a3b5a54c83a99542e789e26e39",
            "00737333339047cbb378f7f52a624085",
            "554247db5df74b76896383f8cc48fc81",
            "6312285776264c23ad04327becb96a6a",
            "dfea029efc3c47f78b2d01b44c698254",
            "4e85633a74e44527809bf852e0e67091",
            "248a2e73b3234617a3f348bc7f28f636",
            "d01c13a73f46480882f6be3321679de6",
            "74a4806175674975a09983ef1130fd2e",
            "cc03374a19a446ebac7a605d9330afd5"
          ]
        },
        "outputId": "cf0c3fdb-d9ce-4278-c5da-d72f22736a6e"
      },
      "execution_count": null,
      "outputs": [
        {
          "output_type": "stream",
          "name": "stdout",
          "text": [
            "Optimizing variational parameters...\n"
          ]
        },
        {
          "output_type": "display_data",
          "data": {
            "text/plain": [
              "  0%|          | 0/100 [00:00<?, ?it/s]"
            ],
            "application/vnd.jupyter.widget-view+json": {
              "version_major": 2,
              "version_minor": 0,
              "model_id": "c13faf9d58b74155addefb598941f64b"
            }
          },
          "metadata": {}
        },
        {
          "output_type": "stream",
          "name": "stdout",
          "text": [
            "Iteration 0 lower bound -556.130126953125\n",
            "Iteration 10 lower bound -243.56288146972656\n",
            "Iteration 20 lower bound -158.01531982421875\n",
            "Iteration 30 lower bound -141.56103515625\n",
            "Iteration 40 lower bound -133.63070678710938\n",
            "Iteration 50 lower bound -128.1458740234375\n",
            "Iteration 60 lower bound -120.07862854003906\n",
            "Iteration 70 lower bound -118.6961898803711\n",
            "Iteration 80 lower bound -109.88902282714844\n",
            "Iteration 90 lower bound -104.61992645263672\n"
          ]
        },
        {
          "output_type": "display_data",
          "data": {
            "text/plain": [
              "<Figure size 432x288 with 1 Axes>"
            ],
            "image/png": "[encoded data removed]"
          },
          "metadata": {}
        }
      ]
    },
    {
      "cell_type": "code",
      "source": [
        "infer_bottom_half(1)"
      ],
      "metadata": {
        "id": "DCQJlkeiTfoD",
        "colab": {
          "base_uri": "https://localhost:8080/",
          "height": 335,
          "referenced_widgets": [
            "8b1f2d4d376941f6b6cf9fdc5338b1a2",
            "cec17637691747fa9cffd4bfd29cc6d7",
            "22b8cbf1f73d4bd0bbb03c3bd8d05b40",
            "a79e262c9b6f4f2090a9825d8c7c0a21",
            "f7fb3d9e7d04435eb1fb92207e1b48f6",
            "8957baa9684149af850057c403e28093",
            "f555e138b9a3485486ff486b3af21a6f",
            "c064ad773db246e1aeae8d6121eca101",
            "e00e4fc0fa944188a566a8b6a25412b7",
            "e24967d78d6d4e93aaf2fbdde6af030c",
            "15e1c3bfb68340c38646ed0e49896d6c"
          ]
        },
        "outputId": "fbfda9a1-8cb9-4725-b905-61531a5d70f0"
      },
      "execution_count": null,
      "outputs": [
        {
          "output_type": "stream",
          "name": "stdout",
          "text": [
            "Optimizing variational parameters...\n"
          ]
        },
        {
          "output_type": "display_data",
          "data": {
            "text/plain": [
              "  0%|          | 0/100 [00:00<?, ?it/s]"
            ],
            "application/vnd.jupyter.widget-view+json": {
              "version_major": 2,
              "version_minor": 0,
              "model_id": "8b1f2d4d376941f6b6cf9fdc5338b1a2"
            }
          },
          "metadata": {}
        },
        {
          "output_type": "stream",
          "name": "stdout",
          "text": [
            "Iteration 0 lower bound -708.5994873046875\n",
            "Iteration 10 lower bound -237.76109313964844\n",
            "Iteration 20 lower bound -131.55593872070312\n",
            "Iteration 30 lower bound -107.1948013305664\n",
            "Iteration 40 lower bound -102.45763397216797\n",
            "Iteration 50 lower bound -91.8404541015625\n",
            "Iteration 60 lower bound -81.05760192871094\n",
            "Iteration 70 lower bound -84.5405044555664\n",
            "Iteration 80 lower bound -75.22721099853516\n",
            "Iteration 90 lower bound -73.9075698852539\n"
          ]
        },
        {
          "output_type": "display_data",
          "data": {
            "text/plain": [
              "<Figure size 432x288 with 1 Axes>"
            ],
            "image/png": "[encoded data removed]"
          },
          "metadata": {}
        }
      ]
    },
    {
      "cell_type": "code",
      "source": [
        "infer_bottom_half(3)"
      ],
      "metadata": {
        "id": "Vwvs3V3aTivw",
        "colab": {
          "base_uri": "https://localhost:8080/",
          "height": 335,
          "referenced_widgets": [
            "8a708a1a46684332a94851515ec5411c",
            "7e654c3ee00b4d62b952dbf3d77973c3",
            "cbe077eb7c1642a48e22e23553f4d714",
            "951a5b663d0c4e0a902afb52bbae5087",
            "bd97548a06ff4af29fa01ad959cb981c",
            "9e3ea8cc2b3241ccaacc65d19e8c878b",
            "9e4d6d4c7bc444328aabf5e066071453",
            "d56c6df59a154ff696e493201ee6a38e",
            "06309f21d3994e4c92be1334557f773f",
            "f7c97cc58b9f47e89f42113644a0d5cc",
            "264d8e100f124e3ba69d82b1da850245"
          ]
        },
        "outputId": "f99d5cbd-7e54-480e-f0b2-d603ed258d4d"
      },
      "execution_count": null,
      "outputs": [
        {
          "output_type": "stream",
          "name": "stdout",
          "text": [
            "Optimizing variational parameters...\n"
          ]
        },
        {
          "output_type": "display_data",
          "data": {
            "text/plain": [
              "  0%|          | 0/100 [00:00<?, ?it/s]"
            ],
            "application/vnd.jupyter.widget-view+json": {
              "version_major": 2,
              "version_minor": 0,
              "model_id": "8a708a1a46684332a94851515ec5411c"
            }
          },
          "metadata": {}
        },
        {
          "output_type": "stream",
          "name": "stdout",
          "text": [
            "Iteration 0 lower bound -406.7630310058594\n",
            "Iteration 10 lower bound -214.96165466308594\n",
            "Iteration 20 lower bound -127.05549621582031\n",
            "Iteration 30 lower bound -117.50652313232422\n",
            "Iteration 40 lower bound -103.71297454833984\n",
            "Iteration 50 lower bound -93.53791046142578\n",
            "Iteration 60 lower bound -84.72664642333984\n",
            "Iteration 70 lower bound -80.54339599609375\n",
            "Iteration 80 lower bound -64.5810317993164\n",
            "Iteration 90 lower bound -60.76804733276367\n"
          ]
        },
        {
          "output_type": "display_data",
          "data": {
            "text/plain": [
              "<Figure size 432x288 with 1 Axes>"
            ],
            "image/png": "[encoded data removed]"
          },
          "metadata": {}
        }
      ]
    },
    {
      "cell_type": "code",
      "source": [
        "infer_bottom_half(110)"
      ],
      "metadata": {
        "id": "kzpO8wVhTltK",
        "colab": {
          "base_uri": "https://localhost:8080/",
          "height": 335,
          "referenced_widgets": [
            "d737b9fe96054da39ad20e48c3a676b6",
            "22cf158e980743a7b0a87becb6b63f46",
            "0def93cbc01d43ea88647a47655de396",
            "1e6e47eb78704f58b4f95a93c19fdac5",
            "65288adc66424ae5a60ce42539cccfb6",
            "a7915f8d1fdf4e69945da7a8c2fd1a0f",
            "894f31c1f76c4ca1be6893e4307476a7",
            "cd10d185bbb54a75b6a7e74b9151aacc",
            "49c357041f7042a0b7d8d0709fba7452",
            "5154e962b0cc468db5d14f09cec45ea2",
            "c4d227edf6c74750983853c806796381"
          ]
        },
        "outputId": "4452439f-629b-4a86-de49-090656432df9"
      },
      "execution_count": null,
      "outputs": [
        {
          "output_type": "stream",
          "name": "stdout",
          "text": [
            "Optimizing variational parameters...\n"
          ]
        },
        {
          "output_type": "display_data",
          "data": {
            "text/plain": [
              "  0%|          | 0/100 [00:00<?, ?it/s]"
            ],
            "application/vnd.jupyter.widget-view+json": {
              "version_major": 2,
              "version_minor": 0,
              "model_id": "d737b9fe96054da39ad20e48c3a676b6"
            }
          },
          "metadata": {}
        },
        {
          "output_type": "stream",
          "name": "stdout",
          "text": [
            "Iteration 0 lower bound -514.0439453125\n",
            "Iteration 10 lower bound -206.3329315185547\n",
            "Iteration 20 lower bound -143.85183715820312\n",
            "Iteration 30 lower bound -128.7851104736328\n",
            "Iteration 40 lower bound -122.94465637207031\n",
            "Iteration 50 lower bound -118.64434051513672\n",
            "Iteration 60 lower bound -108.56324005126953\n",
            "Iteration 70 lower bound -106.17854309082031\n",
            "Iteration 80 lower bound -95.03118896484375\n",
            "Iteration 90 lower bound -86.32587432861328\n"
          ]
        },
        {
          "output_type": "display_data",
          "data": {
            "text/plain": [
              "<Figure size 432x288 with 1 Axes>"
            ],
            "image/png": "[encoded data removed]"
          },
          "metadata": {}
        }
      ]
    },
    {
      "cell_type": "markdown",
      "source": [
        "# Q4 [10 points] Improving the model.\n",
        "\n",
        "Copy code from question 2.3 or any others above that you'd like.  Try making 3 different changes to the model, recognition network, or optimization setup and report the improvement in ELBO you get for each one.\n"
      ],
      "metadata": {
        "id": "nS8E9oy5TkQH"
      }
    },
    {
      "cell_type": "code",
      "source": [
        "# Leave a comment at the top of your code listing three changes and the improvement it made to the ELBO:\n",
        "# Change 1: For 2.3, change the dimension from 20 to 10 will improve: -113.09440612792969(after) v.s -126.23341369628906 (before)\n",
        "# Change 2: For Q3, change the step size from 0.0001 to 0.001 improve: -44.64609146118164(after) v.s -86.32587432861328 (before)\n",
        "# Change 3: For 2.3, change the nn layer from 150,50 to 250,100 and minibatch_size from 200 to 1024 will improve: -107.08313751220703(after) v.s -126.23341369628906 (before)\n"
      ],
      "metadata": {
        "id": "Ycb3QaILTlkK"
      },
      "execution_count": null,
      "outputs": []
    },
    {
      "cell_type": "code",
      "source": [
        "latent_dimension = 10\n",
        "# Feel free to copy code from above.\n",
        "\n",
        "# ==========================================\n",
        "# Define the recognition network.\n",
        "# We implement the functions as a split output of a 1-layer MLP\n",
        "# https://github.com/google/jax/blob/master/jax/experimental/README.md#neural-net-building-with-stax\n",
        "init_recognize, recognition_net = serial(\n",
        "    Dense(150),\n",
        "    Relu,\n",
        "    Dense(50),\n",
        "    Relu,\n",
        "    FanOut(2),\n",
        "    parallel(\n",
        "        Dense(latent_dimension),   # Output mean of q(z)\n",
        "        Dense(latent_dimension)    # Output log_std of q(z)\n",
        "        )\n",
        "    )\n",
        "_, init_recognition_params = init_recognize(rng, input_shape=(data_dimension,))  # TODO: What is the input dimension of the encoder?\n",
        "\n",
        "\n",
        "# Define the decoder network.\n",
        "init_decoder, decoder = serial(\n",
        "    Dense(150),\n",
        "    Relu,\n",
        "    Dense(50),\n",
        "    Relu,\n",
        "    Dense(data_dimension),    # TODO: Output logit of Ber(x|z)\n",
        ")\n",
        "_, init_decoder_params = init_decoder(rng, input_shape=(latent_dimension,))      # TODO: What is the input dimension of the decoder?\n",
        "\n",
        "\n",
        "# Set up log likelihood function.\n",
        "def bernoulli_logpdf(logits, x):\n",
        "  \"\"\"Bernoulli log pdf of data x given logits.\"\"\"\n",
        "  return -np.sum(np.logaddexp(0., np.where(x, -1., 1.) * logits))\n",
        "\n",
        "def log_likelihood(decoder_params, latent, datapoint): # TODO\n",
        "  logits = decoder(decoder_params, latent)\n",
        "  return bernoulli_logpdf(logits, datapoint)\n",
        "\n",
        "def log_joint(decoder_params, latent, datapoint): # TODO\n",
        "  return log_prior(latent) + log_likelihood(decoder_params, latent, datapoint)\n",
        "\n",
        "# Run optimization\n",
        "optimizer=optimizers.adam\n",
        "optimizer_kwargs=dict(step_size=1e-2)\n",
        "n_iters = 5000\n",
        "minibatch_size = 500\n",
        "\n",
        "opt_init, opt_update, get_params = optimizer(**optimizer_kwargs)\n",
        "opt_state = opt_init((init_recognition_params, init_decoder_params))\n",
        "\n",
        "def objective(params, t):  # The loss function to be minimized.  \n",
        "  rng = random.PRNGKey(t)\n",
        "  minibatch_ixs = random.choice(rng, train_images.shape[0], (minibatch_size,))\n",
        "  minibatch = train_images[minibatch_ixs, :] # TODO\n",
        "  recognition_params, decoder_params =  params # TODO\n",
        "  return -batch_elbo( recognition_net, log_joint, recognition_params, \n",
        "                     decoder_params,  minibatch, rng) # TODO \n",
        "\n",
        "def callback(params, t):\n",
        "  if t % 100 == 0:\n",
        "    print(\"Iteration {} lower bound {}\".format(t, -objective(params, t)))\n",
        "\n",
        "@jit\n",
        "def update(i, opt_state):\n",
        "    params = get_params(opt_state) \n",
        "    gradient = grad(objective)(params, i)\n",
        "    return opt_update(i, gradient, opt_state)\n",
        "\n",
        "# Main loop.\n",
        "print(\"Optimizing variational parameters...\")\n",
        "for t in trange(0, n_iters):\n",
        "    opt_state = update(t, opt_state)\n",
        "    params = get_params(opt_state)\n",
        "    callback(params, t)\n",
        "\n",
        "recognition_params, decoder_params = params"
      ],
      "metadata": {
        "colab": {
          "base_uri": "https://localhost:8080/",
          "height": 933,
          "referenced_widgets": [
            "8a3103074ccb4455bde5f19827c538c3",
            "a9c4ec20d7e1436f9cba0152a668991d",
            "30d140dea75c4415a2843764bff8c710",
            "7e989558b1a64469ada3d926e47a01f8",
            "b066121088a049f6aa19797138868e16",
            "6e80b62679764a66892a864330db66ba",
            "a42431d084bf4c15bc56fd1aa3ec51a0",
            "24ae587b17494813b607f65f8618a549",
            "12af447d09e746cbb01cb0af89398f2e",
            "a33463d284df46bd910af98b6f33d875",
            "7366c53f4dc94f4c9e4123c067ee4def"
          ]
        },
        "id": "cfzjU0Rw0DXE",
        "outputId": "7076df2d-f0ea-4126-9e8e-96cb78da595e"
      },
      "execution_count": null,
      "outputs": [
        {
          "output_type": "stream",
          "name": "stdout",
          "text": [
            "Optimizing variational parameters...\n"
          ]
        },
        {
          "output_type": "display_data",
          "data": {
            "text/plain": [
              "  0%|          | 0/5000 [00:00<?, ?it/s]"
            ],
            "application/vnd.jupyter.widget-view+json": {
              "version_major": 2,
              "version_minor": 0,
              "model_id": "8a3103074ccb4455bde5f19827c538c3"
            }
          },
          "metadata": {}
        },
        {
          "output_type": "stream",
          "name": "stdout",
          "text": [
            "Iteration 0 lower bound -529.1307983398438\n",
            "Iteration 100 lower bound -190.03663635253906\n",
            "Iteration 200 lower bound -165.83688354492188\n",
            "Iteration 300 lower bound -144.16493225097656\n",
            "Iteration 400 lower bound -134.4988250732422\n",
            "Iteration 500 lower bound -130.2458038330078\n",
            "Iteration 600 lower bound -124.07977294921875\n",
            "Iteration 700 lower bound -126.04078674316406\n",
            "Iteration 800 lower bound -124.24674224853516\n",
            "Iteration 900 lower bound -119.71519470214844\n",
            "Iteration 1000 lower bound -121.48280334472656\n",
            "Iteration 1100 lower bound -119.05420684814453\n",
            "Iteration 1200 lower bound -121.26195526123047\n",
            "Iteration 1300 lower bound -122.83734893798828\n",
            "Iteration 1400 lower bound -120.88201904296875\n",
            "Iteration 1500 lower bound -123.19976043701172\n",
            "Iteration 1600 lower bound -118.42344665527344\n",
            "Iteration 1700 lower bound -121.02867889404297\n",
            "Iteration 1800 lower bound -119.18782043457031\n",
            "Iteration 1900 lower bound -116.85061645507812\n",
            "Iteration 2000 lower bound -118.6563491821289\n",
            "Iteration 2100 lower bound -118.70784759521484\n",
            "Iteration 2200 lower bound -118.07533264160156\n",
            "Iteration 2300 lower bound -115.45307922363281\n",
            "Iteration 2400 lower bound -117.43199157714844\n",
            "Iteration 2500 lower bound -116.15707397460938\n",
            "Iteration 2600 lower bound -119.01077270507812\n",
            "Iteration 2700 lower bound -119.26791381835938\n",
            "Iteration 2800 lower bound -118.03036499023438\n",
            "Iteration 2900 lower bound -119.3008804321289\n",
            "Iteration 3000 lower bound -118.2257080078125\n",
            "Iteration 3100 lower bound -116.25191497802734\n",
            "Iteration 3200 lower bound -115.40178680419922\n",
            "Iteration 3300 lower bound -117.59765625\n",
            "Iteration 3400 lower bound -116.50135040283203\n",
            "Iteration 3500 lower bound -117.19095611572266\n",
            "Iteration 3600 lower bound -118.1764907836914\n",
            "Iteration 3700 lower bound -115.07162475585938\n",
            "Iteration 3800 lower bound -116.61848449707031\n",
            "Iteration 3900 lower bound -116.6835708618164\n",
            "Iteration 4000 lower bound -116.07747650146484\n",
            "Iteration 4100 lower bound -117.72266387939453\n",
            "Iteration 4200 lower bound -114.3798599243164\n",
            "Iteration 4300 lower bound -115.40995788574219\n",
            "Iteration 4400 lower bound -116.46627044677734\n",
            "Iteration 4500 lower bound -117.51001739501953\n",
            "Iteration 4600 lower bound -115.78803253173828\n",
            "Iteration 4700 lower bound -115.67989349365234\n",
            "Iteration 4800 lower bound -118.97451782226562\n",
            "Iteration 4900 lower bound -113.09440612792969\n"
          ]
        }
      ]
    },
    {
      "cell_type": "code",
      "source": [
        "def firsthalf(x):\n",
        "  D = np.shape(x)[-1]\n",
        "  return x[:(D // 2)]\n",
        "\n",
        "def secondhalf(x):\n",
        "  D = np.shape(x)[-1]\n",
        "  return x[(D // 2):]\n",
        "\n",
        "# Set up optimizer.\n",
        "stepsize = 0.001\n",
        "num_samples_per_iter = 50\n",
        "\n",
        "def infer_bottom_half(ix):\n",
        "  datapoint = train_images[ix, :]\n",
        "\n",
        "  def log_likelihood_half(latent):\n",
        "    logits = decoder(decoder_params, latent)\n",
        "    return  bernoulli_logpdf(firsthalf(logits), firsthalf(datapoint))# TODO: Compute log probability of p(first half of image | z)\n",
        "\n",
        "  def log_joint_half(latent):\n",
        "    return  log_prior(latent) + log_likelihood_half(latent)# TODO: Compute log probability of p(first half of image, z)\n",
        "\n",
        "  def svi_elbo(logprob, rng, mean, log_std):\n",
        "    # Single-sample Monte Carlo estimate of the variational lower bound.\n",
        "    sample = diag_gaussian_sample(rng, mean, log_std)\n",
        "    return logprob(sample) - diag_gaussian_logpdf(sample, mean, log_std)\n",
        "\n",
        "  def batch_svi_elbo(logprob, rng, params, num_samples):\n",
        "    # Average over a batch of random samples. Use the vmap function for this part.\n",
        "    rngs = random.split(rng, num_samples)\n",
        "    vectorized_elbo = vmap(partial(svi_elbo, logprob), in_axes=(0, None, None))\n",
        "    return np.mean(vectorized_elbo(rngs, *params))\n",
        "\n",
        "  init_mean = np.zeros(latent_dimension) # TODO: How many variational parameters do you need for a single z?\n",
        "  init_std  = np.ones(latent_dimension)#random.normal(key, shape = [latent_dimension]) # TODO: How many variational parameters do you need for a single z?\n",
        "  init_params = (init_mean, init_std)\n",
        "  opt_init, opt_update, get_params = optimizers.momentum(step_size=stepsize, mass=0.9)\n",
        "  opt_state = opt_init(init_params)\n",
        "\n",
        "  def objective(params, t):\n",
        "    # The loss function to be minimized.\n",
        "    rng = random.PRNGKey(t)\n",
        " \n",
        "    return -batch_svi_elbo(log_joint_half, rng, params, num_samples_per_iter)# TODO:  What objective are you optimizing?\n",
        "\n",
        "  @jit\n",
        "  def update(i, opt_state):\n",
        "      svi_params = get_params(opt_state) \n",
        "      gradient = grad(objective)(svi_params, i)\n",
        "      return opt_update(i, gradient, opt_state)\n",
        "\n",
        "  def callback(params, t):\n",
        "    if t % 10 == 0:\n",
        "      print(\"Iteration {} lower bound {}\".format(t, -objective(params, t)))\n",
        "\n",
        "  # Main loop.\n",
        "  print(\"Optimizing variational parameters...\")\n",
        "  for t in trange(0, 300):\n",
        "      opt_state = update(t, opt_state)\n",
        "      svi_params = get_params(opt_state)\n",
        "      callback(svi_params, t)\n",
        "\n",
        "  (svi_mean, adsf) = svi_params\n",
        "\n",
        "  # Plotting code.\n",
        "  tophalf = np.concatenate([firsthalf(datapoint), 0.*firsthalf(datapoint)])\n",
        "  decoded = sigmoid(decoder(decoder_params, svi_mean))\n",
        "  combined = np.concatenate([firsthalf(datapoint), secondhalf(decoded)])\n",
        "  all = np.stack([datapoint, tophalf, decoded, combined], axis=1)\n",
        "  plot_images(all.T)"
      ],
      "metadata": {
        "id": "h_XrYWgI7w4L"
      },
      "execution_count": null,
      "outputs": []
    },
    {
      "cell_type": "code",
      "source": [
        "infer_bottom_half(110)"
      ],
      "metadata": {
        "colab": {
          "base_uri": "https://localhost:8080/",
          "height": 682,
          "referenced_widgets": [
            "304187b285214521a5dea92117c6b81c",
            "8f73acd32e26414095fe99ae4e50aa5a",
            "9c625b9905144c0580d4de8adba7d2d4",
            "a1cb2343710b45d2bfbd3490c8f9bd37",
            "005974f91e784b8fa98354862fd43b5b",
            "a2f2fe83ef064d7abe24b04d11f2381a",
            "0c15fdc3b4274eadbabe64c13d6a6f5f",
            "fe492c185d1e40858f0e8b0bd5f08962",
            "b56ac738651640f896a520cef83f0fab",
            "359fd7ab90a64b698cc3ce746401bda1",
            "afde63cc38654598810b1f31715b1424"
          ]
        },
        "id": "2Ml9_oow71L7",
        "outputId": "50c94c1b-cfa2-44c1-ef37-15cea26cd01b"
      },
      "execution_count": null,
      "outputs": [
        {
          "output_type": "stream",
          "name": "stdout",
          "text": [
            "Optimizing variational parameters...\n"
          ]
        },
        {
          "output_type": "display_data",
          "data": {
            "text/plain": [
              "  0%|          | 0/300 [00:00<?, ?it/s]"
            ],
            "application/vnd.jupyter.widget-view+json": {
              "version_major": 2,
              "version_minor": 0,
              "model_id": "304187b285214521a5dea92117c6b81c"
            }
          },
          "metadata": {}
        },
        {
          "output_type": "stream",
          "name": "stdout",
          "text": [
            "Iteration 0 lower bound -475.212646484375\n",
            "Iteration 10 lower bound -128.42684936523438\n",
            "Iteration 20 lower bound -67.18605041503906\n",
            "Iteration 30 lower bound -53.93117904663086\n",
            "Iteration 40 lower bound -52.62990951538086\n",
            "Iteration 50 lower bound -50.94900894165039\n",
            "Iteration 60 lower bound -49.37904357910156\n",
            "Iteration 70 lower bound -48.85404586791992\n",
            "Iteration 80 lower bound -48.62701416015625\n",
            "Iteration 90 lower bound -48.366512298583984\n",
            "Iteration 100 lower bound -47.48505401611328\n",
            "Iteration 110 lower bound -47.49603271484375\n",
            "Iteration 120 lower bound -47.00888442993164\n",
            "Iteration 130 lower bound -46.31037521362305\n",
            "Iteration 140 lower bound -46.14251708984375\n",
            "Iteration 150 lower bound -46.22908020019531\n",
            "Iteration 160 lower bound -46.02981948852539\n",
            "Iteration 170 lower bound -45.286521911621094\n",
            "Iteration 180 lower bound -45.50845718383789\n",
            "Iteration 190 lower bound -45.48743438720703\n",
            "Iteration 200 lower bound -45.33551788330078\n",
            "Iteration 210 lower bound -44.92140579223633\n",
            "Iteration 220 lower bound -45.0574836730957\n",
            "Iteration 230 lower bound -44.639286041259766\n",
            "Iteration 240 lower bound -44.8616943359375\n",
            "Iteration 250 lower bound -44.75646209716797\n",
            "Iteration 260 lower bound -44.54566192626953\n",
            "Iteration 270 lower bound -44.55209732055664\n",
            "Iteration 280 lower bound -44.51920700073242\n",
            "Iteration 290 lower bound -44.64609146118164\n"
          ]
        },
        {
          "output_type": "display_data",
          "data": {
            "text/plain": [
              "<Figure size 432x288 with 1 Axes>"
            ],
            "image/png": "[encoded data removed]"
          },
          "metadata": {}
        }
      ]
    },
    {
      "cell_type": "code",
      "source": [
        "latent_dimension = 20\n",
        "# Feel free to copy code from above.\n",
        "\n",
        "# ==========================================\n",
        "# Define the recognition network.\n",
        "# We implement the functions as a split output of a 1-layer MLP\n",
        "# https://github.com/google/jax/blob/master/jax/experimental/README.md#neural-net-building-with-stax\n",
        "init_recognize, recognition_net = serial(\n",
        "    Dense(250),\n",
        "    Relu,\n",
        "    Dense(100),\n",
        "    Relu,\n",
        "    FanOut(2),\n",
        "    parallel(\n",
        "        Dense(latent_dimension),   # Output mean of q(z)\n",
        "        Dense(latent_dimension)    # Output log_std of q(z)\n",
        "        )\n",
        "    )\n",
        "_, init_recognition_params = init_recognize(rng, input_shape=(data_dimension,))  # TODO: What is the input dimension of the encoder?\n",
        "\n",
        "\n",
        "# Define the decoder network.\n",
        "init_decoder, decoder = serial(\n",
        "    Dense(250),\n",
        "    Relu,\n",
        "    Dense(100),\n",
        "    Relu,\n",
        "    Dense(data_dimension),    # TODO: Output logit of Ber(x|z)\n",
        ")\n",
        "_, init_decoder_params = init_decoder(rng, input_shape=(latent_dimension,))      # TODO: What is the input dimension of the decoder?\n",
        "\n",
        "\n",
        "# Set up log likelihood function.\n",
        "def bernoulli_logpdf(logits, x):\n",
        "  \"\"\"Bernoulli log pdf of data x given logits.\"\"\"\n",
        "  return -np.sum(np.logaddexp(0., np.where(x, -1., 1.) * logits))\n",
        "\n",
        "def log_likelihood(decoder_params, latent, datapoint): # TODO\n",
        "  logits = decoder(decoder_params, latent)\n",
        "  return bernoulli_logpdf(logits, datapoint)\n",
        "\n",
        "def log_joint(decoder_params, latent, datapoint): # TODO\n",
        "  return log_prior(latent) + log_likelihood(decoder_params, latent, datapoint)\n",
        "\n",
        "# Run optimization\n",
        "optimizer=optimizers.adam\n",
        "optimizer_kwargs=dict(step_size=1e-2)\n",
        "n_iters = 5000\n",
        "minibatch_size = 1024\n",
        "\n",
        "opt_init, opt_update, get_params = optimizer(**optimizer_kwargs)\n",
        "opt_state = opt_init((init_recognition_params, init_decoder_params))\n",
        "\n",
        "def objective(params, t):  # The loss function to be minimized.  \n",
        "  rng = random.PRNGKey(t)\n",
        "  minibatch_ixs = random.choice(rng, train_images.shape[0], (minibatch_size,))\n",
        "  minibatch = train_images[minibatch_ixs, :] # TODO\n",
        "  recognition_params, decoder_params =  params # TODO\n",
        "  return -batch_elbo( recognition_net, log_joint, recognition_params, \n",
        "                     decoder_params,  minibatch, rng) # TODO \n",
        "\n",
        "def callback(params, t):\n",
        "  if t % 100 == 0:\n",
        "    print(\"Iteration {} lower bound {}\".format(t, -objective(params, t)))\n",
        "\n",
        "@jit\n",
        "def update(i, opt_state):\n",
        "    params = get_params(opt_state) \n",
        "    gradient = grad(objective)(params, i)\n",
        "    return opt_update(i, gradient, opt_state)\n",
        "\n",
        "# Main loop.\n",
        "print(\"Optimizing variational parameters...\")\n",
        "for t in trange(0, n_iters):\n",
        "    opt_state = update(t, opt_state)\n",
        "    params = get_params(opt_state)\n",
        "    callback(params, t)\n",
        "\n",
        "recognition_params, decoder_params = params"
      ],
      "metadata": {
        "colab": {
          "base_uri": "https://localhost:8080/",
          "height": 933,
          "referenced_widgets": [
            "c531b04c19a24528bc608367dc67f477",
            "80065b2525464e28a27acd4efa87941a",
            "45ac8d3c48874b858ce028da9cdcd8ff",
            "691d410f04f344dbb727936ab49af8a3",
            "01164bfd908247bcaf384bee559154c4",
            "5ec8ab13df4b46db9331530c69909dfe",
            "5e7a58aa39234d829aa53a9bf4affcdf",
            "f12dcce26e254c5ea395bba25ce46044",
            "23dd0c08f9374a309d180bf43487a1cd",
            "3704763af3de4f96bb878e5a47905882",
            "2d33bf8f99de4652887f9da34c30ef60"
          ]
        },
        "id": "jg-EDpCYzYTX",
        "outputId": "e074efd9-5e64-4f23-8593-62ca3627fc37"
      },
      "execution_count": null,
      "outputs": [
        {
          "output_type": "stream",
          "name": "stdout",
          "text": [
            "Optimizing variational parameters...\n"
          ]
        },
        {
          "output_type": "display_data",
          "data": {
            "text/plain": [
              "  0%|          | 0/5000 [00:00<?, ?it/s]"
            ],
            "application/vnd.jupyter.widget-view+json": {
              "version_major": 2,
              "version_minor": 0,
              "model_id": "c531b04c19a24528bc608367dc67f477"
            }
          },
          "metadata": {}
        },
        {
          "output_type": "stream",
          "name": "stdout",
          "text": [
            "Iteration 0 lower bound -497.43316650390625\n",
            "Iteration 100 lower bound -188.64907836914062\n",
            "Iteration 200 lower bound -166.81683349609375\n",
            "Iteration 300 lower bound -146.78192138671875\n",
            "Iteration 400 lower bound -139.658203125\n",
            "Iteration 500 lower bound -134.125732421875\n",
            "Iteration 600 lower bound -127.62257385253906\n",
            "Iteration 700 lower bound -126.53623962402344\n",
            "Iteration 800 lower bound -123.7861099243164\n",
            "Iteration 900 lower bound -121.11114501953125\n",
            "Iteration 1000 lower bound -119.197265625\n",
            "Iteration 1100 lower bound -120.83375549316406\n",
            "Iteration 1200 lower bound -117.97410583496094\n",
            "Iteration 1300 lower bound -114.53524780273438\n",
            "Iteration 1400 lower bound -113.00057220458984\n",
            "Iteration 1500 lower bound -114.796630859375\n",
            "Iteration 1600 lower bound -114.19964599609375\n",
            "Iteration 1700 lower bound -112.84840393066406\n",
            "Iteration 1800 lower bound -113.21693420410156\n",
            "Iteration 1900 lower bound -111.92088317871094\n",
            "Iteration 2000 lower bound -112.79290771484375\n",
            "Iteration 2100 lower bound -110.2970199584961\n",
            "Iteration 2200 lower bound -112.25437927246094\n",
            "Iteration 2300 lower bound -109.90440368652344\n",
            "Iteration 2400 lower bound -109.680908203125\n",
            "Iteration 2500 lower bound -107.72695922851562\n",
            "Iteration 2600 lower bound -109.69916534423828\n",
            "Iteration 2700 lower bound -108.18272399902344\n",
            "Iteration 2800 lower bound -107.37562561035156\n",
            "Iteration 2900 lower bound -107.97010803222656\n",
            "Iteration 3000 lower bound -109.90856170654297\n",
            "Iteration 3100 lower bound -107.89513397216797\n",
            "Iteration 3200 lower bound -108.88742065429688\n",
            "Iteration 3300 lower bound -107.13008117675781\n",
            "Iteration 3400 lower bound -108.69613647460938\n",
            "Iteration 3500 lower bound -107.32806396484375\n",
            "Iteration 3600 lower bound -108.09959411621094\n",
            "Iteration 3700 lower bound -110.57664489746094\n",
            "Iteration 3800 lower bound -107.22283172607422\n",
            "Iteration 3900 lower bound -108.7176284790039\n",
            "Iteration 4000 lower bound -108.56543731689453\n",
            "Iteration 4100 lower bound -108.05635070800781\n",
            "Iteration 4200 lower bound -107.5341796875\n",
            "Iteration 4300 lower bound -107.0557861328125\n",
            "Iteration 4400 lower bound -106.35614013671875\n",
            "Iteration 4500 lower bound -109.11024475097656\n",
            "Iteration 4600 lower bound -105.75971221923828\n",
            "Iteration 4700 lower bound -107.79061126708984\n",
            "Iteration 4800 lower bound -105.74905395507812\n",
            "Iteration 4900 lower bound -107.08313751220703\n"
          ]
        }
      ]
    },
    {
      "cell_type": "markdown",
      "source": [
        "# Q5\n",
        "\n",
        "Please fill out the course evaluations. We would appreciate your feedback on the course materials, assignments, structure, delivery etc."
      ],
      "metadata": {
        "id": "MZfiOaXW97o7"
      }
    },
    {
      "cell_type": "code",
      "source": [],
      "metadata": {
        "id": "Jex0FQRucjHS"
      },
      "execution_count": null,
      "outputs": []
    }
  ]
}